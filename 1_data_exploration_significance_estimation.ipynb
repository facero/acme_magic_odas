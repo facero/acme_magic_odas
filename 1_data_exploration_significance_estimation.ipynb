{
 "cells": [
  {
   "cell_type": "markdown",
   "id": "98932f24",
   "metadata": {},
   "source": [
    "# 1. Data Exploration and Significance Estimation, Crab Nebula\n",
    "\n",
    "## 1.1. Context\n",
    "In this first tutorial we will consider the brightest steady gamma-ray source in the sky: the Crab Nebula.   \n",
    "Due to these properties, the source is considered a reference source in gamma-ray astronomy at very high energies (VHE, $E>100\\,{\\rm GeV}$).   \n",
    "We will explore the gamma-ray data, focusing on the list of events (i.e. individual gamma-ray photon detections), and then learn how to estimate the significance of the gamma-ray signal coming from the source.\n"
   ]
  },
  {
   "cell_type": "code",
   "execution_count": null,
   "id": "ab9815d9",
   "metadata": {},
   "outputs": [],
   "source": [
    "# - basic imports (numpy, astropy, regions, matplotlib)\n",
    "import numpy as np\n",
    "import astropy.units as u\n",
    "from astropy.coordinates import SkyCoord, Angle\n",
    "from regions import PointSkyRegion, CircleSkyRegion\n",
    "import matplotlib.pyplot as plt\n",
    "import logging\n",
    "import warnings\n",
    "\n",
    "# - Gammapy's imports\n",
    "from gammapy.maps import Map, MapAxis, WcsGeom, RegionGeom\n",
    "from gammapy.data import DataStore, Observation\n",
    "from gammapy.datasets import SpectrumDataset, Datasets\n",
    "from gammapy.estimators import FluxPointsEstimator\n",
    "from gammapy.stats import wstat, WStatCountsStatistic\n",
    "\n",
    "# - setting up logging and ignoring warnings\n",
    "logger = logging.getLogger(__name__)\n",
    "logger.setLevel(logging.INFO)\n",
    "warnings.filterwarnings(\"ignore\")"
   ]
  },
  {
   "cell_type": "markdown",
   "id": "322b0591",
   "metadata": {},
   "source": [
    "## 1.2. Data exploration\n",
    "\n",
    "Let us first take a look at the content of the high-level data. `Gammapy`'s `DataStore` will allow us to load all the data in a directory at once, that is all the Crab Nebula data for this case. Each file corresponds to a batch of data acquisition of roughly 20 minutes, that we call \"run\", and is represented by `Gammapy`'s `Observation` class.\n",
    "We require that certain properties of the instrument response function (IRF) are available: the maximum angular separation used for event selection (rad_max), the effective area (aeff), and the energy dispersion (edisp). See Sec. 1.4 for details on the latter two and Sec. 2.1.1 for the former."
   ]
  },
  {
   "cell_type": "code",
   "execution_count": null,
   "id": "fa06a681",
   "metadata": {},
   "outputs": [],
   "source": [
    "datastore = DataStore.from_dir(\"../acme_magic_odas_data/data/CrabNebula\")\n",
    "observations = datastore.get_observations(required_irf=[\"rad_max\", \"aeff\", \"edisp\"])\n",
    "print(len(observations))"
   ]
  },
  {
   "cell_type": "markdown",
   "id": "cdd277ea-2ba4-4644-aa7f-a28ef146788f",
   "metadata": {},
   "source": [
    "### 1.2.1. Event lists\n",
    "We have 98 runs in our Crab Nebula Dataset. Each run, or `Observation`, has two essential components: an **Event List**, and an **Insturment Response Function**. Let us focus on the first, for this tutorial. The event list is a table that contains, per each event classified as a gamma ray, essential information to perform astronomy: arrival time, sky coordinates, and energy. Let us look at the event list of the first observation."
   ]
  },
  {
   "cell_type": "code",
   "execution_count": null,
   "id": "9a33370f-a66b-4e10-89b7-601509bc6757",
   "metadata": {},
   "outputs": [],
   "source": [
    "events = observations[0].events\n",
    "events.table"
   ]
  },
  {
   "cell_type": "markdown",
   "id": "4b35b109-01c1-42dc-a488-680579a80011",
   "metadata": {},
   "source": [
    "Each column in the event list is stored as an [Astropy Quantity](https://docs.astropy.org/en/stable/units/quantity.html), meaning that the values carry explicit physical units (e.g. `events.energy` is an array of energies with the unit `TeV` attached). This allows safe unit conversions, which will be used later when plotting.\n",
    "\n",
    "Let us set aside the temporal information for the moment, and let us try to histogram the energy and coordinates to check their distribution."
   ]
  },
  {
   "cell_type": "code",
   "execution_count": null,
   "id": "75f14e2d-fca2-4578-a9ae-0c32d4ad4944",
   "metadata": {},
   "outputs": [],
   "source": [
    "# energy histogram\n",
    "energy_bins = np.logspace(1, 4, 20) * u.GeV\n",
    "\n",
    "fig, ax = plt.subplots()\n",
    "ax.hist(\n",
    "    events.energy.to(\"GeV\"),\n",
    "    bins=energy_bins,\n",
    ")\n",
    "ax.set_xlabel(r\"$E\\,/\\,{\\rm GeV}$\")\n",
    "ax.set_yscale(\"log\")\n",
    "ax.set_xscale(\"log\")\n",
    "plt.show()"
   ]
  },
  {
   "cell_type": "markdown",
   "id": "618c06ef-6c8e-4a26-94bc-27cc29cc43cf",
   "metadata": {},
   "source": [
    "We will see, in the next tutorial, how these type of histograms of events vs energy will play an important part in the spectrum estimation.   \n",
    "Let us now quickly plot the coordinates of all the events."
   ]
  },
  {
   "cell_type": "code",
   "execution_count": null,
   "id": "a49736c6-4b8d-4cd7-8a73-2f2984b3ea1d",
   "metadata": {},
   "outputs": [],
   "source": [
    "# coordinates plot\n",
    "fig, ax = plt.subplots()\n",
    "ax.plot(\n",
    "    events.radec.ra.degree,\n",
    "    events.radec.dec.degree,\n",
    "    marker=\".\",\n",
    "    ls=\"\",\n",
    "    color=\"C0\",\n",
    "    markersize=0.6,\n",
    "    label=\"events\",\n",
    ")\n",
    "ax.set_xlabel(r\"${\\rm R.A.}\\,/\\,{\\rm deg}$\")\n",
    "ax.set_ylabel(r\"${\\rm Dec}\\,/\\,{\\rm deg}$\")\n",
    "ax.grid(ls=\"--\")\n",
    "ax.legend()\n",
    "plt.show()"
   ]
  },
  {
   "cell_type": "markdown",
   "id": "51ae288b-376e-4abc-acbe-9644e8b8b84d",
   "metadata": {},
   "source": [
    "An excess of events appears around coordinates ${\\rm R.A.} \\sim 83.5^{\\circ}$ and Dec ${\\rm Dec} \\sim 22^{\\circ}$, very close to the coordinates of the Crab Nebula. Let us then add the coordinates of the Crab Nebula from [Simbad](https://simbad.u-strasbg.fr/simbad/sim-id?Ident=Crab+Nebula) in the plot."
   ]
  },
  {
   "cell_type": "code",
   "execution_count": null,
   "id": "bdcfb5bf-ac41-4a32-bb4d-649a5879e93e",
   "metadata": {},
   "outputs": [],
   "source": [
    "# - Crab Nebula Coordinates\n",
    "crab_coords = SkyCoord.from_name(\"Crab Nebula\")\n",
    "fig, ax = plt.subplots()\n",
    "ax.plot(\n",
    "    events.radec.ra.degree,\n",
    "    events.radec.dec.degree,\n",
    "    marker=\".\",\n",
    "    ls=\"\",\n",
    "    color=\"C0\",\n",
    "    markersize=0.6,\n",
    "    label=\"events\",\n",
    ")\n",
    "ax.plot(\n",
    "    crab_coords.ra.degree,\n",
    "    crab_coords.dec.degree,\n",
    "    marker=\"*\",\n",
    "    color=\"goldenrod\",\n",
    "    markeredgecolor=\"k\",\n",
    "    ls=\"\",\n",
    "    label=\"Crab Nebula\",\n",
    "    markersize=10,\n",
    ")\n",
    "ax.set_xlabel(r\"$R.A.\\,/\\,{\\rm deg}$\")\n",
    "ax.set_ylabel(r\"$Dec\\,/\\,{\\rm deg}$\")\n",
    "ax.grid(ls=\"--\")\n",
    "ax.legend()\n",
    "plt.show()"
   ]
  },
  {
   "cell_type": "markdown",
   "id": "72c26649",
   "metadata": {},
   "source": [
    "It appears that this _excess_ of events is indeed located around the source position. How could we estimate how many gamma rays are coming from the source?\n",
    "\n",
    "## 1.3. Estimating the significance of a signal\n",
    "Not all the events (i.e. not all the dots in the map) will correspond to gamma rays emitted from the source. Most of them will actually correspond to Cosmic-ray-induced showers misidentified as gamma rays. Therefore, if we were simply to estimate the _source_ events by drawing a small region - say a circle - around the source coordinates and counting all the events that fall within it, we would be counting also the Cosmic-ray _background_ together with the gamma-ray _signal_.\n",
    "\n",
    "One option to estimate this _background_ would be, for example, to choose a region far from the source and take a sample of events there. Where and how big does this background estimation region have to be? The answer is intrinsic to one of the most common observation modes of Imaging Air Cherenkov Telescopes (IACTs) such as MAGIC.\n",
    "\n",
    "### 1.3.1. Wobble-mode pointing\n",
    "The observation method known as _wobble mode_ consits in the telescopes tracking sky coordinates which are, for MAGIC, $0.4^{\\circ}$ from the source nominal position. This results in the source having a projected position in the camera plane $0.4^{\\circ}$ from its centre, which facilitates the background estimation, as we shall see in a minute.\n",
    "\n",
    "**A little note**: It is not adequate to plot celestial coordinates in a cartesian plane - as we did in the previous cell, as they are not Euclidean coordinates, rather coordinates on a sphere. Let us use `Gammapy` to handle the proper projection of coordinates on a plane. We will be creating a _sky map_, in particular a _count map_, that is, a 2D histogram of the coordinates of the events."
   ]
  },
  {
   "cell_type": "code",
   "execution_count": null,
   "id": "858a9156-7822-4988-bd0b-868b4b1a385c",
   "metadata": {},
   "outputs": [],
   "source": [
    "# let us center the skymap on the pointing position\n",
    "pointing_coords = observations[0].pointing.get_icrs()\n",
    "# the geometry is the structure of the map, the binning of the 2D histogram\n",
    "countmap_geom = WcsGeom.create(\n",
    "    skydir=pointing_coords, binsz=0.05, width=\"4 deg\", frame=\"icrs\", proj=\"TAN\"\n",
    ")\n",
    "counts = Map.from_geom(countmap_geom)\n",
    "# let us fill the histogram (will automatically read the coordinates of the events)\n",
    "counts.fill_events(events)\n",
    "# now let us plot the histogram\n",
    "ax = counts.plot(cmap=\"viridis\", add_cbar=True)\n",
    "wcs = counts.geom.wcs\n",
    "\n",
    "# let us also add the pointing position\n",
    "pointing = PointSkyRegion(pointing_coords)\n",
    "pointing.to_pixel(wcs).plot(\n",
    "    ax=ax, color=\"goldenrod\", marker=\"+\", markersize=15, label=\"pointing\"\n",
    ")\n",
    "\n",
    "ax.legend()\n",
    "ax.set_xlabel(r\"$R.A.$\")\n",
    "ax.set_ylabel(r\"$Dec$\")"
   ]
  },
  {
   "cell_type": "markdown",
   "id": "9825a2b5-1413-41ae-b8c9-1272b1143c2c",
   "metadata": {},
   "source": [
    "We can see that indeed the telescope was pointing at a slight offset from the source, visible from the yellowish hotspot in the histogram.   \n",
    "In order to start to estimate our signal, let us create a small circular region enclosing the source - let us call it _on_ region - and let us count all the events within. As already explained, this counts both gamma and cosmic-ray events. To subtract those, we estimate them from another region, that we refer to as _off_ region, identical in size and symmetric to the _on_ with respect to the camera centre. Let us draw these two regions."
   ]
  },
  {
   "cell_type": "code",
   "execution_count": null,
   "id": "12542ec6-a58e-4665-a4eb-238f0c3f15c0",
   "metadata": {},
   "outputs": [],
   "source": [
    "# radius of the ON and OFF regions\n",
    "region_radius = 0.2 * u.deg\n",
    "\n",
    "# ON region definition: centered around the source\n",
    "on_region = CircleSkyRegion(center=crab_coords, radius=region_radius)\n",
    "\n",
    "# the OFF region is symmetric to the on w.r.t. the camera centre\n",
    "# - compute the pointing offset and the source angle\n",
    "pointing_offset = pointing_coords.separation(crab_coords)\n",
    "source_angle = pointing_coords.position_angle(crab_coords)\n",
    "# - rotate the off by 180 degrees\n",
    "off_region_angle = source_angle + 180 * u.deg\n",
    "# - define the off\n",
    "off_region_centre = pointing_coords.directional_offset_by(\n",
    "    position_angle=off_region_angle, separation=pointing_offset\n",
    ")\n",
    "off_region = CircleSkyRegion(center=off_region_centre, radius=region_radius)\n",
    "\n",
    "# replot counts and pointing and add the ON and OFF region\n",
    "ax = counts.plot(cmap=\"viridis\", add_cbar=True)\n",
    "wcs = counts.geom.wcs\n",
    "\n",
    "pointing.to_pixel(wcs).plot(\n",
    "    ax=ax, color=\"goldenrod\", marker=\"+\", markersize=15, label=\"pointing\"\n",
    ")\n",
    "on_region.to_pixel(wcs).plot(ax=ax, edgecolor=\"crimson\", linewidth=2, label=\"on region\")\n",
    "off_region.to_pixel(wcs).plot(\n",
    "    ax=ax, edgecolor=\"dodgerblue\", linewidth=2, label=\"off region\"\n",
    ")\n",
    "\n",
    "ax.legend()\n",
    "ax.set_xlabel(r\"$R.A.$\")\n",
    "ax.set_ylabel(r\"$Dec$\")"
   ]
  },
  {
   "cell_type": "markdown",
   "id": "7c301152-5ca3-4caa-aa8e-ff21e6bdeebd",
   "metadata": {},
   "source": [
    "Gammapy offers a functionality to filter the events in a `SkyRegion`. Let us use it and count the events in the _on_ and _off_ regions.  \n",
    "**_Question 1.1_**: Could you guess why we stated that the _off_ region had to be symmetric to the _on_ w.r.t. to the camera center?"
   ]
  },
  {
   "cell_type": "code",
   "execution_count": null,
   "id": "707fc75c-79c8-41b1-b455-0364f97f0175",
   "metadata": {},
   "outputs": [],
   "source": [
    "on_events = events.select_region(on_region)\n",
    "N_on = len(on_events.table)\n",
    "off_events = events.select_region(off_region)\n",
    "N_off = len(off_events.table)\n",
    "\n",
    "print(f\"N_on = {N_on}, N_off = {N_off}\")"
   ]
  },
  {
   "cell_type": "markdown",
   "id": "96f98cc5-3b91-47ee-bdfe-c2f1ea9e3ba4",
   "metadata": {},
   "source": [
    "### 1.3.2. Computing the significance, the Li & Ma formula\n",
    "\n",
    "What do we do with these two numbers? What we are really interested in determining is whether the signal is real, or if this data could plausibly come from fluctuations of the background. How should we proceed about it?\n",
    "\n",
    "First of all, we assume that both the events in the _on_ and _off_ regions follow a Poisson distribution. If $g$, and $b$ represent the _expected number of signal and background events_, which we can’t observe directly but want to estimate, then we have\n",
    "\n",
    "$$\n",
    "P(g, b; N_{\\rm on}) = \\frac{(g + b)^{N_{\\rm on}} \\exp{[-(g + b)]}}{N_{\\rm on}!},\n",
    "\\quad \n",
    "P(b; N_{\\rm off}) = \\frac{b^{N_{\\rm off}} \\exp{(-b)}}{N_{\\rm off}!}.\n",
    "\\tag{1.1}\n",
    "$$\n",
    "\n",
    "If we estimate the background from more than one region, we can introduce the factor $\\alpha$ which is the ratio of the exposure (might mean area or also observation time) of the _on_ region to the exposure of the _off_ region. In this case, $b$ denotes the expected number of background events in all _off_ regions combined, and $\\alpha b$ gives the expected background in the _on_ region.\n",
    "If instead of using a single _off_ region as we did in our example, we had considered $3$ other circular regions (always symmetric from the centre), then we would have $\\alpha = 1/3$. In this case, we modify our probability for the _on_ events into\n",
    "$$\n",
    "P(g, b, \\alpha; N_{\\rm on}) = \\frac{(g + \\alpha b)^{N_{\\rm on}} \\exp{[-(g + \\alpha b)]}}{N_{\\rm on}!}.\n",
    "\\tag{1.2}\n",
    "$$\n",
    "\n",
    "From the two probabilities we can build the likelihood\n",
    "\n",
    "$$\n",
    "\\mathcal{L}(g, b, \\alpha \\,|\\, N_{\\rm on}, N_{\\rm off}) = P(g, b, \\alpha; N_{\\rm on}) \\times P(b; N_{\\rm off}),\n",
    "\\tag{1.3}\n",
    "$$\n",
    "\n",
    "for computations, especially for minimisation, it is common to use $-2$ the log of this quantity\n",
    "\n",
    "$$\n",
    "-2 \\log \\mathcal{L}(g, b, \\alpha \\,|\\, N_{\\rm on}, N_{\\rm off}) = \n",
    "2 \\left[ g + ( 1 + \\alpha) b - N_{\\rm on} \\log (g + \\alpha b) - N_{\\rm off} \\log(b)  \\right]\n",
    "\\tag{1.4}\n",
    "$$\n",
    "\n",
    "where we have removed constant terms (i.e. terms that do not depend on the parameters of interest $(g, b, \\alpha)$).    \n",
    "\n",
    "Let us suppose that in our observations we have measured $30$ events from $3$ _off_ regions and $20$ events in the _on_ region, and then plot the negative log-likelihood as a function of $g$ and $b$ to see where its minimum occurrs."
   ]
  },
  {
   "cell_type": "code",
   "execution_count": null,
   "id": "e19fffcb-4b4b-4ab3-b46d-0bc4a99cda24",
   "metadata": {},
   "outputs": [],
   "source": [
    "n_on = 20\n",
    "n_off = 30\n",
    "alpha = 1 / 3\n",
    "\n",
    "\n",
    "def minus_2_log_L(n_on, n_off, alpha, g, b):\n",
    "    return 2 * (g + (1 + alpha) * b - n_on * np.log(g + alpha * b) - n_off * np.log(b))\n",
    "\n",
    "\n",
    "g = np.linspace(0, 50, 51)\n",
    "b = np.linspace(0, 50, 51)\n",
    "b = b[:, np.newaxis]\n",
    "\n",
    "stats = minus_2_log_L(n_on=n_on, n_off=n_off, alpha=alpha, g=g, b=b)\n",
    "\n",
    "# plot the likelihood\n",
    "fig, ax = plt.subplots()\n",
    "CS = plt.contour(stats, 8, origin=\"lower\")\n",
    "ax.clabel(CS, fontsize=10)\n",
    "\n",
    "# - find the values of g and b corresponding to the minimum\n",
    "# and plot them\n",
    "index_stat_min = np.unravel_index(stats.argmin(), stats.shape)\n",
    "plt.plot(\n",
    "    index_stat_min[1],\n",
    "    index_stat_min[0],\n",
    "    marker=\"+\",\n",
    "    markersize=12,\n",
    "    color=\"k\",\n",
    "    label=\"minimum\",\n",
    ")\n",
    "\n",
    "ax.legend()\n",
    "ax.set_xlabel(r\"$g$\", fontsize=11)\n",
    "ax.set_ylabel(r\"$b$\", fontsize=11)\n",
    "ax.set_title(r\"$N_{\\rm on} = 20, \\; N_{\\rm on} = 30, \\alpha = 1/3$\")\n",
    "plt.show()"
   ]
  },
  {
   "cell_type": "markdown",
   "id": "900c445b-4926-4d70-9a5c-4e1b15403f1a",
   "metadata": {},
   "source": [
    "As we can see, the negative log of the likelihood has a minimum at $\\hat{b} = 30$, which correspond to the number of _off_ events,   \n",
    "and $\\hat{g} = 10$, which correspond to the number of estimated excess events\n",
    "$N_{\\rm ex} = N_{\\rm on} - \\alpha N_{\\rm off} = 10$. \n",
    "\n",
    "But instead of just finding the best-fit values of $g$ and $b$ by minimising the log-likelihood, our real goal is to test if the signal (i.e. $g$) is significantly different from $0$, or if it could simply be produced from fluctuations of the background ($b$). In other words, we want to test the null hypothesis $H_0: \\, g = 0$, against the alternative hypothesis $H_1: \\, g \\neq 0$. This can be done with the likelihood ratio test (LRT), referring to Eq. 1.4\n",
    "\n",
    "$$\n",
    "- 2 \\log \\left(\n",
    "\\frac{\n",
    "    \\mathcal{L}(g=0, \\hat{b}_0, \\alpha \\,|\\, N_{\\rm on}, N_{\\rm off})\n",
    "  }{\n",
    "    \\mathcal{L}(\\hat{g}, \\hat{b}, \\alpha \\,|\\, N_{\\rm on}, N_{\\rm off})\n",
    "}\n",
    "\\right),\n",
    "\\tag{1.5}\n",
    "$$\n",
    "\n",
    "where $\\hat{g}$ and $\\hat{b}$ are the values maximising the likelihood, and $\\hat{b}_0$ is the value maximising the likelihood under the null hypotehsis ($g = 0$).\n",
    "\n",
    "This LRT, according to Wilks' theorem, follows a $\\chi^2$ distribution with one degree of freedom ($\\chi_1^2$). As the square of a normal variable is also distributed as a $\\chi_1^2$, it is easy to \"translate\" the probability corresponding to the output of the LRT, to units of sigma (i.e. of std. deviations of a normal distribution). In particular, one just needs to take the square root of Eq. 1.5.\n",
    "\n",
    "Eq. 17 from [Li & Ma (1987)](https://ui.adsabs.harvard.edu/abs/1983ApJ...272..317L/abstract) returns the square root of the LRT in Eq. 1.5. It is the formula adopted in VHE astrophysics to claim the significance of a signal. The statistics at Eq. (1.4) is handled by `Gammapy`'s [`WStatCountsStatistics`](https://docs.gammapy.org/dev/api/gammapy.stats.WStatCountsStatistic.html#gammapy.stats.WStatCountsStatistic)."
   ]
  },
  {
   "cell_type": "code",
   "execution_count": null,
   "id": "02232adc-ac17-4401-bd4a-5c97f79cd2c7",
   "metadata": {},
   "outputs": [],
   "source": [
    "statistics = WStatCountsStatistic(n_on=20, n_off=30, alpha=1 / 3)\n",
    "# we can compute both the LRT\n",
    "print(f\"LRT = {statistics.ts:.2f}\")\n",
    "# and the corresponding probability in units of sigma\n",
    "print(f\"{statistics.sqrt_ts:.2f} sigma\")"
   ]
  },
  {
   "cell_type": "markdown",
   "id": "7ee91c04-01cb-4cce-b7d7-291889be7904",
   "metadata": {},
   "source": [
    "We see that, in the hypothetical case $N_{\\rm on} = 20, \\; N_{\\rm on} = 30, \\alpha = 1/3$, we do not have evidence to reject the reject the null nypothesis (no signal) with this result ($5$ sigma is the standard commonly considered to do so). But what about the actual numbers we found in our Crab Nebula observation?"
   ]
  },
  {
   "cell_type": "code",
   "execution_count": null,
   "id": "40d0e4eb-c06f-4bce-997e-ff854d3fdee3",
   "metadata": {},
   "outputs": [],
   "source": [
    "statistics = WStatCountsStatistic(n_on=N_on, n_off=N_off, alpha=1)\n",
    "# we can compute both the LRT\n",
    "print(f\"LRT = {statistics.ts:.2f}\")\n",
    "# and the corresponding probability in units of sigma\n",
    "print(f\"{statistics.sqrt_ts:.2f} sigma\")"
   ]
  },
  {
   "cell_type": "markdown",
   "id": "353cf86d-748b-4b38-8691-8b25ef46df4a",
   "metadata": {},
   "source": [
    "For the Crab Nebula observation we can conclude the null hypotehsis is statistically unlikely. For a source as bright as the Crab Nebula, even with just $20$ minutes of observations, we get a significant signal.\n",
    "\n",
    "### 1.3.3. $\\theta^2$ histogram\n",
    "\n",
    "Another common method to visualise the presence of a signal, and to compute its statistical significance, is to build a $\\theta^2$ histogram. Instead of simply counting the events in the _on_ and _off_ regions, we make a histogram of their squared angular distances from the region centres: source position for _on_, and the region-centres for _off_. To determine the quantities $N_{\\rm on}$ and $N_{\\rm off}$, we count all the bin values within a cut in $\\theta^2$ that is basically the size of the _on_ region squared. With this method one can nicely visualise the presence of the signal in the _on_ region, as the counts steadily increase as we approach the zero, that is the centre of the _on_ region that in turn corresponds to the source position.\n",
    "\n",
    "Let us build the $\\theta^2$ distribution, the squared angular distance between the event directions and the region centers.\n",
    "By plotting the histograms for the _on_ and _off_ regions, and their difference, we can see how the signal stands out above the background.\n"
   ]
  },
  {
   "cell_type": "code",
   "execution_count": null,
   "id": "b6fcfb2d-227c-41ec-b129-cf4bbe113e11",
   "metadata": {},
   "outputs": [],
   "source": [
    "# buil the theta2 distances\n",
    "# - compute the distances\n",
    "on_offsets = on_region.center.separation(events.radec)\n",
    "off_offsets = off_region.center.separation(events.radec)\n",
    "\n",
    "# - theta2 bins\n",
    "theta2_bins_edges = np.linspace(0, 0.4, 41) * u.Unit(\"deg2\")\n",
    "theta2_bins = 0.5 * (theta2_bins_edges[:-1] + theta2_bins_edges[1:])\n",
    "\n",
    "fig, ax = plt.subplots(1, 2, sharey=True, figsize=(10, 5), gridspec_kw={\"wspace\": 0.05})\n",
    "\n",
    "# on and off histograms\n",
    "on_cts, _, __ = ax[0].hist(\n",
    "    on_offsets**2,\n",
    "    bins=theta2_bins_edges,\n",
    "    histtype=\"step\",\n",
    "    color=\"crimson\",\n",
    "    label=\"on events\",\n",
    ")\n",
    "off_cts, _, __ = ax[0].hist(\n",
    "    off_offsets**2,\n",
    "    bins=theta2_bins_edges,\n",
    "    histtype=\"step\",\n",
    "    color=\"dodgerblue\",\n",
    "    label=\"off events\",\n",
    ")\n",
    "ax[0].axvline((region_radius**2).to_value(\"deg2\"), ls=\"--\", color=\"gray\")\n",
    "ax[0].text(\n",
    "    0.045, 130, r\"$\\theta^2$ cut (squared size of the on/off region)\", rotation=90\n",
    ")\n",
    "ax[0].set_xlabel(r\"$\\theta^2\\,/\\,{\\rm deg}^2$\")\n",
    "ax[0].set_ylabel(\"counts\")\n",
    "ax[0].set_ylim([0, 500])\n",
    "ax[0].legend()\n",
    "\n",
    "# excess histogram\n",
    "ex_cts, _, __ = ax[1].hist(\n",
    "    theta2_bins_edges[:-1],\n",
    "    theta2_bins_edges,\n",
    "    weights=(on_cts - off_cts),\n",
    "    histtype=\"step\",\n",
    "    color=\"k\",\n",
    "    label=\"(on - off) counts\",\n",
    ")\n",
    "ax[1].axvline((region_radius**2).to_value(\"deg2\"), ls=\"--\", color=\"gray\")\n",
    "ax[1].text(\n",
    "    0.045, 130, r\"$\\theta^2$ cut (squared size of the on/off region)\", rotation=90\n",
    ")\n",
    "ax[1].set_xlabel(r\"$\\theta^2\\,/\\,{\\rm deg}^2$\")\n",
    "ax[1].legend()\n",
    "\n",
    "plt.show()"
   ]
  },
  {
   "cell_type": "markdown",
   "id": "9fcf7b03",
   "metadata": {},
   "source": [
    "**Question 1.2**: Why an histogram of the distances **squared**?"
   ]
  },
  {
   "cell_type": "markdown",
   "id": "16d0066a-59cd-495a-8910-df788a295ce2",
   "metadata": {},
   "source": [
    "Let us check that by counting the events within the $\\theta^2$ cut, we obtain the same number that we obtained with the `select_region` functions applied on `Gammapy` event list."
   ]
  },
  {
   "cell_type": "code",
   "execution_count": null,
   "id": "1681b13a-aa76-427c-92d8-9d06e428cdf1",
   "metadata": {},
   "outputs": [],
   "source": [
    "n_on = np.sum(on_cts[theta2_bins <= region_radius**2])\n",
    "n_off = np.sum(off_cts[theta2_bins <= region_radius**2])\n",
    "\n",
    "print(f\"N_on = {n_on}, N_off = {n_off}\")"
   ]
  },
  {
   "cell_type": "markdown",
   "id": "ddbb2ace",
   "metadata": {},
   "source": [
    "### Exercise 1.1.\n",
    "\n",
    "Create a $\\theta^2$ plot using **all** the 98 observations in the Crab Nebula data set. What is the total significance of the signal?\n"
   ]
  },
  {
   "cell_type": "markdown",
   "id": "df011699-9f71-437f-9db2-4ce63f567c84",
   "metadata": {},
   "source": [
    "### Exercise 1.2.\n",
    "It might be useful to determine whether our source has significant emission above a certain energy.   \n",
    "The presence of gamma rays above a given energy can indeed directly be related to a certain energy of the parent cosmic rays. For example, in certain physical scenarios, the gamma-ray energy is approximately a factor 10 lower than the parent cosmic-ray energy. Thus, a source with gamma-ray emission up to $10\\,{\\rm TeV}$, would be accelerating cosmic rays to hundreds of ${\\rm TeV}$.\n",
    "\n",
    "Using **all** the 98 observations in the Crab Nebula data set, compute the significance of the emission above $1$ and $10$ ${\\rm TeV}$."
   ]
  },
  {
   "cell_type": "markdown",
   "id": "9f7a6228-a7b4-4c2a-82a2-b485a19c3bb9",
   "metadata": {},
   "source": [
    "## 1.4. Instrument response function \n",
    "\n",
    "The second important component of each `Observation` is the instrument response function (IRF).    \n",
    "This is a parametrisation of the response of the system to incoming gamma rays, expressed as a function of energy and coordinates.   \n",
    "The IRF is factored in _components_, representing the collection area and the probability distributions of the energy and direction estimators. They are built from Monte Carlo (MC) simulations, using histograms of simulated events after applying the same selection cuts as for the event list selection.\n",
    "\n",
    "If we are observing a small area of the sky, the spatial dependence of the IRF is more conveniently expressed as a function of the detector coordinates (offset from the camera centre) rather than in sky coordinates.\n",
    "\n",
    "Let us start by examining the _effective area_. We can see that there is no offset dependency. This is due to the fact that, since most MAGIC observation occurr with the source at $0.4^{\\circ}$ offset, the MC events are simulated accordingly."
   ]
  },
  {
   "cell_type": "code",
   "execution_count": null,
   "id": "702d1b60-da3a-46f4-9328-0f3cda70db73",
   "metadata": {},
   "outputs": [],
   "source": [
    "observations[0].aeff.plot()\n",
    "plt.show()"
   ]
  },
  {
   "cell_type": "markdown",
   "id": "990beb17-3b78-4f17-9328-0c30213f5870",
   "metadata": {},
   "source": [
    "As we only have energy dependence, we can then plot this energy dependence for each of the four offsets, which are identical in this case."
   ]
  },
  {
   "cell_type": "code",
   "execution_count": null,
   "id": "ddc72b48-39e2-4967-9b7c-73bc9d6d0bab",
   "metadata": {},
   "outputs": [],
   "source": [
    "observations[0].aeff.plot_energy_dependence()\n",
    "plt.yscale(\"log\")\n",
    "plt.show()"
   ]
  },
  {
   "cell_type": "markdown",
   "id": "04583643-daa5-4a0e-83fa-e6514603b127",
   "metadata": {},
   "source": [
    "The other important component is the _energy dispersion_, that represents the PDF of the energy estimator."
   ]
  },
  {
   "cell_type": "code",
   "execution_count": null,
   "id": "fcf4480d-4433-4610-9efe-ed19306972ac",
   "metadata": {},
   "outputs": [],
   "source": [
    "observations[0].edisp.to_edisp_kernel(offset=Angle(\"0.4 deg\")).plot_matrix()\n",
    "plt.show()"
   ]
  },
  {
   "cell_type": "markdown",
   "id": "e85f8d68-e75a-4093-bf5a-bdb2a5ceefc6",
   "metadata": {},
   "source": [
    "Given an event with a certain true energy ($x$ axis), we can visualise what is the most probable value at which its energy will be estimated ($y$ axis). We will see in detail in the next tutorial the role that the IRF plays in the spectrum estimation."
   ]
  },
  {
   "cell_type": "markdown",
   "id": "90deb3ac-8933-4a18-b8da-fba1d7c4f065",
   "metadata": {},
   "source": [
    "## 1.5 Before moving to the next tutorial\n",
    "Let us plot a histogram for the energies of the events in the _on_ and _off_ regions."
   ]
  },
  {
   "cell_type": "code",
   "execution_count": null,
   "id": "a6594ceb-07d7-4b85-a101-737b9116a0a1",
   "metadata": {},
   "outputs": [],
   "source": [
    "fig, ax = plt.subplots()\n",
    "ax.hist(\n",
    "    on_events.energy.to(\"GeV\"),\n",
    "    bins=energy_bins,\n",
    "    histtype=\"step\",\n",
    "    color=\"crimson\",\n",
    "    label=\"on events\",\n",
    ")\n",
    "ax.hist(\n",
    "    off_events.energy.to(\"GeV\"),\n",
    "    bins=energy_bins,\n",
    "    histtype=\"step\",\n",
    "    color=\"dodgerblue\",\n",
    "    label=\"off events\",\n",
    ")\n",
    "ax.set_xlabel(r\"$E\\,/\\,{\\rm GeV}$\")\n",
    "ax.set_yscale(\"log\")\n",
    "ax.set_xscale(\"log\")\n",
    "ax.legend()\n",
    "plt.show()"
   ]
  },
  {
   "cell_type": "markdown",
   "id": "c721c5d6-bb6a-44e3-869e-f1e02113cce8",
   "metadata": {},
   "source": [
    "### Homework 1.1.\n",
    "Could you make a similar histogram using **all** the 98 observations in the Crab Nebula data set?"
   ]
  }
 ],
 "metadata": {
  "kernelspec": {
   "display_name": "Python 3 (ipykernel)",
   "language": "python",
   "name": "python3"
  },
  "language_info": {
   "codemirror_mode": {
    "name": "ipython",
    "version": 3
   },
   "file_extension": ".py",
   "mimetype": "text/x-python",
   "name": "python",
   "nbconvert_exporter": "python",
   "pygments_lexer": "ipython3",
   "version": "3.11.12"
  }
 },
 "nbformat": 4,
 "nbformat_minor": 5
}
