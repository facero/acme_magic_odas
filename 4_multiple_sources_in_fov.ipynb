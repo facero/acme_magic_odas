{
 "cells": [
  {
   "cell_type": "markdown",
   "id": "0b4a2122",
   "metadata": {},
   "source": [
    "# 4. Analysis of two sources in the same field of view\n",
    "\n",
    "This notebook displays the most advanced capabilities of the one-dimensional analysis with DL3 data and `Gammapy` and is also a preview of the capability we would like to achieve with the three-dimensional analysis: to analyse several sources in the field of view at once. \n",
    "\n",
    "We will use observations of 1ES1218+304 gathered in 2018 and 2019 to analyse, using the same dataset, this source and 1ES1215+303, that sits in the same field of view. I want to showcase the important simplification of an analysis that, if performed with `MARS`, would have required a few iterations of `selectmc` and `flute`, as well as a careful check of the `flute` settings for the $\\theta^2$ cuts and for the position of the OFF regions (in order for them not to overlap with the second source in the field of view). These DL3 data were generated with diffuse MC covering $2.5^{\\circ}$ of offset.\n",
    "\n",
    "Special thanks to Axel (for the data) and Cornelia (for inspiration and advice on the analysis)."
   ]
  },
  {
   "cell_type": "code",
   "execution_count": null,
   "id": "27cf0db6",
   "metadata": {},
   "outputs": [],
   "source": [
    "import numpy as np\n",
    "import astropy.units as u\n",
    "from astropy.coordinates import SkyCoord\n",
    "from regions import PointSkyRegion, CircleSkyRegion\n",
    "import matplotlib.pyplot as plt\n",
    "import warnings\n",
    "\n",
    "from gammapy.maps import MapAxis, WcsGeom, RegionGeom\n",
    "from gammapy.data import DataStore, Observation\n",
    "from gammapy.modeling.models import (\n",
    "    PowerLawSpectralModel,\n",
    "    SkyModel,\n",
    ")\n",
    "from gammapy.modeling import Fit\n",
    "from gammapy.estimators import FluxPointsEstimator\n",
    "\n",
    "from plot_utils import plot_on_off_regions_skymap, plot_gammapy_sed\n",
    "from analysis_utils import make_spectrum_dataset\n",
    "\n",
    "warnings.filterwarnings(\"ignore\")"
   ]
  },
  {
   "cell_type": "markdown",
   "id": "68245c61",
   "metadata": {},
   "source": [
    "## 3.1. 1ES1215+303 analysis\n",
    "\n",
    "The observations, at least in this dataset, were conducted wobbling around the coordinates of 1ES1218+304, with the common offset of $0.4^{\\circ}$. This means that, for each of the wobbles (i.e. runs), 1ES1215+303 will sit at different position in the camera. To estimate the background for this source, we want to use OFF regions that are symmetric to the camera center. Not only, we want to be sure that none of this OFF regions will sit on top of 1ES1218+304, otherwise our background estimation will be spoiled. All of these is automatically accounted for by `Gammapy` in the data reduction. Compared to the previous data reduction, we have to specify an additional parameter: an **exclusion region** corresponding to the source that is not of our interest - 1ES1218+304, in this first case. This will prevent the OFF regions used for the background estimation of 1ES1215+303 to sit on 1ES1218+304."
   ]
  },
  {
   "cell_type": "code",
   "execution_count": null,
   "id": "32887ed7",
   "metadata": {},
   "outputs": [],
   "source": [
    "# coordinates of the two sources\n",
    "_1ES1215_coordinates = SkyCoord.from_name(\"1ES1215+303\", frame=\"icrs\")\n",
    "_1ES1218_coordinates = SkyCoord.from_name(\"1ES1218+304\", frame=\"icrs\")\n",
    "\n",
    "# center of the ON region\n",
    "on_center_1ES1215 = PointSkyRegion(_1ES1215_coordinates)\n",
    "\n",
    "# create an exclusion mask over 1ES1218+304, in order not to have overlapping OFF regions\n",
    "exclusion_region_1ES1218 = CircleSkyRegion(\n",
    "    center=_1ES1218_coordinates,\n",
    "    radius=0.2 * u.deg,\n",
    ")"
   ]
  },
  {
   "cell_type": "markdown",
   "id": "d468065a",
   "metadata": {},
   "source": [
    "For `Gammapy` to understand how the exclusion region a `Geometry` (a `WcsGeom`) has to be created. This is basically a skymap needed to convert the exclusion region in a set of pixels that can be then used to check whether the OFF regions (also converted into pixels in the skymap) overlap with it. We center our skymap on our source of interest: 1ES1215+303."
   ]
  },
  {
   "cell_type": "code",
   "execution_count": null,
   "id": "7474628f",
   "metadata": {},
   "outputs": [],
   "source": [
    "# create the geometry and add the energy axes\n",
    "# geometry to be used in all the skymaps\n",
    "skymap_geom_1ES1215 = WcsGeom.create(\n",
    "    skydir=_1ES1215_coordinates, binsz=0.05, width=\"5 deg\", frame=\"icrs\", proj=\"TAN\"\n",
    ")\n",
    "exclusion_mask_1ES1218 = ~skymap_geom_1ES1215.region_mask([exclusion_region_1ES1218])\n",
    "\n",
    "# define the energy axes\n",
    "energy_min = 10 * u.GeV\n",
    "energy_max = 1e5 * u.GeV\n",
    "n_energy_est_bins = 20\n",
    "n_energy_true_bins = 28\n",
    "\n",
    "energy_axis = MapAxis.from_energy_bounds(\n",
    "    energy_min,\n",
    "    energy_max,\n",
    "    n_energy_est_bins,\n",
    "    per_decade=False,\n",
    "    unit=\"GeV\",\n",
    "    name=\"energy\",\n",
    ")\n",
    "energy_true_axis = MapAxis.from_energy_bounds(\n",
    "    energy_min,\n",
    "    energy_max,\n",
    "    n_energy_true_bins,\n",
    "    per_decade=False,\n",
    "    unit=\"GeV\",\n",
    "    name=\"energy_true\",\n",
    ")\n",
    "\n",
    "# and the geometry of the ON region\n",
    "geom_on_region_1ES1215 = RegionGeom.create(region=on_center_1ES1215, axes=[energy_axis])\n",
    "# pick a number of OFF regions to be used\n",
    "n_off_regions = 2"
   ]
  },
  {
   "cell_type": "code",
   "execution_count": null,
   "id": "843eae59",
   "metadata": {},
   "outputs": [],
   "source": [
    "datastore = DataStore.from_dir(\"data/1ES1218+304/dl3\")\n",
    "observations = datastore.get_observations(required_irf=[\"rad_max\", \"aeff\", \"edisp\"])"
   ]
  },
  {
   "cell_type": "markdown",
   "id": "cce5829a",
   "metadata": {},
   "source": [
    "Notice that, having used diffuse MC, we have IRF components whose values also depends from the offset (in previous cases the offset dependence was just one thin offset bin centred on $0.4^{\\circ}$)."
   ]
  },
  {
   "cell_type": "code",
   "execution_count": null,
   "id": "de95c8a7",
   "metadata": {},
   "outputs": [],
   "source": [
    "observations[0].peek()"
   ]
  },
  {
   "cell_type": "markdown",
   "id": "0406e30c",
   "metadata": {},
   "source": [
    "I created a function, `plot_on_off_regions_skymap` in `plot_utils.py`, to illustrate how the positions of the two sources is changing in the camera frame and how we are placing the ON, OFF, and exclusion regions."
   ]
  },
  {
   "cell_type": "code",
   "execution_count": null,
   "id": "50ce6d00",
   "metadata": {},
   "outputs": [],
   "source": [
    "for observation in (observations[0], observations[2], observations[4]):\n",
    "    plot_on_off_regions_skymap(\n",
    "        observation=observation,\n",
    "        skymap_geom=skymap_geom_1ES1215,\n",
    "        source_coords=_1ES1215_coordinates,\n",
    "        exclusion_region_center=exclusion_region_1ES1218.center,\n",
    "        exclusion_region_radius=exclusion_region_1ES1218.radius,\n",
    "        n_off_regions=n_off_regions,\n",
    "        source_name=\"1ES1215+303\",\n",
    "        excluded_source_name=\"1ES1218+304\",\n",
    "    )"
   ]
  },
  {
   "cell_type": "code",
   "execution_count": null,
   "id": "205f0a4d",
   "metadata": {},
   "outputs": [],
   "source": [
    "dataset_1ES1215 = make_spectrum_dataset(\n",
    "    observations=observations,\n",
    "    n_off_regions=n_off_regions,\n",
    "    geom_on_region=geom_on_region_1ES1215,\n",
    "    energy_true_axis=energy_true_axis,\n",
    "    exclusion_mask=exclusion_mask_1ES1218,\n",
    ")"
   ]
  },
  {
   "cell_type": "code",
   "execution_count": null,
   "id": "3afed2a9",
   "metadata": {},
   "outputs": [],
   "source": [
    "# apply proper minimum and maximum energy for the fit, display the result\n",
    "e_min = 80 * u.GeV\n",
    "e_max = 20 * u.TeV\n",
    "dataset_1ES1215.mask_fit = dataset_1ES1215.counts.geom.energy_mask(e_min, e_max)\n",
    "dataset_1ES1215.peek()"
   ]
  },
  {
   "cell_type": "code",
   "execution_count": null,
   "id": "28be369f",
   "metadata": {},
   "outputs": [],
   "source": [
    "# perform the fit\n",
    "# choose the mode\n",
    "spectral_model_1ES1215 = PowerLawSpectralModel(\n",
    "    amplitude=1e-12 * u.Unit(\"cm-2 s-1 TeV-1\"),\n",
    "    index=2,\n",
    "    reference=200 * u.GeV,\n",
    ")\n",
    "model_1ES1215 = SkyModel(spectral_model=spectral_model_1ES1215, name=\"1ES1215+303\")\n",
    "# assign it\n",
    "dataset_1ES1215.models = [model_1ES1215]"
   ]
  },
  {
   "cell_type": "code",
   "execution_count": null,
   "id": "bf4bb272",
   "metadata": {},
   "outputs": [],
   "source": [
    "fit = Fit()\n",
    "results = fit.run(datasets=dataset_1ES1215)\n",
    "print(results)\n",
    "print(spectral_model_1ES1215)"
   ]
  },
  {
   "cell_type": "code",
   "execution_count": null,
   "id": "cb9b37da",
   "metadata": {},
   "outputs": [],
   "source": [
    "# compute flux points\n",
    "energy_edges = energy_axis.edges[4:-6]\n",
    "flux_points_estimator = FluxPointsEstimator(\n",
    "    energy_edges=energy_edges, source=\"1ES1215+303\", selection_optional=\"all\"\n",
    ")\n",
    "flux_points_1ES1215 = flux_points_estimator.run(datasets=dataset_1ES1215)"
   ]
  },
  {
   "cell_type": "code",
   "execution_count": null,
   "id": "ac29171e",
   "metadata": {},
   "outputs": [],
   "source": [
    "# make a plot of the spectrum\n",
    "fig, ax = plt.subplots()\n",
    "plot_gammapy_sed(\n",
    "    ax,\n",
    "    spectral_model_1ES1215,\n",
    "    flux_points_1ES1215,\n",
    "    e_min,\n",
    "    e_max,\n",
    "    \"crimson\",\n",
    "    \"1ES1215+303\",\n",
    ")\n",
    "ax.legend()\n",
    "plt.show()"
   ]
  },
  {
   "cell_type": "markdown",
   "id": "e2341ddc",
   "metadata": {},
   "source": [
    "## 3.1. 1ES1218+304 analysis\n",
    "\n",
    "We now analyse the source around which the wobble observations were performed, `1ES1218+304`. \n",
    "Now the OFF regions will always sit on a circle of radius $0.4^{\\circ}$, we just have to be sure, by using the exclusion region, none of them sits on `1ES1215+303`."
   ]
  },
  {
   "cell_type": "code",
   "execution_count": null,
   "id": "0de254f9",
   "metadata": {},
   "outputs": [],
   "source": [
    "# center of the ON region\n",
    "on_center_1ES1218 = PointSkyRegion(_1ES1218_coordinates)\n",
    "\n",
    "# create an exclusion mask over 1ES1215+303, in order not to have overlapping OFF regions\n",
    "exclusion_region_1ES1215 = CircleSkyRegion(\n",
    "    center=_1ES1215_coordinates,\n",
    "    radius=0.2 * u.deg,\n",
    ")"
   ]
  },
  {
   "cell_type": "code",
   "execution_count": null,
   "id": "d4aaa24e",
   "metadata": {},
   "outputs": [],
   "source": [
    "# create the geometry and add the energy axes\n",
    "# geometry to be used in all the skymaps\n",
    "skymap_geom_1ES1218 = WcsGeom.create(\n",
    "    skydir=_1ES1218_coordinates, binsz=0.05, width=\"5 deg\", frame=\"icrs\", proj=\"TAN\"\n",
    ")\n",
    "exclusion_mask_1ES1215 = ~skymap_geom_1ES1218.region_mask([exclusion_region_1ES1215])\n",
    "\n",
    "# the energy axes we have from before\n",
    "# and the geometry of the ON region\n",
    "geom_on_region_1ES1218 = RegionGeom.create(region=on_center_1ES1218, axes=[energy_axis])\n",
    "# pick a number of OFF regions to be used\n",
    "n_off_regions = 2"
   ]
  },
  {
   "cell_type": "markdown",
   "id": "69838e83",
   "metadata": {},
   "source": [
    "Let us check how the ON, OFF, and exclusion regions are arranged now."
   ]
  },
  {
   "cell_type": "code",
   "execution_count": null,
   "id": "d89efb5e",
   "metadata": {},
   "outputs": [],
   "source": [
    "for observation in (observations[0], observations[2], observations[4]):\n",
    "    plot_on_off_regions_skymap(\n",
    "        observation=observation,\n",
    "        skymap_geom=skymap_geom_1ES1218,\n",
    "        source_coords=_1ES1218_coordinates,\n",
    "        exclusion_region_center=exclusion_region_1ES1215.center,\n",
    "        exclusion_region_radius=exclusion_region_1ES1215.radius,\n",
    "        n_off_regions=n_off_regions,\n",
    "        source_name=\"1ES1218+304\",\n",
    "        excluded_source_name=\"1ES1215+303\",\n",
    "    )"
   ]
  },
  {
   "cell_type": "code",
   "execution_count": null,
   "id": "afde1ffd",
   "metadata": {},
   "outputs": [],
   "source": [
    "dataset_1ES1218 = make_spectrum_dataset(\n",
    "    observations=observations,\n",
    "    n_off_regions=n_off_regions,\n",
    "    geom_on_region=geom_on_region_1ES1218,\n",
    "    energy_true_axis=energy_true_axis,\n",
    "    exclusion_mask=exclusion_mask_1ES1215,\n",
    ")"
   ]
  },
  {
   "cell_type": "code",
   "execution_count": null,
   "id": "5309f9e7",
   "metadata": {},
   "outputs": [],
   "source": [
    "# apply proper minimum and maximum energy for the fit\n",
    "e_min = 80 * u.GeV\n",
    "e_max = 20 * u.TeV\n",
    "dataset_1ES1218.mask_fit = dataset_1ES1218.counts.geom.energy_mask(e_min, e_max)\n",
    "\n",
    "dataset_1ES1218.peek()"
   ]
  },
  {
   "cell_type": "code",
   "execution_count": null,
   "id": "bda615c8",
   "metadata": {},
   "outputs": [],
   "source": [
    "# assign the model\n",
    "spectral_model_1ES1218 = PowerLawSpectralModel(\n",
    "    amplitude=1e-12 * u.Unit(\"cm-2 s-1 TeV-1\"),\n",
    "    index=2,\n",
    "    reference=200 * u.GeV,\n",
    ")\n",
    "model_1ES1218 = SkyModel(spectral_model=spectral_model_1ES1218, name=\"1ES1218+304\")\n",
    "dataset_1ES1218.models = [model_1ES1218]"
   ]
  },
  {
   "cell_type": "code",
   "execution_count": null,
   "id": "277bb999",
   "metadata": {},
   "outputs": [],
   "source": [
    "fit = Fit()\n",
    "results = fit.run(datasets=dataset_1ES1218)\n",
    "print(results)\n",
    "print(spectral_model_1ES1218)"
   ]
  },
  {
   "cell_type": "code",
   "execution_count": null,
   "id": "bf6d7d4c",
   "metadata": {},
   "outputs": [],
   "source": [
    "# compute flux points\n",
    "energy_edges = energy_axis.edges[4:-6]\n",
    "flux_points_estimator = FluxPointsEstimator(\n",
    "    energy_edges=energy_edges, source=\"1ES1218+304\", selection_optional=\"all\"\n",
    ")\n",
    "flux_points_1ES1218 = flux_points_estimator.run(datasets=dataset_1ES1218)"
   ]
  },
  {
   "cell_type": "markdown",
   "id": "c439d98b",
   "metadata": {},
   "source": [
    "As a final step, we plot the spectra of the two sources together."
   ]
  },
  {
   "cell_type": "code",
   "execution_count": null,
   "id": "a755f857",
   "metadata": {},
   "outputs": [],
   "source": [
    "# make a plot of the spectrum\n",
    "fig, ax = plt.subplots()\n",
    "plot_gammapy_sed(\n",
    "    ax,\n",
    "    spectral_model_1ES1215,\n",
    "    flux_points_1ES1215,\n",
    "    e_min,\n",
    "    e_max,\n",
    "    \"crimson\",\n",
    "    \"1ES1215+303\",\n",
    ")\n",
    "plot_gammapy_sed(\n",
    "    ax,\n",
    "    spectral_model_1ES1218,\n",
    "    flux_points_1ES1218,\n",
    "    e_min,\n",
    "    e_max,\n",
    "    \"dodgerblue\",\n",
    "    \"1ES1218+304\",\n",
    ")\n",
    "ax.legend()\n",
    "plt.show()"
   ]
  }
 ],
 "metadata": {
  "kernelspec": {
   "display_name": "Python 3 (ipykernel)",
   "language": "python",
   "name": "python3"
  },
  "language_info": {
   "codemirror_mode": {
    "name": "ipython",
    "version": 3
   },
   "file_extension": ".py",
   "mimetype": "text/x-python",
   "name": "python",
   "nbconvert_exporter": "python",
   "pygments_lexer": "ipython3",
   "version": "3.11.12"
  }
 },
 "nbformat": 4,
 "nbformat_minor": 5
}
