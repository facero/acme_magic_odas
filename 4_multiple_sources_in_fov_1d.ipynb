{
 "cells": [
  {
   "cell_type": "markdown",
   "id": "0b4a2122",
   "metadata": {},
   "source": [
    "# 4. Analysis of two sources in the same field of view - 1D analysis\n",
    "\n",
    "## 4.1. Context\n",
    "This notebook displays the most advanced capabilities of the one-dimensional analysis with DL3 data and `Gammapy` and is also a preview of the capability we would like to achieve with the three-dimensional analysis: to analyse several sources in the field of view. We will use observations of the blazar [1ES1218+304](https://simbad.u-strasbg.fr/simbad/sim-id?Ident=1ES+1218%2B304&utm_source=chatgpt.com) gathered in 2018 and 2019. Using the same dataset, we also analyze the blazar [1ES1215+303](https://simbad.u-strasbg.fr/simbad/sim-id?Ident=1ES+1215%2B303&utm_source=chatgpt.com). These two sources are separated by only 0.8 degrees, which is smaller than the MAGIC field of view radius (1.5 degrees)."
   ]
  },
  {
   "cell_type": "code",
   "execution_count": null,
   "id": "27cf0db6",
   "metadata": {},
   "outputs": [],
   "source": [
    "# - basic imports (numpy, astropy, regions, matplotlib)\n",
    "from pathlib import Path\n",
    "import astropy.units as u\n",
    "from astropy.coordinates import SkyCoord\n",
    "from regions import PointSkyRegion, CircleSkyRegion\n",
    "import matplotlib.pyplot as plt\n",
    "import logging\n",
    "import warnings\n",
    "\n",
    "# - Gammapy's imports\n",
    "from gammapy.maps import MapAxis, WcsGeom, RegionGeom\n",
    "from gammapy.data import DataStore\n",
    "from gammapy.datasets import SpectrumDataset, Datasets\n",
    "from gammapy.makers import (\n",
    "    SpectrumDatasetMaker,\n",
    "    WobbleRegionsFinder,\n",
    "    ReflectedRegionsBackgroundMaker,\n",
    ")\n",
    "from gammapy.modeling.models import (\n",
    "    PowerLawSpectralModel,\n",
    "    SkyModel,\n",
    "    EBLAbsorptionNormSpectralModel,\n",
    ")\n",
    "from gammapy.modeling import Fit\n",
    "from gammapy.estimators import (\n",
    "    FluxPointsEstimator,\n",
    ")\n",
    "from plot_utils import plot_on_off_regions_skymap, plot_gammapy_sed\n",
    "\n",
    "# - setting up logging and ignoring warnings\n",
    "logger = logging.getLogger(__name__)\n",
    "logger.setLevel(logging.INFO)\n",
    "\n",
    "warnings.filterwarnings(\"ignore\")"
   ]
  },
  {
   "cell_type": "markdown",
   "id": "19b54cac-a4cf-4c43-88d4-7f4ba0b7a3c6",
   "metadata": {},
   "source": [
    "Let us load all the data first."
   ]
  },
  {
   "cell_type": "code",
   "execution_count": null,
   "id": "c8d9ad7c",
   "metadata": {},
   "outputs": [],
   "source": [
    "# load observations\n",
    "datastore = DataStore.from_dir(\"../acme_magic_odas_data/data/1ES1218+304/point_like/\")\n",
    "observations = datastore.get_observations(required_irf=[\"rad_max\", \"aeff\", \"edisp\"])"
   ]
  },
  {
   "cell_type": "markdown",
   "id": "82fe9e2d-024d-4a2c-b7e1-8a8e032fdaaa",
   "metadata": {},
   "source": [
    "## 4.2. 1ES1218+304 analysis\n",
    "\n",
    "The observations in this data set were performed wobbling around the coordinates of 1ES1218+304, with the standard offset (for MAGIC observations) of $0.4^{\\circ}$. Let us first compute the spectrum and the light curve for this source. As we saw in the previous notebooks, the _off_ regions are placed symmetrically to the _on_ region with respect to the camera center, so they will sit on a circle of radius $0.4^{\\circ}$ around it. There is something to be taken into account in this particular case, though. The source 1ES1215+303, an active gamma-ray emitter, sits in this very same field of view. We want to be sure that none of the _off_ regions coincides with 1ES1215+303, otherwise our background estimation would be contaminated by its gamma rays. All these processes are automatically accounted for by `Gammapy` in the data reduction.\n",
    "\n",
    "### 4.2.1. Sources, signal, background, and exclusion regions visualization\n",
    "\n",
    "Let us try to visualise the problem first. Let us plot a sky map for each of the wobble pointings, and mark on it the position of the source of intereset (1ES1218+304), the position of the other source in the field of view (1ES1215+303), and the _on_ and _off_ regions."
   ]
  },
  {
   "cell_type": "code",
   "execution_count": null,
   "id": "32887ed7",
   "metadata": {},
   "outputs": [],
   "source": [
    "# coordinates of the two sources\n",
    "_1ES1215_coordinates = SkyCoord.from_name(\"1ES1215+303\", frame=\"icrs\")\n",
    "_1ES1218_coordinates = SkyCoord.from_name(\"1ES1218+304\", frame=\"icrs\")\n",
    "\n",
    "# center of the ON region\n",
    "on_region_circle_1ES1218 = CircleSkyRegion(\n",
    "    center=_1ES1218_coordinates,\n",
    "    radius=0.2 * u.deg,\n",
    ")\n",
    "\n",
    "# create an exclusion mask over 1ES1215+303, in order not to have overlapping OFF regions\n",
    "exclusion_region_1ES1215 = CircleSkyRegion(\n",
    "    center=_1ES1215_coordinates,\n",
    "    radius=0.2 * u.deg,\n",
    ")\n",
    "\n",
    "# create the geometry for the skymaps\n",
    "# create also the energy axes needed for the geometry\n",
    "skymap_geom_1ES1218 = WcsGeom.create(\n",
    "    skydir=_1ES1218_coordinates, binsz=0.05, width=\"4 deg\", frame=\"icrs\", proj=\"TAN\"\n",
    ")"
   ]
  },
  {
   "cell_type": "markdown",
   "id": "38919e67-3441-44ca-bc17-25c2a645a4d1",
   "metadata": {},
   "source": [
    "I created a function, `plot_on_off_regions_skymap` in `plot_utils.py`, to illustrate how the positions of the two sources is changing in the camera frame and how we are placing the _on_, _off_, and exclusion regions. "
   ]
  },
  {
   "cell_type": "code",
   "execution_count": null,
   "id": "e6809e87-8fb9-4e71-abce-c50124869bfc",
   "metadata": {},
   "outputs": [],
   "source": [
    "for observation in (observations[0], observations[2], observations[5], observations[7]):\n",
    "    plot_on_off_regions_skymap(\n",
    "        observation=observation,\n",
    "        skymap_geom=skymap_geom_1ES1218,\n",
    "        on_region=on_region_circle_1ES1218,\n",
    "        exclusion_region=exclusion_region_1ES1215,\n",
    "        n_off_regions=3,\n",
    "        source_name=\"1ES1218+304\",\n",
    "        excluded_source_name=\"1ES1215+303\",\n",
    "    )"
   ]
  },
  {
   "cell_type": "markdown",
   "id": "1cdee9ee-1148-4a6b-86a2-25d34a399ae2",
   "metadata": {},
   "source": [
    "All the maps are centered on the source of interest (1ES1218+304). By looking at these four observations, we can cleary see how the telescope is \"wobbling\" around it. In the second-to-last observation plotted, we can clearly see the problem we were describing: one of the _off_ regions overalps with the second source (1ES1215+303). This will be accounted for in the data reduction, by creating an _exclusion mask_, let us do it.\n",
    "\n",
    "### 4.2.2. Spectrum extraction and fit\n",
    "\n",
    "Note that we will be using a different _on_ `Region` and a different `RegionGeom` w.r.t. those that we used to create the sky map.\n",
    "In particular, remember that if the $\\theta^2$ is defined in the `RAD_MAX` table, then the _on_ region must be a `PointSkyRegion` (its size will be taken from the `RAD_MAX` table).\n",
    "Also, we have to give an energy axis to the `RegionGeom`, as we will be extracting a spectrum."
   ]
  },
  {
   "cell_type": "code",
   "execution_count": null,
   "id": "df78f71b-6e8a-49a0-99e6-91ea439cd45a",
   "metadata": {},
   "outputs": [],
   "source": [
    "# before the Dataset creation, define the energy axes\n",
    "energy_min = 10 * u.GeV\n",
    "energy_max = 1e5 * u.GeV\n",
    "n_energy_est_bins = 20\n",
    "n_energy_true_bins = 28\n",
    "\n",
    "energy_axis = MapAxis.from_energy_bounds(\n",
    "    energy_min,\n",
    "    energy_max,\n",
    "    n_energy_est_bins,\n",
    "    per_decade=False,\n",
    "    unit=\"GeV\",\n",
    "    name=\"energy\",\n",
    ")\n",
    "energy_true_axis = MapAxis.from_energy_bounds(\n",
    "    energy_min,\n",
    "    energy_max,\n",
    "    n_energy_true_bins,\n",
    "    per_decade=False,\n",
    "    unit=\"GeV\",\n",
    "    name=\"energy_true\",\n",
    ")"
   ]
  },
  {
   "cell_type": "markdown",
   "id": "f36a0fa1",
   "metadata": {},
   "source": [
    "Compared to the previous data reduction, we have to specify an additional parameter when we compute the background: an **exclusion region** corresponding to the source that is not of our interest (1ES1215+303). We can create it as a circular region of radius 0.2 deg around its coordinates (which we already defined to plot the black star in the sky maps). We have to convert it to a pixel mask. We do so by _blacking out_ the pixels of the skymap geometry that fall within the exclusion region."
   ]
  },
  {
   "cell_type": "code",
   "execution_count": null,
   "id": "214e3f1b",
   "metadata": {},
   "outputs": [],
   "source": [
    "exclusion_mask_1ES1215 = ~skymap_geom_1ES1218.region_mask([exclusion_region_1ES1215])"
   ]
  },
  {
   "cell_type": "code",
   "execution_count": null,
   "id": "fd124c02-b142-4a53-a292-8fc4339285c6",
   "metadata": {},
   "outputs": [],
   "source": [
    "# use an on region that is now a PointSkyRegion\n",
    "on_region_point_1ES1218 = PointSkyRegion(_1ES1218_coordinates)\n",
    "# define the geometry for the spectrum extraction\n",
    "geom = RegionGeom.create(region=on_region_point_1ES1218, axes=[energy_axis])\n",
    "\n",
    "# create an empty dataset\n",
    "dataset_empty = SpectrumDataset.create(geom=geom, energy_axis_true=energy_true_axis)\n",
    "\n",
    "# dataset maker\n",
    "dataset_maker = SpectrumDatasetMaker(\n",
    "    containment_correction=False, selection=[\"counts\", \"exposure\", \"edisp\"]\n",
    ")\n",
    "# NOTE: use 2 off regions to avoid overlapping with the exclusion region\n",
    "region_finder = WobbleRegionsFinder(n_off_regions=2)\n",
    "# NOTE: remember to specify the exclusion region in the background maker\n",
    "bkg_maker = ReflectedRegionsBackgroundMaker(\n",
    "    region_finder=region_finder, exclusion_mask=exclusion_mask_1ES1215\n",
    ")\n",
    "\n",
    "datasets_1ES1218 = Datasets()\n",
    "\n",
    "for observation in observations:\n",
    "    dataset = dataset_maker.run(\n",
    "        dataset_empty.copy(name=str(observation.obs_id)), observation\n",
    "    )\n",
    "    dataset_on_off = bkg_maker.run(dataset, observation)\n",
    "    datasets_1ES1218.append(dataset_on_off)"
   ]
  },
  {
   "cell_type": "code",
   "execution_count": null,
   "id": "6b78ce87-b3cc-4f42-b226-ffbe63f826d2",
   "metadata": {},
   "outputs": [],
   "source": [
    "# let us stack the dataset for the spectrum computation\n",
    "dataset_1ES1218_stacked = datasets_1ES1218.stack_reduce()\n",
    "\n",
    "# set the proper energy range for fitting proper minimum and maximum energy for the fit, display the result\n",
    "e_min = 60 * u.GeV\n",
    "e_max = 10 * u.TeV\n",
    "dataset_1ES1218_stacked.mask_fit = dataset_1ES1218_stacked.counts.geom.energy_mask(\n",
    "    e_min, e_max\n",
    ")\n",
    "\n",
    "# let us ckeck what we produced\n",
    "dataset_1ES1218_stacked.peek()"
   ]
  },
  {
   "cell_type": "markdown",
   "id": "13b20778",
   "metadata": {},
   "source": [
    "Let us now try to fit the spectrum with a power law model."
   ]
  },
  {
   "cell_type": "code",
   "execution_count": null,
   "id": "377a2008-9b7e-4411-904e-f6d0aeff83c9",
   "metadata": {},
   "outputs": [],
   "source": [
    "# assign the model\n",
    "spectral_model_1ES1218 = PowerLawSpectralModel(\n",
    "    amplitude=1e-12 * u.Unit(\"cm-2 s-1 TeV-1\"),\n",
    "    index=2,\n",
    "    reference=200 * u.GeV,\n",
    ")\n",
    "# enlarge range of amplitude parameter\n",
    "# to facilitate UL computation\n",
    "spectral_model_1ES1218.parameters[\"amplitude\"].min = 1e-15\n",
    "spectral_model_1ES1218.parameters[\"amplitude\"].max = 1e-7\n",
    "\n",
    "# define a sky model\n",
    "model_1ES1218 = SkyModel(spectral_model=spectral_model_1ES1218, name=\"1ES1218+304\")\n",
    "dataset_1ES1218_stacked.models = [model_1ES1218]\n",
    "\n",
    "fit = Fit()\n",
    "results = fit.run(datasets=dataset_1ES1218_stacked)\n",
    "print(results)\n",
    "print(spectral_model_1ES1218)"
   ]
  },
  {
   "cell_type": "code",
   "execution_count": null,
   "id": "6471822d-fe81-4143-8ccb-2d91fd6d15fc",
   "metadata": {},
   "outputs": [],
   "source": [
    "# compute flux points\n",
    "energy_edges = energy_axis.edges[4:14]\n",
    "flux_points_estimator_1ES1218 = FluxPointsEstimator(\n",
    "    energy_edges=energy_edges, source=\"1ES1218+304\", selection_optional=\"all\"\n",
    ")\n",
    "flux_points_1ES1218 = flux_points_estimator_1ES1218.run(\n",
    "    datasets=dataset_1ES1218_stacked\n",
    ")"
   ]
  },
  {
   "cell_type": "code",
   "execution_count": null,
   "id": "8d370aa7-82d9-46ac-8d4c-583e0bb5e841",
   "metadata": {},
   "outputs": [],
   "source": [
    "# make a plot of the spectrum\n",
    "fig, ax = plt.subplots()\n",
    "plot_gammapy_sed(\n",
    "    ax,\n",
    "    spectral_model_1ES1218,\n",
    "    flux_points_1ES1218,\n",
    "    color=\"crimson\",\n",
    "    label=\"1ES1218+304\",\n",
    ")\n",
    "ax.legend()\n",
    "plt.show()"
   ]
  },
  {
   "cell_type": "markdown",
   "id": "46a55366-6b01-4499-bef6-d76a87c72355",
   "metadata": {},
   "source": [
    "Quite a steep spectrum: we have obtained an index of 3 (see `PowerLawSpectralModel` above). We also observe that the flux points don't fall exactly on top of the broad band model, as if there was more curvature to them.   \n",
    "We remember that on their way to Earth, gamma rays are absorbed by the Extragalactic Background Light (EBL), and this effect is more pronounced at higher energies. We can try to fit the spectrum with a power law model absorbed by the EBL, using one of the models implemented in `Gammapy`. Let us do it."
   ]
  },
  {
   "cell_type": "code",
   "execution_count": null,
   "id": "7cea5990-a3fc-46cc-8134-5e5a306492c2",
   "metadata": {},
   "outputs": [],
   "source": [
    "# Load the EBL model. Here we use the model from Dominguez, 2011\n",
    "redshift_1ES1218 = 0.182\n",
    "absorption_1ES1218 = EBLAbsorptionNormSpectralModel.read_builtin(\n",
    "    \"dominguez\", redshift=redshift_1ES1218\n",
    ")\n",
    "\n",
    "fig, ax = plt.subplots()\n",
    "absorption_1ES1218.plot(ax=ax, energy_bounds=[e_min, e_max])\n",
    "ax.set_ylim([1e-4, 2])\n",
    "plt.show()"
   ]
  },
  {
   "cell_type": "markdown",
   "id": "3789e5c4-12d0-4237-b506-5c01317b2f83",
   "metadata": {},
   "source": [
    "Quite a lot of absorption going on, already a factor 10 at 1 TeV!"
   ]
  },
  {
   "cell_type": "code",
   "execution_count": null,
   "id": "cdfae8c4-cfca-40e8-ab73-0cc8d56fc289",
   "metadata": {},
   "outputs": [],
   "source": [
    "# compute spectrum and spectral points\n",
    "absorbed_spectral_model_1ES1218 = spectral_model_1ES1218 * absorption_1ES1218\n",
    "# define a new sky model and assign it to the data\n",
    "absorbed_model_1ES1218 = SkyModel(\n",
    "    spectral_model=absorbed_spectral_model_1ES1218, name=\"1ES1218+304\"\n",
    ")\n",
    "dataset_1ES1218_stacked.models = [absorbed_model_1ES1218]\n",
    "\n",
    "# re-perform the forward folding\n",
    "results = fit.run(datasets=dataset_1ES1218_stacked)\n",
    "print(results)\n",
    "print(absorbed_model_1ES1218)\n",
    "\n",
    "# re-compute also flux points\n",
    "absorbed_flux_points_1ES1218 = flux_points_estimator_1ES1218.run(\n",
    "    datasets=dataset_1ES1218_stacked\n",
    ")\n",
    "# get the intrinsic ones, i.e. those without the absorption factor\n",
    "deabsorbed_flux_points_1ES1218 = absorbed_flux_points_1ES1218.copy(\n",
    "    reference_model=SkyModel(spectral_model=spectral_model_1ES1218)\n",
    ")"
   ]
  },
  {
   "cell_type": "markdown",
   "id": "61db5b8d",
   "metadata": {},
   "source": [
    "By fitting the spectrum with a model that accounts for the EBL absorption, we can now obtain an _intrinsic_ or _deabsorbed_ spectrum, i.e. an estimation of the actual flux emitted from the source.\n",
    "Let us plot both."
   ]
  },
  {
   "cell_type": "code",
   "execution_count": null,
   "id": "38a7cc71-8ca9-46b0-b305-3d8121067bcb",
   "metadata": {},
   "outputs": [],
   "source": [
    "# make a plot of the spectrum\n",
    "fig, ax = plt.subplots()\n",
    "plot_gammapy_sed(\n",
    "    ax,\n",
    "    spectral_model_1ES1218,\n",
    "    deabsorbed_flux_points_1ES1218,\n",
    "    \"crimson\",\n",
    "    \"1ES1218+304, intrinsic\",\n",
    ")\n",
    "plot_gammapy_sed(\n",
    "    ax,\n",
    "    absorbed_spectral_model_1ES1218,\n",
    "    absorbed_flux_points_1ES1218,\n",
    "    \"dodgerblue\",\n",
    "    \"1ES1218+304, absorbed\",\n",
    ")\n",
    "ax.legend()\n",
    "ax.set_ylim([1e-13, 1e-10])\n",
    "plt.show()"
   ]
  },
  {
   "cell_type": "markdown",
   "id": "24a731c5-095a-493e-b717-4fcf5e8d6baa",
   "metadata": {},
   "source": [
    "## 4.3. 1ES1215+303 analysis\n",
    "\n",
    "Would it be possible now to analyse the other blazar in the field (1ES1215+303) with the same dataset?   \n",
    "As we said before, the observations in this data set were conducted wobbling around the coordinates of 1ES1218+304,   \n",
    "This will imply that 1ES1215+303 will be observed at different offsets in the camera, depending on the wobble position.\n",
    "\n",
    "\n",
    "### 4.3.1. 1ES1215+303 projected coordinates and multi-offset IRFs\n",
    "Let us use the function `plot_source_camera_offsets` in `plot_utils.py` to visualize the position of 1ES1215+303 in the camera frame for each of the four wobble pointings.   \n",
    "Let us now also switch the roles of the two sources, and draw a circular exclusion region of radius 0.2 deg around 1ES1218+304, to avoid contamination from this source when estimating the background for 1ES1215+303."
   ]
  },
  {
   "cell_type": "code",
   "execution_count": null,
   "id": "7474628f",
   "metadata": {},
   "outputs": [],
   "source": [
    "# center of the ON region\n",
    "on_region_circle_1ES1215 = CircleSkyRegion(\n",
    "    center=_1ES1215_coordinates,\n",
    "    radius=0.2 * u.deg,\n",
    ")\n",
    "\n",
    "# create an exclusion mask over 1ES1218+304, in order not to have overlapping OFF regions\n",
    "exclusion_region_1ES1218 = CircleSkyRegion(\n",
    "    center=_1ES1218_coordinates,\n",
    "    radius=0.2 * u.deg,\n",
    ")\n",
    "\n",
    "# create the geometry and add the energy axes\n",
    "# geometry to be used in all the skymaps\n",
    "skymap_geom_1ES1215 = WcsGeom.create(\n",
    "    skydir=_1ES1215_coordinates, binsz=0.05, width=\"5 deg\", frame=\"icrs\", proj=\"TAN\"\n",
    ")\n",
    "exclusion_mask_1ES1218 = ~skymap_geom_1ES1215.region_mask([exclusion_region_1ES1218])\n",
    "\n",
    "n_off_regions = 3"
   ]
  },
  {
   "cell_type": "code",
   "execution_count": null,
   "id": "50ce6d00",
   "metadata": {},
   "outputs": [],
   "source": [
    "for observation in (observations[0], observations[2], observations[5], observations[7]):\n",
    "    plot_on_off_regions_skymap(\n",
    "        observation=observation,\n",
    "        skymap_geom=skymap_geom_1ES1215,\n",
    "        on_region=on_region_circle_1ES1215,\n",
    "        exclusion_region=exclusion_region_1ES1218,\n",
    "        n_off_regions=3,\n",
    "        source_name=\"1ES1215+303\",\n",
    "        excluded_source_name=\"1ES1218+304\",\n",
    "    )"
   ]
  },
  {
   "cell_type": "markdown",
   "id": "c4852893-eec6-497d-be4e-89bec12304e7",
   "metadata": {},
   "source": [
    "What is clear, is that, per each of the wobble pointings, 1ES1215+303 sits at a different offset from the camera center.\n",
    "Let compute these offsets."
   ]
  },
  {
   "cell_type": "code",
   "execution_count": null,
   "id": "2e173d9e-04d0-47d3-9c78-31d80e4e5fca",
   "metadata": {},
   "outputs": [],
   "source": [
    "offsets = []\n",
    "for obs in (observations[0], observations[2], observations[5], observations[7]):\n",
    "    offset = obs.pointing.get_icrs().separation(_1ES1215_coordinates)\n",
    "    offsets.append(offset)\n",
    "\n",
    "offsets.sort()\n",
    "\n",
    "print(f\"offsets = {offsets}\")"
   ]
  },
  {
   "cell_type": "markdown",
   "id": "4035fe74-a4d2-49c5-9081-50f372071555",
   "metadata": {},
   "source": [
    "As in the first notebook, the IRFs that we have been using up to now are computed for a single offset: the source's separation from the camera center (0.4 deg, as that is the standard offset of most MAGIC observations). \n",
    "\n",
    "These _single-offset_ IRF is no longer useful for this new case, as we need to know the response of our system at different offsets. For such cases, MAGIC produces _multi-offset_ IRFs, that is IRFs computed at several offsets from the camera center. `Gammapy` is able to handle these multi-offset IRFs and to interpolate them at the required offset. Let us check, using the effective area, that the offsets we computed for 1ES1215+303 are indeed included in the multi-offset IRFs that we have in our DL3 data."
   ]
  },
  {
   "cell_type": "code",
   "execution_count": null,
   "id": "7ee09c4c-3428-4dd1-a630-6b5da87145ed",
   "metadata": {},
   "outputs": [],
   "source": [
    "observations[0].aeff.plot();"
   ]
  },
  {
   "cell_type": "code",
   "execution_count": null,
   "id": "04de8d44-5dd9-4149-b45b-41d6ef83d1c3",
   "metadata": {},
   "outputs": [],
   "source": [
    "observations[0].aeff.plot_energy_dependence(offset=offsets)\n",
    "plt.yscale(\"log\")"
   ]
  },
  {
   "cell_type": "markdown",
   "id": "cb0b6354-5f11-4f8f-adf6-ec0d1286bf05",
   "metadata": {},
   "source": [
    "### 4.3.2. 1ES1215+303 Spectrum extraction and fit\n",
    "At the data reduction level, the only difference w.r.t. the previous analysis is that the definition of the exclusion mask now has to be centered on 1ES1218+304. The rest of the analysis is exactly the same as before. `Gammapy` will take care of interpolating the IRFs at the required offsets for each of the runs."
   ]
  },
  {
   "cell_type": "code",
   "execution_count": null,
   "id": "0fc52219-1c72-4e5e-95d6-e10108a57a11",
   "metadata": {},
   "outputs": [],
   "source": [
    "# use an on region that is now a PointSkyRegion\n",
    "on_region_point_1ES1215 = PointSkyRegion(_1ES1215_coordinates)\n",
    "geom = RegionGeom.create(region=on_region_point_1ES1215, axes=[energy_axis])\n",
    "dataset_empty = SpectrumDataset.create(geom=geom, energy_axis_true=energy_true_axis)\n",
    "\n",
    "dataset_maker = SpectrumDatasetMaker(\n",
    "    containment_correction=False, selection=[\"counts\", \"exposure\", \"edisp\"]\n",
    ")\n",
    "# use 2 off regions to avoid overlapping with the exclusion region\n",
    "region_finder = WobbleRegionsFinder(n_off_regions=2)\n",
    "# NOTE: remember to specify the background maker in the exclusion region\n",
    "bkg_maker = ReflectedRegionsBackgroundMaker(\n",
    "    region_finder=region_finder, exclusion_mask=exclusion_mask_1ES1218\n",
    ")\n",
    "\n",
    "datasets_1ES1215 = Datasets()\n",
    "\n",
    "for observation in observations:\n",
    "    dataset = dataset_maker.run(\n",
    "        dataset_empty.copy(name=str(observation.obs_id)), observation\n",
    "    )\n",
    "    dataset_on_off = bkg_maker.run(dataset, observation)\n",
    "    datasets_1ES1215.append(dataset_on_off)"
   ]
  },
  {
   "cell_type": "code",
   "execution_count": null,
   "id": "3afed2a9",
   "metadata": {},
   "outputs": [],
   "source": [
    "# let us stack the dataset for the spectrum computation\n",
    "dataset_1ES1215_stacked = datasets_1ES1215.stack_reduce()\n",
    "\n",
    "# set the proper energy range for fitting proper minimum and maximum energy for the fit, display the result\n",
    "e_min = 60 * u.GeV\n",
    "e_max = 10 * u.TeV\n",
    "dataset_1ES1215_stacked.mask_fit = dataset_1ES1215_stacked.counts.geom.energy_mask(\n",
    "    e_min, e_max\n",
    ")\n",
    "\n",
    "dataset_1ES1215_stacked.peek()"
   ]
  },
  {
   "cell_type": "markdown",
   "id": "a156777f",
   "metadata": {},
   "source": [
    "Let us directly take into account the EBL absorption in this case."
   ]
  },
  {
   "cell_type": "code",
   "execution_count": null,
   "id": "9c2693a7-7187-418f-bb18-93460dcc45a1",
   "metadata": {},
   "outputs": [],
   "source": [
    "# assign the model\n",
    "spectral_model_1ES1215 = PowerLawSpectralModel(\n",
    "    amplitude=1e-12 * u.Unit(\"cm-2 s-1 TeV-1\"),\n",
    "    index=2,\n",
    "    reference=200 * u.GeV,\n",
    ")\n",
    "# enlarge range of amplitude parameter\n",
    "# to facilitate UL computation\n",
    "spectral_model_1ES1215.parameters[\"amplitude\"].min = 1e-15\n",
    "spectral_model_1ES1215.parameters[\"amplitude\"].max = 1e-7\n",
    "\n",
    "# Load the EBL model. Here we use the model from Dominguez, 2011\n",
    "redshift_1ES1215 = 0.131\n",
    "absorption_1ES1215 = EBLAbsorptionNormSpectralModel.read_builtin(\n",
    "    \"dominguez\", redshift=redshift_1ES1215\n",
    ")\n",
    "\n",
    "absorbed_spectral_model_1ES1215 = spectral_model_1ES1215 * absorption_1ES1215\n",
    "\n",
    "# define a sky model\n",
    "model_1ES1215 = SkyModel(\n",
    "    spectral_model=absorbed_spectral_model_1ES1215, name=\"1ES1215+303\"\n",
    ")\n",
    "dataset_1ES1215_stacked.models = [model_1ES1215]\n",
    "\n",
    "fit = Fit()\n",
    "results = fit.run(datasets=dataset_1ES1215_stacked)\n",
    "print(results)\n",
    "absorbed_spectral_model_1ES1215.parameters.to_table()"
   ]
  },
  {
   "cell_type": "code",
   "execution_count": null,
   "id": "a0e7e70d-c267-43e7-ab97-35ba76fbe466",
   "metadata": {},
   "outputs": [],
   "source": [
    "# compute flux points\n",
    "energy_edges = energy_axis.edges[5:13]\n",
    "flux_points_estimator_1ES1215 = FluxPointsEstimator(\n",
    "    energy_edges=energy_edges, source=\"1ES1215+303\", selection_optional=\"all\"\n",
    ")\n",
    "absorbed_flux_points_1ES1215 = flux_points_estimator_1ES1215.run(\n",
    "    datasets=dataset_1ES1215_stacked\n",
    ")\n",
    "# get the intrinsic ones, i.e. those without the absorption factor\n",
    "deabsorbed_flux_points_1ES1215 = absorbed_flux_points_1ES1215.copy(\n",
    "    reference_model=SkyModel(spectral_model=spectral_model_1ES1215)\n",
    ")"
   ]
  },
  {
   "cell_type": "markdown",
   "id": "2f65340d",
   "metadata": {},
   "source": [
    "Let us now plot both sources with their respective absorbed and intrinsic spectra."
   ]
  },
  {
   "cell_type": "code",
   "execution_count": null,
   "id": "ba03f771",
   "metadata": {},
   "outputs": [],
   "source": [
    "fig, ax = plt.subplots()\n",
    "\n",
    "plot_gammapy_sed(\n",
    "    ax,\n",
    "    absorbed_spectral_model_1ES1218,\n",
    "    absorbed_flux_points_1ES1218,\n",
    "    \"crimson\",\n",
    "    \"1ES1218+304, absorbed\",\n",
    ")\n",
    "plot_gammapy_sed(\n",
    "    ax,\n",
    "    spectral_model_1ES1218,\n",
    "    deabsorbed_flux_points_1ES1218,\n",
    "    \"rosybrown\",\n",
    "    \"1ES1218+304, intrinsic\",\n",
    ")\n",
    "\n",
    "plot_gammapy_sed(\n",
    "    ax,\n",
    "    absorbed_spectral_model_1ES1215,\n",
    "    absorbed_flux_points_1ES1215,\n",
    "    \"dodgerblue\",\n",
    "    \"1ES1215+303, absorbed\",\n",
    ")\n",
    "plot_gammapy_sed(\n",
    "    ax,\n",
    "    spectral_model_1ES1215,\n",
    "    deabsorbed_flux_points_1ES1215,\n",
    "    \"lightskyblue\",\n",
    "    \"1ES1215+303, intrinsic\",\n",
    ")\n",
    "\n",
    "ax.set_xlim([60, 2e4])\n",
    "ax.legend()\n",
    "plt.show()"
   ]
  },
  {
   "cell_type": "markdown",
   "id": "887dfe83",
   "metadata": {},
   "source": [
    "Let us save the best-fit models and the flux points to disk for use in the next tutorial."
   ]
  },
  {
   "cell_type": "code",
   "execution_count": null,
   "id": "75b70013",
   "metadata": {},
   "outputs": [],
   "source": [
    "results_dir_1ES1218 = Path(\"results/1ES1218+304\")\n",
    "results_dir_1ES1218.mkdir(exist_ok=True, parents=True)\n",
    "\n",
    "results_dir_1ES1215 = Path(\"results/1ES1215+303\")\n",
    "results_dir_1ES1215.mkdir(exist_ok=True, parents=True)\n",
    "\n",
    "dataset_1ES1218_stacked.models.write(\n",
    "    results_dir_1ES1218 / \"model_1ES1218+304.yaml\", overwrite=True\n",
    ")\n",
    "dataset_1ES1215_stacked.models.write(\n",
    "    results_dir_1ES1215 / \"model_1ES1215+303.yaml\", overwrite=True\n",
    ")\n",
    "\n",
    "absorbed_flux_points_1ES1215.write(\n",
    "    results_dir_1ES1215 / \"flux_points_1ES1215+303.fits\",\n",
    "    sed_type=\"e2dnde\",\n",
    "    overwrite=True,\n",
    ")\n",
    "absorbed_flux_points_1ES1218.write(\n",
    "    results_dir_1ES1218 / \"flux_points_1ES1218+304.fits\",\n",
    "    sed_type=\"e2dnde\",\n",
    "    overwrite=True,\n",
    ")"
   ]
  },
  {
   "cell_type": "markdown",
   "id": "578b5436",
   "metadata": {},
   "source": [
    "### Exercise 4.1.\n",
    "Fit the spectrum of 1ES1218+303 with a log parabola model absorbed by the EBL. Is the fit better than with a simple power law?"
   ]
  },
  {
   "cell_type": "markdown",
   "id": "fe7dc096",
   "metadata": {},
   "source": [
    "### Exercise 4.2. (homework)\n",
    "Compute the light curve of both sources. Which one is more variable?"
   ]
  }
 ],
 "metadata": {
  "kernelspec": {
   "display_name": "gammapy-1.3",
   "language": "python",
   "name": "python3"
  },
  "language_info": {
   "codemirror_mode": {
    "name": "ipython",
    "version": 3
   },
   "file_extension": ".py",
   "mimetype": "text/x-python",
   "name": "python",
   "nbconvert_exporter": "python",
   "pygments_lexer": "ipython3",
   "version": "3.11.12"
  }
 },
 "nbformat": 4,
 "nbformat_minor": 5
}
