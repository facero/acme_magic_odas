{
 "cells": [
  {
   "cell_type": "markdown",
   "id": "3a06de0c",
   "metadata": {},
   "source": [
    "# 3. MAGIC Light Curve estimation, Mrk421\n",
    "\n",
    "In this notebook, we will illustrate how to extract a light curve using the `Datasets` we produced."
   ]
  },
  {
   "cell_type": "code",
   "execution_count": null,
   "id": "39d149e8",
   "metadata": {},
   "outputs": [],
   "source": [
    "import numpy as np\n",
    "import astropy.units as u\n",
    "from astropy.time import Time\n",
    "import glob\n",
    "import uproot\n",
    "import matplotlib.pyplot as plt\n",
    "\n",
    "from gammapy.modeling.models import Models, create_crab_spectral_model\n",
    "from gammapy.datasets import SpectrumDatasetOnOff, Datasets\n",
    "from gammapy.estimators import LightCurveEstimator"
   ]
  },
  {
   "cell_type": "markdown",
   "id": "6828c1d0",
   "metadata": {},
   "source": [
    "Both for SED and for light curve, `flute` estimates flux points by counting the number of excess events in a given estimated energy bin (or above a certain energy) and dividing them by the effective area multiplied by the effective time.\n",
    "\n",
    "For SED:\n",
    "$$\\frac{{\\rm d}\\phi}{{\\rm d}E}(E_{\\rm est, i} < E < E_{\\rm est, i+1}) [{\\rm TeV}^{-1}\\,{\\rm cm}^{-2}\\,{\\rm s}^{-1}]\n",
    "= \\frac{\n",
    "    N_{\\rm ex}(E_{\\rm est, i} < E < E_{\\rm est, i+1})\n",
    "   }{\n",
    "    A_{\\rm eff}(E_{\\rm est, i} < E < E_{\\rm est, i+1}) \\, t_{\\rm eff} \\, \\Delta E_{\\rm est}} $$\n",
    "\n",
    "For LC:\n",
    "$$\\phi(E > E_{\\rm est}) = \\frac{N_{\\rm ex}(E > E_{\\rm est})}{A_{\\rm eff}(E > E_{\\rm est}) \\, t_{\\rm eff}} $$\n",
    "\n",
    "To obtain SED flux points in true energies we have to use the unfolding.\n",
    "\n",
    "These are approximated formulae, more details in [Abelardo's slides on flux estimation, software school.](https://indico.mpp.mpg.de/event/7771/contributions/25100/attachments/16353/19350/Abelardo_FluxTheory_SWschool2021.pdf)\n",
    "\n",
    "`Gammapy` estimates SED and LC flux points by repeating the forward folding likelihood we saw in the previous tutorial. In the case of an SED flux points all the events in a single energy bin are considered. In case of a LC flux points all the events in a given time bin and above a certain energy are used. Hence, we need a model to estimate the flux points in Gammapy, I use the result of the broad-band likelihood fit. And re-fit only the normalisation.\n",
    "\n",
    "As for many other objects, also models are serialisable in `Gammapy`, that is they can be written and read from memory. We read the log parabola best-fit model we otbained on the stacked dataset."
   ]
  },
  {
   "cell_type": "code",
   "execution_count": null,
   "id": "121cc320",
   "metadata": {},
   "outputs": [],
   "source": [
    "models = Models.read(\"results/gammapy/fit/magic/dataset_stacked_best_fit.yml\")\n",
    "print(models)"
   ]
  },
  {
   "cell_type": "code",
   "execution_count": null,
   "id": "199d973b",
   "metadata": {},
   "outputs": [],
   "source": [
    "# read the datasets\n",
    "datasets = Datasets()\n",
    "\n",
    "ogip_files = glob.glob(\n",
    "    \"results/gammapy/spectra/magic/pha_obs_5*.fits\"\n",
    ")  # put 5 not to read the stacked one\n",
    "\n",
    "for ogip_file in ogip_files:\n",
    "    if (\n",
    "        (\"arf\" not in ogip_file)\n",
    "        and (\"rmf\" not in ogip_file)\n",
    "        and (\"bkg\" not in ogip_file)\n",
    "    ):\n",
    "        datasets.append(SpectrumDatasetOnOff.read(ogip_file))"
   ]
  },
  {
   "cell_type": "code",
   "execution_count": null,
   "id": "2c6cf562",
   "metadata": {},
   "outputs": [],
   "source": [
    "# copy the best fit model and freeze all the spectral parameters but the\n",
    "# amplitude before computing flux points\n",
    "flux_estimator_model = models[\"CrabNebula\"].copy()\n",
    "flux_estimator_model.spectral_model.parameters[\"alpha\"].frozen = True\n",
    "flux_estimator_model.spectral_model.parameters[\"beta\"].frozen = True\n",
    "flux_estimator_model._name = \"CrabNebula\"\n",
    "# assign it to the datasets\n",
    "datasets.models = [flux_estimator_model]"
   ]
  },
  {
   "cell_type": "code",
   "execution_count": null,
   "id": "ac89ba72",
   "metadata": {},
   "outputs": [],
   "source": [
    "energy_edges = [300 * u.GeV, 100 * u.TeV]\n",
    "\n",
    "time_intervals = [\n",
    "    [Time(58109.94, format=\"mjd\"), Time(58110.00, format=\"mjd\")],\n",
    "    [Time(58140.94, format=\"mjd\"), Time(58140.98, format=\"mjd\")],\n",
    "]\n",
    "\n",
    "light_curve_estimator = LightCurveEstimator(\n",
    "    energy_edges=energy_edges,\n",
    "    time_intervals=time_intervals,\n",
    "    source=\"CrabNebula\",\n",
    "    reoptimize=False,\n",
    "    n_sigma_ul=3,\n",
    ")\n",
    "\n",
    "light_curve = light_curve_estimator.run(datasets)"
   ]
  },
  {
   "cell_type": "code",
   "execution_count": null,
   "id": "01e57ebd",
   "metadata": {},
   "outputs": [],
   "source": [
    "light_curve.plot(sed_type=\"flux\")\n",
    "plt.show()"
   ]
  },
  {
   "cell_type": "markdown",
   "id": "67469245",
   "metadata": {},
   "source": [
    "### Comparison with MARS\n",
    "Compare with the same light curve obtained with `flute`."
   ]
  },
  {
   "cell_type": "code",
   "execution_count": null,
   "id": "00d229c2",
   "metadata": {},
   "outputs": [],
   "source": [
    "flute_file = uproot.open(\"../SWschool2023/data/S3.1/flute/Output_flute.root\")\n",
    "\n",
    "light_curve_mars = flute_file[\"LightCurve\"].tojson()\n",
    "\n",
    "# flux points\n",
    "mjd_mars = np.asarray(light_curve_mars[\"fX\"])\n",
    "mjd_err_mars = np.asarray(light_curve_mars[\"fEX\"])\n",
    "flux_mars = np.asarray(light_curve_mars[\"fY\"])\n",
    "flux_err_mars = np.asarray(light_curve_mars[\"fEY\"])"
   ]
  },
  {
   "cell_type": "code",
   "execution_count": null,
   "id": "6f6070d4",
   "metadata": {},
   "outputs": [],
   "source": [
    "# Gammapy LC\n",
    "time_axis = light_curve.geom.axes[\"time\"]\n",
    "mjd_gammapy = time_axis.time_mid\n",
    "mjd_err_gammapy = (time_axis.time_mid - time_axis.time_min).value\n",
    "flux_gammapy = light_curve.flux.to_unit(\"cm-2 s-1\").data.flatten()\n",
    "flux_err_gammapy = light_curve.flux_err.to_unit(\"cm-2 s-1\").data.flatten()"
   ]
  },
  {
   "cell_type": "code",
   "execution_count": null,
   "id": "d5b18099",
   "metadata": {},
   "outputs": [],
   "source": [
    "fig, ax = plt.subplots(figsize=(12, 6))\n",
    "\n",
    "ax.errorbar(\n",
    "    mjd_gammapy.value,\n",
    "    flux_gammapy,\n",
    "    xerr=mjd_err_gammapy,\n",
    "    yerr=flux_err_gammapy,\n",
    "    ls=\"\",\n",
    "    marker=\".\",\n",
    "    color=\"k\",\n",
    "    label=\"Gammapy, Light curve estimator\",\n",
    ")\n",
    "\n",
    "ax.errorbar(\n",
    "    mjd_mars,\n",
    "    flux_mars,\n",
    "    xerr=mjd_err_mars,\n",
    "    yerr=flux_err_mars,\n",
    "    ls=\"\",\n",
    "    marker=\".\",\n",
    "    color=\"crimson\",\n",
    "    label=\"MARS, flute\",\n",
    ")\n",
    "\n",
    "# plot reference Crab integrated flux\n",
    "crab_magic_lp = create_crab_spectral_model(\"magic_lp\")\n",
    "phi_crab_ref = crab_magic_lp.integral(energy_edges[0], energy_edges[1])\n",
    "ax.axhline(phi_crab_ref.to_value(\"cm-2 s-1\"), ls=\"--\", color=\"dodgerblue\", label=\"Aleksic et al. 2015, JHEAP\")\n",
    "\n",
    "ax.legend()\n",
    "\n",
    "# make ticks human readable\n",
    "ticks = ax.get_xticks()\n",
    "labels = [f\"{int(_):d}\" for _ in ticks]\n",
    "ax.set_xticks(ticks, labels)\n",
    "\n",
    "ax.set_ylabel(r\"$\\phi(E > 300\\,{\\rm GeV})\\,/\\,({\\rm cm}^{-2}\\,{\\rm s}^{-1})$\")\n",
    "ax.set_xlabel(\"MJD\")\n",
    "plt.show()"
   ]
  }
 ],
 "metadata": {
  "kernelspec": {
   "display_name": "Python 3 (ipykernel)",
   "language": "python",
   "name": "python3"
  },
  "language_info": {
   "codemirror_mode": {
    "name": "ipython",
    "version": 3
   },
   "file_extension": ".py",
   "mimetype": "text/x-python",
   "name": "python",
   "nbconvert_exporter": "python",
   "pygments_lexer": "ipython3",
   "version": "3.11.12"
  }
 },
 "nbformat": 4,
 "nbformat_minor": 5
}
