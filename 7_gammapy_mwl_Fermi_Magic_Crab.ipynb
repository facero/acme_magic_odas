{
 "cells": [
  {
   "cell_type": "markdown",
   "id": "9f3ddaa0-6df4-41cc-92c5-6a5ce35fecbc",
   "metadata": {},
   "source": [
    "# Gammapy MWL analysis of Crab data\n",
    "\n",
    "Author: Fabio Acero, September 2025"
   ]
  },
  {
   "cell_type": "markdown",
   "id": "5be0b948-1d82-41f2-8496-9d62cfb779a8",
   "metadata": {},
   "source": [
    "## Context and objectives\n",
    "In this notebook we're going to use the previously generated Crab stacked dataset (1d) from the MAGIC dataset.\n",
    "Then we're going to load Fermi data of the Crab prepared by Fermipy to make a GeV-TeV fit.\n",
    "\n",
    "It is also possible in gammapy to load X-ray data from XMM-Newton, Chandra, Swift or NuSTAR but this is beyond the scope of this sole notebook. \n",
    "For X-ray examples see : \n",
    "\n",
    "- https://github.com/mireianievas/gammapy-ogip-spectra/blob/master/example_nb.ipynb\n",
    "- https://github.com/gammapy/gammapy-mwl/  (in progress)\n",
    "\n",
    "**! Warning!**:  The Fermi-LAT analysis shown here is quick and dirty in order to avoid a long notebook. Some aspects such as ednery dispersion or PSF event types are not activated to reduce disk space and complexity.\n",
    "Do not take the SED, best-fit, etc for granted. \n",
    "\n",
    "For a cleaner and better Fermi-LAT analysis have a look at the gammapy tutorial :\n",
    "\n",
    "https://docs.gammapy.org/2.0/tutorials/data/fermi_lat.html#sphx-glr-tutorials-data-fermi-lat-py"
   ]
  },
  {
   "cell_type": "code",
   "execution_count": 1,
   "id": "0696c488-e6c3-4d51-a44b-8ec33b093250",
   "metadata": {},
   "outputs": [],
   "source": [
    "# - basic imports (numpy, astropy, regions, matplotlib)\n",
    "import numpy as np\n",
    "import astropy.units as u\n",
    "from astropy.coordinates import SkyCoord\n",
    "from regions import PointSkyRegion, CircleSkyRegion\n",
    "import matplotlib.pyplot as plt\n",
    "import logging\n",
    "import warnings\n",
    "\n",
    "# - Gammapy's imports\n",
    "from gammapy.maps import Map, MapAxis, WcsGeom, RegionGeom\n",
    "from gammapy.data import DataStore, Observation\n",
    "from gammapy.datasets import SpectrumDataset, Dataset, Datasets\n",
    "from gammapy.modeling import Fit\n",
    "from gammapy.estimators import FluxPointsEstimator\n",
    "\n",
    "from gammapy.modeling.models import (\n",
    "    Models,\n",
    "    PointSpatialModel,\n",
    "    GaussianSpatialModel,\n",
    "    DiskSpatialModel,\n",
    "    PowerLawNormSpectralModel,\n",
    "    PowerLaw2SpectralModel,\n",
    "    PowerLawSpectralModel,\n",
    "    LogParabolaSpectralModel,\n",
    "    SkyModel,\n",
    "    TemplateSpatialModel,\n",
    "    create_fermi_isotropic_diffuse_model,\n",
    "    create_crab_spectral_model,\n",
    "    create_fermi_isotropic_diffuse_model\n",
    "\n",
    ") \n",
    "from gammapy.catalog import SourceCatalog4FGL\n",
    "\n",
    "# - setting up logging and ignoring warnings\n",
    "logger = logging.getLogger(__name__)\n",
    "logger.setLevel(logging.INFO)\n",
    "warnings.filterwarnings(\"ignore\")"
   ]
  },
  {
   "cell_type": "markdown",
   "id": "ffcb3c5e-e33f-4d29-8568-28089332b6dc",
   "metadata": {},
   "source": [
    "# Loading Fermi data "
   ]
  },
  {
   "cell_type": "markdown",
   "id": "a44a3b12-d8bb-4aab-822b-b4551e9babfd",
   "metadata": {},
   "source": [
    "We're going to use the pregenerated Fermi files from the fermipy setup.  \n",
    "To get all the details we're going to use the fermipy yaml config file to get things easier.\n",
    "\n",
    "All the details of how to load Fermi data into gammapy are given in the Fermi gammapy tutorial : https://docs.gammapy.org/2.0/tutorials/data/fermi_lat.html#sphx-glr-tutorials-data-fermi-lat-py\n",
    "\n",
    "A tricky thing is how to handle energy dispersion from fermipy files to gammapy datasets. For simplicity this is ignored in the following steps."
   ]
  },
  {
   "cell_type": "code",
   "execution_count": 76,
   "id": "daa15ee5-e1ac-42fc-9d0f-f7a1551387aa",
   "metadata": {},
   "outputs": [
    {
     "data": {
      "text/html": [
       "<pre>WcsGeom\n",
       "\n",
       "\taxes       : [&#x27;lon&#x27;, &#x27;lat&#x27;, &#x27;energy&#x27;]\n",
       "\tshape      : (250, 250, 13)\n",
       "\tndim       : 3\n",
       "\tframe      : fk5\n",
       "\tprojection : AIT\n",
       "\tcenter     : 83.6 deg, 22.0 deg\n",
       "\twidth      : 5.0 deg x 5.0 deg\n",
       "\twcs ref    : 83.6 deg, 22.0 deg\n",
       "</pre>"
      ],
      "text/plain": [
       "<gammapy.maps.wcs.geom.WcsGeom at 0x307318ee0>"
      ]
     },
     "execution_count": 76,
     "metadata": {},
     "output_type": "execute_result"
    }
   ],
   "source": [
    "from gammapy.datasets import FermipyDatasetsReader\n",
    "\n",
    "config_file = 'Crab-fermi-config.yaml'  \n",
    "\n",
    "datasets = FermipyDatasetsReader(config_file, edisp_bins=0).read()\n",
    "dataset_fermi=datasets[0]\n",
    "center = dataset_fermi.counts.geom.center_skydir\n",
    "dataset_fermi.counts.geom"
   ]
  },
  {
   "cell_type": "code",
   "execution_count": 77,
   "id": "e11264fe-543a-4966-9c6f-43b182b02e3e",
   "metadata": {},
   "outputs": [
    {
     "data": {
      "application/vnd.jupyter.widget-view+json": {
       "model_id": "ed3d23f024cd49098bc5d6726f840509",
       "version_major": 2,
       "version_minor": 0
      },
      "text/plain": [
       "interactive(children=(SelectionSlider(continuous_update=False, description='Select energy:', layout=Layout(wid…"
      ]
     },
     "metadata": {},
     "output_type": "display_data"
    }
   ],
   "source": [
    "dataset_fermi.counts.smooth(width=0.05*u.deg).plot_interactive()"
   ]
  },
  {
   "cell_type": "markdown",
   "id": "324ec870-8216-41ce-89a2-46a5f827bb93",
   "metadata": {},
   "source": [
    "In Fermi at MeV-GeV, the diffuse from the galactic plane is the main source of photons and cannot be ignored. Here we are loading a cutout of the entire galactic plane model on the Crab region."
   ]
  },
  {
   "cell_type": "code",
   "execution_count": 78,
   "id": "2ad9c4ec-abd3-4f3a-bf33-ba9713621fbc",
   "metadata": {},
   "outputs": [
    {
     "data": {
      "application/vnd.jupyter.widget-view+json": {
       "model_id": "18e31210eac8434a8b2895eeb48441ac",
       "version_major": 2,
       "version_minor": 0
      },
      "text/plain": [
       "interactive(children=(SelectionSlider(continuous_update=False, description='Select energy_true:', layout=Layou…"
      ]
     },
     "metadata": {},
     "output_type": "display_data"
    }
   ],
   "source": [
    "modeliso= Models(dataset_fermi.models)\n",
    "galdiff_file = \"./fermi-Crab-analysis/gll_iem_v07_Crab_cutout.fits\"\n",
    "template_diffuse = Map.read(filename=galdiff_file)\n",
    "template_diffuse.plot_interactive()"
   ]
  },
  {
   "cell_type": "code",
   "execution_count": 79,
   "id": "b9cd50da-0244-4a73-860e-b7bd04b37989",
   "metadata": {},
   "outputs": [
    {
     "data": {
      "image/png": "[encoded data removed]",
      "text/plain": [
       "<Figure size 432x288 with 1 Axes>"
      ]
     },
     "metadata": {
      "needs_background": "light"
     },
     "output_type": "display_data"
    }
   ],
   "source": [
    "dataset_fermi.psf.plot_containment_radius_vs_energy(fraction=(0.68, 0.95))\n",
    "plt.yscale('log')\n",
    "plt.show()"
   ]
  },
  {
   "cell_type": "code",
   "execution_count": 80,
   "id": "bf439715-d2b1-4957-8bce-8cb3d0e023d9",
   "metadata": {},
   "outputs": [
    {
     "data": {
      "text/html": [
       "<pre>DatasetModels\n",
       "\n",
       "Component 0: SkyModel\n",
       "\n",
       "  Name                      : iem\n",
       "  Datasets names            : None\n",
       "  Spectral model type       : PowerLawNormSpectralModel\n",
       "  Spatial  model type       : TemplateSpatialModel\n",
       "  Temporal model type       : \n",
       "  Parameters:\n",
       "    tilt                  (frozen):      0.000                   \n",
       "    norm                          :      1.000   +/-    0.00             \n",
       "    reference             (frozen):      1.000       TeV         \n",
       "    lon_0                 (frozen):    184.500       deg         \n",
       "    lat_0                 (frozen):     -5.812       deg         \n",
       "\n",
       "Component 1: SkyModel\n",
       "\n",
       "  Name                      : isotropic_P8R3_SOURCE_V3_v1\n",
       "  Datasets names            : [&#x27;P8R3_SOURCE_V3_v1&#x27;]\n",
       "  Spectral model type       : CompoundSpectralModel\n",
       "  Spatial  model type       : ConstantSpatialModel\n",
       "  Temporal model type       : \n",
       "  Parameters:\n",
       "    tilt                  (frozen):      0.000                   \n",
       "    norm                  (frozen):      1.000                   \n",
       "    reference             (frozen):      1.000       TeV         \n",
       "    value                 (frozen):      1.000       1 / sr      \n",
       "\n",
       "Component 2: SkyModel\n",
       "\n",
       "  Name                      : Crab\n",
       "  Datasets names            : None\n",
       "  Spectral model type       : PowerLawSpectralModel\n",
       "  Spatial  model type       : PointSpatialModel\n",
       "  Temporal model type       : \n",
       "  Parameters:\n",
       "    index                         :      2.000   +/-    0.00             \n",
       "    amplitude                     :   5.00e-14   +/- 0.0e+00 1 / (MeV s cm2)\n",
       "    reference             (frozen):     30.000       GeV         \n",
       "    lon_0                 (frozen):     83.632       deg         \n",
       "    lat_0                 (frozen):     22.017       deg         \n",
       "\n",
       "</pre>"
      ],
      "text/plain": [
       "<gammapy.modeling.models.core.DatasetModels at 0x325064100>"
      ]
     },
     "execution_count": 80,
     "metadata": {},
     "output_type": "execute_result"
    }
   ],
   "source": [
    "# Background models\n",
    "# In Fermi the bkg is dominantly the galactic diffuse emission in the plane\n",
    "\n",
    "template_diffuse = TemplateSpatialModel.read(filename=galdiff_file, normalize=False)\n",
    "diffuse_iem = SkyModel(spectral_model=PowerLawNormSpectralModel(),\n",
    "    spatial_model=template_diffuse,\n",
    "    name=\"iem\")\n",
    "\n",
    "\n",
    "# Defining a spectral model for the Crab\n",
    "spatial_model = PointSpatialModel(\n",
    "    lon_0=center.ra, lat_0=center.dec, frame=\"fk5\")\n",
    "\n",
    "spectral_model = PowerLawSpectralModel(\n",
    "    index=2.0,\n",
    "    amplitude=5e-14 * u.Unit(\"cm-2 s-1 MeV-1\"),\n",
    "    reference=30 * u.GeV\n",
    ")\n",
    "\n",
    "model_crab = SkyModel(\n",
    "    spatial_model=spatial_model,\n",
    "    spectral_model=spectral_model,\n",
    "    name=\"Crab\",\n",
    ")\n",
    "\n",
    "dataset_fermi.models =   diffuse_iem + modeliso + model_crab \n",
    "dataset_fermi.models.freeze(model_type='spatial')\n",
    "dataset_fermi.models['isotropic_P8R3_SOURCE_V3_v1'].parameters['norm'].frozen=True\n",
    "\n",
    "dataset_fermi.models"
   ]
  },
  {
   "cell_type": "code",
   "execution_count": 81,
   "id": "6b9bda9d-6cc2-4efd-add1-f7b236da609b",
   "metadata": {},
   "outputs": [],
   "source": [
    "dataset_fermi.mask_fit = dataset_fermi.counts.geom.energy_mask(30 * u.GeV, 1 * u.TeV)\n"
   ]
  },
  {
   "cell_type": "code",
   "execution_count": 82,
   "id": "856f2290-1820-440f-8eea-eef615340725",
   "metadata": {},
   "outputs": [
    {
     "data": {
      "text/html": [
       "<table>\n",
       "    <tr>\n",
       "        <th colspan=\"2\" style=\"text-align:center\" title=\"Minimizer\"> Migrad </th>\n",
       "    </tr>\n",
       "    <tr>\n",
       "        <td style=\"text-align:left\" title=\"Minimum value of function\"> FCN = 6214 </td>\n",
       "        <td style=\"text-align:center\" title=\"Total number of function and (optional) gradient evaluations\"> Nfcn = 62 </td>\n",
       "    </tr>\n",
       "    <tr>\n",
       "        <td style=\"text-align:left\" title=\"Estimated distance to minimum and goal\"> EDM = 8.8e-05 (Goal: 0.0002) </td>\n",
       "        <td style=\"text-align:center\" title=\"Total run time of algorithms\"> time = 1.2 sec </td>\n",
       "    </tr>\n",
       "    <tr>\n",
       "        <td style=\"text-align:center;background-color:#92CCA6;color:black\"> Valid Minimum </td>\n",
       "        <td style=\"text-align:center;background-color:#92CCA6;color:black\"> Below EDM threshold (goal x 10) </td>\n",
       "    </tr>\n",
       "    <tr>\n",
       "        <td style=\"text-align:center;background-color:#92CCA6;color:black\"> No parameters at limit </td>\n",
       "        <td style=\"text-align:center;background-color:#92CCA6;color:black\"> Below call limit </td>\n",
       "    </tr>\n",
       "    <tr>\n",
       "        <td style=\"text-align:center;background-color:#92CCA6;color:black\"> Hesse ok </td>\n",
       "        <td style=\"text-align:center;background-color:#92CCA6;color:black\"> Covariance accurate </td>\n",
       "    </tr>\n",
       "</table><table>\n",
       "    <tr>\n",
       "        <td></td>\n",
       "        <th title=\"Variable name\"> Name </th>\n",
       "        <th title=\"Value of parameter\"> Value </th>\n",
       "        <th title=\"Hesse error\"> Hesse Error </th>\n",
       "        <th title=\"Minos lower error\"> Minos Error- </th>\n",
       "        <th title=\"Minos upper error\"> Minos Error+ </th>\n",
       "        <th title=\"Lower limit of the parameter\"> Limit- </th>\n",
       "        <th title=\"Upper limit of the parameter\"> Limit+ </th>\n",
       "        <th title=\"Is the parameter fixed in the fit\"> Fixed </th>\n",
       "    </tr>\n",
       "    <tr>\n",
       "        <th> 0 </th>\n",
       "        <td> par_000_norm </td>\n",
       "        <td> 1.01 </td>\n",
       "        <td> 0.10 </td>\n",
       "        <td>  </td>\n",
       "        <td>  </td>\n",
       "        <td>  </td>\n",
       "        <td>  </td>\n",
       "        <td>  </td>\n",
       "    </tr>\n",
       "    <tr>\n",
       "        <th> 1 </th>\n",
       "        <td> par_001_index </td>\n",
       "        <td> 2.08 </td>\n",
       "        <td> 0.04 </td>\n",
       "        <td>  </td>\n",
       "        <td>  </td>\n",
       "        <td>  </td>\n",
       "        <td>  </td>\n",
       "        <td>  </td>\n",
       "    </tr>\n",
       "    <tr>\n",
       "        <th> 2 </th>\n",
       "        <td> par_002_amplitude </td>\n",
       "        <td> 7.78 </td>\n",
       "        <td> 0.34 </td>\n",
       "        <td>  </td>\n",
       "        <td>  </td>\n",
       "        <td>  </td>\n",
       "        <td>  </td>\n",
       "        <td>  </td>\n",
       "    </tr>\n",
       "</table><table>\n",
       "    <tr>\n",
       "        <td></td>\n",
       "        <th> par_000_norm </th>\n",
       "        <th> par_001_index </th>\n",
       "        <th> par_002_amplitude </th>\n",
       "    </tr>\n",
       "    <tr>\n",
       "        <th> par_000_norm </th>\n",
       "        <td> 0.00972 </td>\n",
       "        <td style=\"background-color:rgb(249,249,250);color:black\"> -0.0000 <strong>(-0.008)</strong> </td>\n",
       "        <td style=\"background-color:rgb(246,246,250);color:black\"> -0.001 <strong>(-0.033)</strong> </td>\n",
       "    </tr>\n",
       "    <tr>\n",
       "        <th> par_001_index </th>\n",
       "        <td style=\"background-color:rgb(249,249,250);color:black\"> -0.0000 <strong>(-0.008)</strong> </td>\n",
       "        <td> 0.0015 </td>\n",
       "        <td style=\"background-color:rgb(250,133,133);color:black\"> 0.0103 <strong>(0.780)</strong> </td>\n",
       "    </tr>\n",
       "    <tr>\n",
       "        <th> par_002_amplitude </th>\n",
       "        <td style=\"background-color:rgb(246,246,250);color:black\"> -0.001 <strong>(-0.033)</strong> </td>\n",
       "        <td style=\"background-color:rgb(250,133,133);color:black\"> 0.0103 <strong>(0.780)</strong> </td>\n",
       "        <td> 0.115 </td>\n",
       "    </tr>\n",
       "</table>"
      ],
      "text/plain": [
       "┌─────────────────────────────────────────────────────────────────────────┐\n",
       "│                                Migrad                                   │\n",
       "├──────────────────────────────────┬──────────────────────────────────────┤\n",
       "│ FCN = 6214                       │              Nfcn = 62               │\n",
       "│ EDM = 8.8e-05 (Goal: 0.0002)     │            time = 1.2 sec            │\n",
       "├──────────────────────────────────┼──────────────────────────────────────┤\n",
       "│          Valid Minimum           │   Below EDM threshold (goal x 10)    │\n",
       "├──────────────────────────────────┼──────────────────────────────────────┤\n",
       "│      No parameters at limit      │           Below call limit           │\n",
       "├──────────────────────────────────┼──────────────────────────────────────┤\n",
       "│             Hesse ok             │         Covariance accurate          │\n",
       "└──────────────────────────────────┴──────────────────────────────────────┘\n",
       "┌───┬───────────────────┬───────────┬───────────┬────────────┬────────────┬─────────┬─────────┬───────┐\n",
       "│   │ Name              │   Value   │ Hesse Err │ Minos Err- │ Minos Err+ │ Limit-  │ Limit+  │ Fixed │\n",
       "├───┼───────────────────┼───────────┼───────────┼────────────┼────────────┼─────────┼─────────┼───────┤\n",
       "│ 0 │ par_000_norm      │   1.01    │   0.10    │            │            │         │         │       │\n",
       "│ 1 │ par_001_index     │   2.08    │   0.04    │            │            │         │         │       │\n",
       "│ 2 │ par_002_amplitude │   7.78    │   0.34    │            │            │         │         │       │\n",
       "└───┴───────────────────┴───────────┴───────────┴────────────┴────────────┴─────────┴─────────┴───────┘\n",
       "┌───────────────────┬───────────────────────────────────────────────────────┐\n",
       "│                   │      par_000_norm     par_001_index par_002_amplitude │\n",
       "├───────────────────┼───────────────────────────────────────────────────────┤\n",
       "│      par_000_norm │           0.00972           -0.0000            -0.001 │\n",
       "│     par_001_index │           -0.0000            0.0015            0.0103 │\n",
       "│ par_002_amplitude │            -0.001            0.0103             0.115 │\n",
       "└───────────────────┴───────────────────────────────────────────────────────┘"
      ]
     },
     "execution_count": 82,
     "metadata": {},
     "output_type": "execute_result"
    }
   ],
   "source": [
    "fit = Fit()\n",
    "result = fit.run(datasets=[dataset_fermi])\n",
    "result.minuit"
   ]
  },
  {
   "cell_type": "code",
   "execution_count": 83,
   "id": "946e596b-240e-4b5d-919d-7592c667509f",
   "metadata": {},
   "outputs": [],
   "source": [
    "energy_edges = dataset_fermi.counts.geom.axes[\"energy\"].edges\n",
    "fpe_fermi = FluxPointsEstimator(\n",
    "    energy_edges=energy_edges, source=\"Crab\", n_jobs=4,\n",
    ")\n",
    "fp_fermi = fpe_fermi.run(datasets=[dataset_fermi])\n"
   ]
  },
  {
   "cell_type": "markdown",
   "id": "eea68b93-a8ee-42e9-9b7a-5d01fdd6b51b",
   "metadata": {},
   "source": [
    "We will display these flux points later on"
   ]
  },
  {
   "cell_type": "markdown",
   "id": "8aae6919-9531-4d61-9eb2-5b4add8db3bb",
   "metadata": {},
   "source": [
    "# Reading pre-generated MAGIC dataset and flux point"
   ]
  },
  {
   "cell_type": "code",
   "execution_count": 11,
   "id": "7c75f717-526a-417e-8e27-4b12f3971d3b",
   "metadata": {},
   "outputs": [
    {
     "data": {
      "image/png": "[encoded data removed]",
      "text/plain": [
       "<Figure size 1152x288 with 4 Axes>"
      ]
     },
     "metadata": {
      "needs_background": "light"
     },
     "output_type": "display_data"
    }
   ],
   "source": [
    "datasets_magic=Datasets.read('Magic-gammapy-dataset/Crab_Magic_stacked_dataset.yaml')\n",
    "dataset_magic=datasets_magic[0] # we have only one dataset the stacked reduced one\n",
    "dataset_magic.peek()"
   ]
  },
  {
   "cell_type": "code",
   "execution_count": 12,
   "id": "bda6f937-37d7-4fd5-aba9-b9f5dfdc761e",
   "metadata": {},
   "outputs": [],
   "source": [
    "logpar_model = LogParabolaSpectralModel(\n",
    "    amplitude=1e-11 * u.Unit(\"TeV-1 cm-2 s-1\"),\n",
    "    reference=200 * u.GeV,\n",
    "    alpha=2.3 * u.Unit(\"\"),\n",
    "    beta=0.1 * u.Unit(\"\"),\n",
    ")\n",
    "\n",
    "# we have to assign the spectral model to a model of the sky\n",
    "# that in this case will consist of a single source\n",
    "model = SkyModel(spectral_model=logpar_model, name=\"Crab-Magic\")\n",
    "dataset_magic.models = model\n",
    "\n",
    "# declare the energy range to be used for the fitting\n",
    "dataset_magic.mask_fit = dataset_magic.counts.geom.energy_mask(80 * u.GeV, 20 * u.TeV)\n",
    "\n",
    "energy_edges = dataset_magic.counts.geom.axes[\"energy\"].edges\n",
    "fpe_magic = FluxPointsEstimator(\n",
    "    energy_edges=energy_edges\n",
    ")\n",
    "fp_magic = fpe_magic.run(datasets=[dataset_magic])"
   ]
  },
  {
   "cell_type": "code",
   "execution_count": 84,
   "id": "0a222a83-aa78-405c-80c9-09e0bb7d32b5",
   "metadata": {},
   "outputs": [
    {
     "data": {
      "image/png": "[encoded data removed]",
      "text/plain": [
       "<Figure size 576x432 with 1 Axes>"
      ]
     },
     "metadata": {
      "needs_background": "light"
     },
     "output_type": "display_data"
    }
   ],
   "source": [
    "def plot_crab(magic_ref=True):\n",
    "    fig, ax = plt.subplots(figsize=(8,6))\n",
    "    \n",
    "    fp_magic.plot(\n",
    "        ax=ax,\n",
    "        color=\"darkred\",\n",
    "        label=\"MAGIC\",\n",
    "        sed_type= \"e2dnde\"\n",
    "    )\n",
    "    \n",
    "    fp_fermi.plot(\n",
    "        ax=ax,\n",
    "        color=\"darkgreen\",\n",
    "        label=\"Fermi\",\n",
    "        sed_type= \"e2dnde\"\n",
    "    )\n",
    "    \n",
    "    crab_magic = create_crab_spectral_model(\"magic_lp\")\n",
    "    if magic_ref:\n",
    "        crab_magic.plot(\n",
    "            [80 * u.GeV, 20 * u.TeV],\n",
    "            ax=ax,\n",
    "            label=\"MAGIC Collaboration (2015)\",\n",
    "            color=\"dodgerblue\",\n",
    "            ls=\"--\",\n",
    "            sed_type= \"e2dnde\"    \n",
    "        )\n",
    "    ax.set_xlim(5,20e3)\n",
    "\n",
    "    return ax\n",
    "    \n",
    "ax=plot_crab()\n",
    "plt.legend()\n",
    "plt.show()"
   ]
  },
  {
   "cell_type": "markdown",
   "id": "86886d2e-8cc3-4e3b-94b2-dc369fa97d1f",
   "metadata": {},
   "source": [
    "We can notice that MAGIC and Fermi-LAT data are in good agreement except in the TeV range where Fermi calibration is uncertain (it was never meant to be a TeV instrument!).\n",
    "\n",
    "We also see that the low energy part of Fermi-LAT at 30 GeV is still contaminated by the pulsar component which peaks around a few GeV.\n",
    "\n"
   ]
  },
  {
   "cell_type": "markdown",
   "id": "329c3723-7816-4e57-9cc4-f18407e63070",
   "metadata": {},
   "source": [
    "# Now doing a joint fit with both Fermi + MAGIC data"
   ]
  },
  {
   "cell_type": "code",
   "execution_count": 85,
   "id": "e7759d8f-575b-4b60-806e-62795ac81c08",
   "metadata": {},
   "outputs": [
    {
     "data": {
      "text/html": [
       "<pre>DatasetModels\n",
       "\n",
       "Component 0: SkyModel\n",
       "\n",
       "  Name                      : iem\n",
       "  Datasets names            : None\n",
       "  Spectral model type       : PowerLawNormSpectralModel\n",
       "  Spatial  model type       : TemplateSpatialModel\n",
       "  Temporal model type       : \n",
       "  Parameters:\n",
       "    tilt                  (frozen):      0.000                   \n",
       "    norm                          :      1.009   +/-    0.10             \n",
       "    reference             (frozen):      1.000       TeV         \n",
       "    lon_0                 (frozen):    184.500       deg         \n",
       "    lat_0                 (frozen):     -5.812       deg         \n",
       "\n",
       "Component 1: SkyModel\n",
       "\n",
       "  Name                      : isotropic_P8R3_SOURCE_V3_v1\n",
       "  Datasets names            : [&#x27;P8R3_SOURCE_V3_v1&#x27;]\n",
       "  Spectral model type       : CompoundSpectralModel\n",
       "  Spatial  model type       : ConstantSpatialModel\n",
       "  Temporal model type       : \n",
       "  Parameters:\n",
       "    tilt                  (frozen):      0.000                   \n",
       "    norm                  (frozen):      1.000                   \n",
       "    reference             (frozen):      1.000       TeV         \n",
       "    value                 (frozen):      1.000       1 / sr      \n",
       "\n",
       "Component 2: SkyModel\n",
       "\n",
       "  Name                      : Crab-Fermi\n",
       "  Datasets names            : None\n",
       "  Spectral model type       : LogParabolaSpectralModel\n",
       "  Spatial  model type       : PointSpatialModel\n",
       "  Temporal model type       : \n",
       "  Parameters:\n",
       "    amplitude@-Lgt_d8e            :   1.50e-09   +/- 7.6e-11 1 / (TeV s cm2)\n",
       "    reference@O2z_yhr4    (frozen):    200.000       GeV         \n",
       "    alpha@wWU_y9Cb                :      2.069   +/-    0.07             \n",
       "    beta@4ngYpOcU                 :     -0.008   +/-    0.05             \n",
       "    lon_0                 (frozen):     83.632       deg         \n",
       "    lat_0                 (frozen):     22.017       deg         \n",
       "\n",
       "</pre>"
      ],
      "text/plain": [
       "<gammapy.modeling.models.core.DatasetModels at 0x35d56cfa0>"
      ]
     },
     "execution_count": 85,
     "metadata": {},
     "output_type": "execute_result"
    }
   ],
   "source": [
    "# Now changing the model in the Fermi dataset to a LogParabola\n",
    "model_crab = SkyModel(\n",
    "    spatial_model=spatial_model,\n",
    "    spectral_model=logpar_model,\n",
    "    name=\"Crab-Fermi\",\n",
    ")\n",
    "\n",
    "dataset_fermi.mask_fit = dataset_fermi.counts.geom.energy_mask(30 * u.GeV, 1 * u.TeV)\n",
    "dataset_fermi.models =  diffuse_iem + modeliso + model_crab \n",
    "dataset_fermi.models"
   ]
  },
  {
   "cell_type": "code",
   "execution_count": 86,
   "id": "9b9522bf-def6-4afa-a48c-f6d94c1f002a",
   "metadata": {},
   "outputs": [
    {
     "data": {
      "text/html": [
       "<pre>DatasetModels\n",
       "\n",
       "Component 0: SkyModel\n",
       "\n",
       "  Name                      : Crab-Magic\n",
       "  Datasets names            : None\n",
       "  Spectral model type       : LogParabolaSpectralModel\n",
       "  Spatial  model type       : \n",
       "  Temporal model type       : \n",
       "  Parameters:\n",
       "    amplitude@-Lgt_d8e            :   1.50e-09   +/- 7.6e-11 1 / (TeV s cm2)\n",
       "    reference@O2z_yhr4    (frozen):    200.000       GeV         \n",
       "    alpha@wWU_y9Cb                :      2.069   +/-    0.07             \n",
       "    beta@4ngYpOcU                 :     -0.008   +/-    0.05             \n",
       "\n",
       "</pre>"
      ],
      "text/plain": [
       "<gammapy.modeling.models.core.DatasetModels at 0x322ecfb20>"
      ]
     },
     "execution_count": 86,
     "metadata": {},
     "output_type": "execute_result"
    }
   ],
   "source": [
    "dataset_magic.models"
   ]
  },
  {
   "cell_type": "code",
   "execution_count": 87,
   "id": "4da56f70-7f8b-4141-8674-7e01c07ce9b6",
   "metadata": {},
   "outputs": [
    {
     "data": {
      "text/html": [
       "<table>\n",
       "    <tr>\n",
       "        <th colspan=\"2\" style=\"text-align:center\" title=\"Minimizer\"> Migrad </th>\n",
       "    </tr>\n",
       "    <tr>\n",
       "        <td style=\"text-align:left\" title=\"Minimum value of function\"> FCN = 6247 </td>\n",
       "        <td style=\"text-align:center\" title=\"Total number of function and (optional) gradient evaluations\"> Nfcn = 103 </td>\n",
       "    </tr>\n",
       "    <tr>\n",
       "        <td style=\"text-align:left\" title=\"Estimated distance to minimum and goal\"> EDM = 8.03e-05 (Goal: 0.0002) </td>\n",
       "        <td style=\"text-align:center\" title=\"Total run time of algorithms\"> time = 2.0 sec </td>\n",
       "    </tr>\n",
       "    <tr>\n",
       "        <td style=\"text-align:center;background-color:#92CCA6;color:black\"> Valid Minimum </td>\n",
       "        <td style=\"text-align:center;background-color:#92CCA6;color:black\"> Below EDM threshold (goal x 10) </td>\n",
       "    </tr>\n",
       "    <tr>\n",
       "        <td style=\"text-align:center;background-color:#92CCA6;color:black\"> No parameters at limit </td>\n",
       "        <td style=\"text-align:center;background-color:#92CCA6;color:black\"> Below call limit </td>\n",
       "    </tr>\n",
       "    <tr>\n",
       "        <td style=\"text-align:center;background-color:#92CCA6;color:black\"> Hesse ok </td>\n",
       "        <td style=\"text-align:center;background-color:#92CCA6;color:black\"> Covariance accurate </td>\n",
       "    </tr>\n",
       "</table><table>\n",
       "    <tr>\n",
       "        <td></td>\n",
       "        <th title=\"Variable name\"> Name </th>\n",
       "        <th title=\"Value of parameter\"> Value </th>\n",
       "        <th title=\"Hesse error\"> Hesse Error </th>\n",
       "        <th title=\"Minos lower error\"> Minos Error- </th>\n",
       "        <th title=\"Minos upper error\"> Minos Error+ </th>\n",
       "        <th title=\"Lower limit of the parameter\"> Limit- </th>\n",
       "        <th title=\"Upper limit of the parameter\"> Limit+ </th>\n",
       "        <th title=\"Is the parameter fixed in the fit\"> Fixed </th>\n",
       "    </tr>\n",
       "    <tr>\n",
       "        <th> 0 </th>\n",
       "        <td> par_000_norm </td>\n",
       "        <td> 1.01 </td>\n",
       "        <td> 0.10 </td>\n",
       "        <td>  </td>\n",
       "        <td>  </td>\n",
       "        <td>  </td>\n",
       "        <td>  </td>\n",
       "        <td>  </td>\n",
       "    </tr>\n",
       "    <tr>\n",
       "        <th> 1 </th>\n",
       "        <td> par_001_amplitude </td>\n",
       "        <td> 1.436 </td>\n",
       "        <td> 0.012 </td>\n",
       "        <td>  </td>\n",
       "        <td>  </td>\n",
       "        <td>  </td>\n",
       "        <td>  </td>\n",
       "        <td>  </td>\n",
       "    </tr>\n",
       "    <tr>\n",
       "        <th> 2 </th>\n",
       "        <td> par_002_alpha </td>\n",
       "        <td> 2.218 </td>\n",
       "        <td> 0.011 </td>\n",
       "        <td>  </td>\n",
       "        <td>  </td>\n",
       "        <td>  </td>\n",
       "        <td>  </td>\n",
       "        <td>  </td>\n",
       "    </tr>\n",
       "    <tr>\n",
       "        <th> 3 </th>\n",
       "        <td> par_003_beta </td>\n",
       "        <td> 84 </td>\n",
       "        <td> 5 </td>\n",
       "        <td>  </td>\n",
       "        <td>  </td>\n",
       "        <td>  </td>\n",
       "        <td>  </td>\n",
       "        <td>  </td>\n",
       "    </tr>\n",
       "</table><table>\n",
       "    <tr>\n",
       "        <td></td>\n",
       "        <th> par_000_norm </th>\n",
       "        <th> par_001_amplitude </th>\n",
       "        <th> par_002_alpha </th>\n",
       "        <th> par_003_beta </th>\n",
       "    </tr>\n",
       "    <tr>\n",
       "        <th> par_000_norm </th>\n",
       "        <td> 0.00976 </td>\n",
       "        <td style=\"background-color:rgb(249,249,250);color:black\"> -0.01e-3 <strong>(-0.009)</strong> </td>\n",
       "        <td style=\"background-color:rgb(246,246,250);color:black\"> -0.03e-3 <strong>(-0.030)</strong> </td>\n",
       "        <td style=\"background-color:rgb(250,246,246);color:black\"> 0.013 <strong>(0.024)</strong> </td>\n",
       "    </tr>\n",
       "    <tr>\n",
       "        <th> par_001_amplitude </th>\n",
       "        <td style=\"background-color:rgb(249,249,250);color:black\"> -0.01e-3 <strong>(-0.009)</strong> </td>\n",
       "        <td> 0.000137 </td>\n",
       "        <td style=\"background-color:rgb(250,244,244);color:black\"> 0.01e-3 <strong>(0.043)</strong> </td>\n",
       "        <td style=\"background-color:rgb(250,199,199);color:black\"> 21.25e-3 <strong>(0.340)</strong> </td>\n",
       "    </tr>\n",
       "    <tr>\n",
       "        <th> par_002_alpha </th>\n",
       "        <td style=\"background-color:rgb(246,246,250);color:black\"> -0.03e-3 <strong>(-0.030)</strong> </td>\n",
       "        <td style=\"background-color:rgb(250,244,244);color:black\"> 0.01e-3 <strong>(0.043)</strong> </td>\n",
       "        <td> 0.000111 </td>\n",
       "        <td style=\"background-color:rgb(158,158,250);color:black\"> -39.73e-3 <strong>(-0.705)</strong> </td>\n",
       "    </tr>\n",
       "    <tr>\n",
       "        <th> par_003_beta </th>\n",
       "        <td style=\"background-color:rgb(250,246,246);color:black\"> 0.013 <strong>(0.024)</strong> </td>\n",
       "        <td style=\"background-color:rgb(250,199,199);color:black\"> 21.25e-3 <strong>(0.340)</strong> </td>\n",
       "        <td style=\"background-color:rgb(158,158,250);color:black\"> -39.73e-3 <strong>(-0.705)</strong> </td>\n",
       "        <td> 28.5 </td>\n",
       "    </tr>\n",
       "</table>"
      ],
      "text/plain": [
       "┌─────────────────────────────────────────────────────────────────────────┐\n",
       "│                                Migrad                                   │\n",
       "├──────────────────────────────────┬──────────────────────────────────────┤\n",
       "│ FCN = 6247                       │              Nfcn = 103              │\n",
       "│ EDM = 8.03e-05 (Goal: 0.0002)    │            time = 2.0 sec            │\n",
       "├──────────────────────────────────┼──────────────────────────────────────┤\n",
       "│          Valid Minimum           │   Below EDM threshold (goal x 10)    │\n",
       "├──────────────────────────────────┼──────────────────────────────────────┤\n",
       "│      No parameters at limit      │           Below call limit           │\n",
       "├──────────────────────────────────┼──────────────────────────────────────┤\n",
       "│             Hesse ok             │         Covariance accurate          │\n",
       "└──────────────────────────────────┴──────────────────────────────────────┘\n",
       "┌───┬───────────────────┬───────────┬───────────┬────────────┬────────────┬─────────┬─────────┬───────┐\n",
       "│   │ Name              │   Value   │ Hesse Err │ Minos Err- │ Minos Err+ │ Limit-  │ Limit+  │ Fixed │\n",
       "├───┼───────────────────┼───────────┼───────────┼────────────┼────────────┼─────────┼─────────┼───────┤\n",
       "│ 0 │ par_000_norm      │   1.01    │   0.10    │            │            │         │         │       │\n",
       "│ 1 │ par_001_amplitude │   1.436   │   0.012   │            │            │         │         │       │\n",
       "│ 2 │ par_002_alpha     │   2.218   │   0.011   │            │            │         │         │       │\n",
       "│ 3 │ par_003_beta      │    84     │     5     │            │            │         │         │       │\n",
       "└───┴───────────────────┴───────────┴───────────┴────────────┴────────────┴─────────┴─────────┴───────┘\n",
       "┌───────────────────┬─────────────────────────────────────────────────────────────────────────┐\n",
       "│                   │      par_000_norm par_001_amplitude     par_002_alpha      par_003_beta │\n",
       "├───────────────────┼─────────────────────────────────────────────────────────────────────────┤\n",
       "│      par_000_norm │           0.00976          -0.01e-3          -0.03e-3             0.013 │\n",
       "│ par_001_amplitude │          -0.01e-3          0.000137           0.01e-3          21.25e-3 │\n",
       "│     par_002_alpha │          -0.03e-3           0.01e-3          0.000111         -39.73e-3 │\n",
       "│      par_003_beta │             0.013          21.25e-3         -39.73e-3              28.5 │\n",
       "└───────────────────┴─────────────────────────────────────────────────────────────────────────┘"
      ]
     },
     "execution_count": 87,
     "metadata": {},
     "output_type": "execute_result"
    }
   ],
   "source": [
    "fit = Fit()\n",
    "result_joint = fit.run(datasets=[dataset_fermi, dataset_magic])\n",
    "result_joint.minuit"
   ]
  },
  {
   "cell_type": "code",
   "execution_count": 88,
   "id": "87105513-d620-40ce-b43d-170c7bebd0a4",
   "metadata": {},
   "outputs": [
    {
     "data": {
      "image/png": "[encoded data removed]",
      "text/plain": [
       "<Figure size 576x432 with 1 Axes>"
      ]
     },
     "metadata": {
      "needs_background": "light"
     },
     "output_type": "display_data"
    }
   ],
   "source": [
    "ax=plot_crab()\n",
    "\n",
    "ax.set_xlim(30,20e3)\n",
    "\n",
    "logpar_model.plot(\n",
    "    [30 * u.GeV, 20 * u.TeV],\n",
    "    color=\"k\",\n",
    "    ls=\"-.\",\n",
    "    lw=3,\n",
    "    sed_type=\"e2dnde\",\n",
    "    label=\"joint likelihood fit\",\n",
    "    \n",
    ")\n",
    "\n",
    "plt.legend()\n",
    "plt.show()\n"
   ]
  },
  {
   "cell_type": "markdown",
   "id": "19fc808b-1cd5-4a62-ab61-1ebc677eb0d0",
   "metadata": {},
   "source": [
    "**!Warning!**\n",
    "\n",
    "Note that this joint fit has not been done on the SED flux points but on the DL3/DL4 raw data directly. This allows to have the full IRF description and fitting the background source at the same time. \n",
    "For example for Fermi when fitting SED the correlation between the galactic diffuse and the fitted model is lost while it is preserved here.\n",
    "\n",
    "The fit was performed one side on the 3d Fermi dataset and on the other side on the MAGIC 1D `SpectrumDatasetONOFF`."
   ]
  },
  {
   "cell_type": "markdown",
   "id": "b5ae9dde-c84d-4a41-bc04-507e298b4e89",
   "metadata": {},
   "source": [
    "# Fitting on flux points \n",
    "The classic procedure to fit a spectral model from multiple telescopes is to fit a spectral model on flux points. This has several limitations in particular for faint sources (not the case here).  "
   ]
  },
  {
   "cell_type": "code",
   "execution_count": 89,
   "id": "459b40e8-7198-4581-9a54-7fd7901c7220",
   "metadata": {},
   "outputs": [],
   "source": [
    "from gammapy.datasets import FluxPointsDataset\n",
    "\n",
    "datasets_fp_fermi = FluxPointsDataset(data=fp_fermi, name='FP Fermi')\n",
    "datasets_fp_magic = FluxPointsDataset(data=fp_magic, name='FP MAGIC')\n",
    "\n",
    "logpar_model_fp = LogParabolaSpectralModel(\n",
    "    amplitude=1e-11 * u.Unit(\"TeV-1 cm-2 s-1\"),\n",
    "    reference=200 * u.GeV,\n",
    "    alpha=2.3 * u.Unit(\"\"),\n",
    "    beta=0.1 * u.Unit(\"\"),\n",
    ")\n",
    "\n",
    "model_crab = SkyModel(\n",
    "    spatial_model=spatial_model,\n",
    "    spectral_model=logpar_model_fp,\n",
    "    name=\"Crab-Fermi\",\n",
    ")\n",
    "\n",
    "datasets_fp_fermi.models=SkyModel(spectral_model=logpar_model_fp, name='Crab_fp_fermi')\n",
    "datasets_fp_magic.models=SkyModel(spectral_model=logpar_model_fp, name='Crab_fp_magic')\n"
   ]
  },
  {
   "cell_type": "code",
   "execution_count": null,
   "id": "7097a7a2-1c7d-4bcb-810f-63ed8f943135",
   "metadata": {},
   "outputs": [],
   "source": []
  },
  {
   "cell_type": "code",
   "execution_count": 90,
   "id": "1c19dbf9-29ce-4655-86c4-781c2f65d038",
   "metadata": {},
   "outputs": [
    {
     "data": {
      "text/html": [
       "<table>\n",
       "    <tr>\n",
       "        <th colspan=\"2\" style=\"text-align:center\" title=\"Minimizer\"> Migrad </th>\n",
       "    </tr>\n",
       "    <tr>\n",
       "        <td style=\"text-align:left\" title=\"Minimum value of function\"> FCN = 38.98 </td>\n",
       "        <td style=\"text-align:center\" title=\"Total number of function and (optional) gradient evaluations\"> Nfcn = 300 </td>\n",
       "    </tr>\n",
       "    <tr>\n",
       "        <td style=\"text-align:left\" title=\"Estimated distance to minimum and goal\"> EDM = 8.5e-05 (Goal: 0.0002) </td>\n",
       "        <td style=\"text-align:center\" title=\"Total run time of algorithms\"> time = 1.4 sec </td>\n",
       "    </tr>\n",
       "    <tr>\n",
       "        <td style=\"text-align:center;background-color:#92CCA6;color:black\"> Valid Minimum </td>\n",
       "        <td style=\"text-align:center;background-color:#92CCA6;color:black\"> Below EDM threshold (goal x 10) </td>\n",
       "    </tr>\n",
       "    <tr>\n",
       "        <td style=\"text-align:center;background-color:#92CCA6;color:black\"> No parameters at limit </td>\n",
       "        <td style=\"text-align:center;background-color:#92CCA6;color:black\"> Below call limit </td>\n",
       "    </tr>\n",
       "    <tr>\n",
       "        <td style=\"text-align:center;background-color:#92CCA6;color:black\"> Hesse ok </td>\n",
       "        <td style=\"text-align:center;background-color:#92CCA6;color:black\"> Covariance accurate </td>\n",
       "    </tr>\n",
       "</table><table>\n",
       "    <tr>\n",
       "        <td></td>\n",
       "        <th title=\"Variable name\"> Name </th>\n",
       "        <th title=\"Value of parameter\"> Value </th>\n",
       "        <th title=\"Hesse error\"> Hesse Error </th>\n",
       "        <th title=\"Minos lower error\"> Minos Error- </th>\n",
       "        <th title=\"Minos upper error\"> Minos Error+ </th>\n",
       "        <th title=\"Lower limit of the parameter\"> Limit- </th>\n",
       "        <th title=\"Upper limit of the parameter\"> Limit+ </th>\n",
       "        <th title=\"Is the parameter fixed in the fit\"> Fixed </th>\n",
       "    </tr>\n",
       "    <tr>\n",
       "        <th> 0 </th>\n",
       "        <td> par_000_amplitude </td>\n",
       "        <td> 143.3 </td>\n",
       "        <td> 1.2 </td>\n",
       "        <td>  </td>\n",
       "        <td>  </td>\n",
       "        <td>  </td>\n",
       "        <td>  </td>\n",
       "        <td>  </td>\n",
       "    </tr>\n",
       "    <tr>\n",
       "        <th> 1 </th>\n",
       "        <td> par_001_alpha </td>\n",
       "        <td> 2.219 </td>\n",
       "        <td> 0.011 </td>\n",
       "        <td>  </td>\n",
       "        <td>  </td>\n",
       "        <td>  </td>\n",
       "        <td>  </td>\n",
       "        <td>  </td>\n",
       "    </tr>\n",
       "    <tr>\n",
       "        <th> 2 </th>\n",
       "        <td> par_002_beta </td>\n",
       "        <td> 0.86 </td>\n",
       "        <td> 0.05 </td>\n",
       "        <td>  </td>\n",
       "        <td>  </td>\n",
       "        <td>  </td>\n",
       "        <td>  </td>\n",
       "        <td>  </td>\n",
       "    </tr>\n",
       "</table><table>\n",
       "    <tr>\n",
       "        <td></td>\n",
       "        <th> par_000_amplitude </th>\n",
       "        <th> par_001_alpha </th>\n",
       "        <th> par_002_beta </th>\n",
       "    </tr>\n",
       "    <tr>\n",
       "        <th> par_000_amplitude </th>\n",
       "        <td> 1.33 </td>\n",
       "        <td style=\"background-color:rgb(250,232,232);color:black\"> 1.48e-3 <strong>(0.119)</strong> </td>\n",
       "        <td style=\"background-color:rgb(250,214,214);color:black\"> 0.0143 <strong>(0.242)</strong> </td>\n",
       "    </tr>\n",
       "    <tr>\n",
       "        <th> par_001_alpha </th>\n",
       "        <td style=\"background-color:rgb(250,232,232);color:black\"> 1.48e-3 <strong>(0.119)</strong> </td>\n",
       "        <td> 0.000117 </td>\n",
       "        <td style=\"background-color:rgb(155,155,250);color:black\"> -0.41e-3 <strong>(-0.734)</strong> </td>\n",
       "    </tr>\n",
       "    <tr>\n",
       "        <th> par_002_beta </th>\n",
       "        <td style=\"background-color:rgb(250,214,214);color:black\"> 0.0143 <strong>(0.242)</strong> </td>\n",
       "        <td style=\"background-color:rgb(155,155,250);color:black\"> -0.41e-3 <strong>(-0.734)</strong> </td>\n",
       "        <td> 0.00262 </td>\n",
       "    </tr>\n",
       "</table>"
      ],
      "text/plain": [
       "┌─────────────────────────────────────────────────────────────────────────┐\n",
       "│                                Migrad                                   │\n",
       "├──────────────────────────────────┬──────────────────────────────────────┤\n",
       "│ FCN = 38.98                      │              Nfcn = 300              │\n",
       "│ EDM = 8.5e-05 (Goal: 0.0002)     │            time = 1.4 sec            │\n",
       "├──────────────────────────────────┼──────────────────────────────────────┤\n",
       "│          Valid Minimum           │   Below EDM threshold (goal x 10)    │\n",
       "├──────────────────────────────────┼──────────────────────────────────────┤\n",
       "│      No parameters at limit      │           Below call limit           │\n",
       "├──────────────────────────────────┼──────────────────────────────────────┤\n",
       "│             Hesse ok             │         Covariance accurate          │\n",
       "└──────────────────────────────────┴──────────────────────────────────────┘\n",
       "┌───┬───────────────────┬───────────┬───────────┬────────────┬────────────┬─────────┬─────────┬───────┐\n",
       "│   │ Name              │   Value   │ Hesse Err │ Minos Err- │ Minos Err+ │ Limit-  │ Limit+  │ Fixed │\n",
       "├───┼───────────────────┼───────────┼───────────┼────────────┼────────────┼─────────┼─────────┼───────┤\n",
       "│ 0 │ par_000_amplitude │   143.3   │    1.2    │            │            │         │         │       │\n",
       "│ 1 │ par_001_alpha     │   2.219   │   0.011   │            │            │         │         │       │\n",
       "│ 2 │ par_002_beta      │   0.86    │   0.05    │            │            │         │         │       │\n",
       "└───┴───────────────────┴───────────┴───────────┴────────────┴────────────┴─────────┴─────────┴───────┘\n",
       "┌───────────────────┬───────────────────────────────────────────────────────┐\n",
       "│                   │ par_000_amplitude     par_001_alpha      par_002_beta │\n",
       "├───────────────────┼───────────────────────────────────────────────────────┤\n",
       "│ par_000_amplitude │              1.33           1.48e-3            0.0143 │\n",
       "│     par_001_alpha │           1.48e-3          0.000117          -0.41e-3 │\n",
       "│      par_002_beta │            0.0143          -0.41e-3           0.00262 │\n",
       "└───────────────────┴───────────────────────────────────────────────────────┘"
      ]
     },
     "execution_count": 90,
     "metadata": {},
     "output_type": "execute_result"
    }
   ],
   "source": [
    "result_fp = fit.run(datasets=[datasets_fp_fermi,datasets_fp_magic])\n",
    "result_fp.minuit"
   ]
  },
  {
   "cell_type": "code",
   "execution_count": 94,
   "id": "dadf4e97-a083-4961-8f8d-e3bc8438b0c4",
   "metadata": {},
   "outputs": [
    {
     "data": {
      "image/png": "[encoded data removed]",
      "text/plain": [
       "<Figure size 576x432 with 1 Axes>"
      ]
     },
     "metadata": {
      "needs_background": "light"
     },
     "output_type": "display_data"
    }
   ],
   "source": [
    "ax=plot_crab(magic_ref=False)\n",
    "\n",
    "ax.set_xlim(30,20e3)\n",
    "\n",
    "logpar_model.plot_error(\n",
    "    [30 * u.GeV, 20 * u.TeV],\n",
    "    facecolor=\"k\",\n",
    "    sed_type=\"e2dnde\",\n",
    "    label=\"Joint likelihood fit\",\n",
    "    \n",
    ")\n",
    "\n",
    "logpar_model_fp.plot_error(\n",
    "    [30 * u.GeV, 20 * u.TeV],\n",
    "    facecolor=\"r\",\n",
    "    sed_type=\"e2dnde\",\n",
    "    label=\"Flux point fit\",\n",
    "    \n",
    ")\n",
    "\n",
    "plt.legend()\n",
    "plt.show()\n"
   ]
  },
  {
   "cell_type": "markdown",
   "id": "6febc612-4972-4cfc-a075-ddf434ce7275",
   "metadata": {},
   "source": [
    "We can see that for this specific case of a bright source with no upper-limit, the two methods give very similar results. \n",
    "However when several energy bins give a non-detection, the results can differ significantly."
   ]
  },
  {
   "cell_type": "code",
   "execution_count": null,
   "id": "320e4ef7-6ad7-463b-8511-8702584181c6",
   "metadata": {},
   "outputs": [],
   "source": []
  }
 ],
 "metadata": {
  "kernelspec": {
   "display_name": "Python 3 (ipykernel)",
   "language": "python",
   "name": "python3"
  },
  "language_info": {
   "codemirror_mode": {
    "name": "ipython",
    "version": 3
   },
   "file_extension": ".py",
   "mimetype": "text/x-python",
   "name": "python",
   "nbconvert_exporter": "python",
   "pygments_lexer": "ipython3",
   "version": "3.10.0"
  }
 },
 "nbformat": 4,
 "nbformat_minor": 5
}
