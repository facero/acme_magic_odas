{
 "cells": [
  {
   "cell_type": "markdown",
   "id": "633c6b3a-58ac-4d38-8b5b-52dbbde2830f",
   "metadata": {},
   "source": [
    "# MAGIC Geminga DL3 analysis\n",
    "Giovanni Ceribella\n",
    "(ceribell@mpp.mpg.de)\n",
    "05/08/2025\n",
    "\n",
    "![Polar phaseogram](img/polarnice.png)"
   ]
  },
  {
   "cell_type": "markdown",
   "id": "9d390367-4661-41f7-b13d-0561993c8aee",
   "metadata": {},
   "source": [
    "# Introduction\n",
    "In physics, **phase** is the real dimensionless argument, expressed as a fraction of cycles, that governs a periodic phenomenon. So, in a generic wave $e^{i\\Phi(t)}$, the phase is $\\Phi(t)$, here given a dependence on time. Phase is usually also expressed as an angle $\\vartheta=2\\pi\\,\\Phi$, such that $\\Delta\\Phi=1 \\rightarrow \\Delta\\vartheta=2\\pi\\,\\text{rad}$. The derivative of phase over time is the (instantaneous) frequency of the periodic phenomenon $\\nu(t)=d\\Phi/dt$, whereas the derivative of the corresponding angle $\\vartheta$ is the pulsation $\\omega(t)=d\\vartheta/dt$. A rotating pulsar is a periodic phenomenon, and as such can be attributed a phase, corresponding to the number of turns it has done since an arbitrary, reference starting moment.\n",
    "\n",
    "Phase at an instant $t$ can be broken up into an integer part $\\lfloor\\Phi(t)\\rfloor$ and a fractional part $\\varphi=\\{\\Phi\\}=(\\Phi\\mod1)$. The integer part is just counting how many full turns the pulsar has done until that moment. The fractional part $\\varphi$, which is often called simply \"phase\", relates instead to the angle the pulsar is presenting to the observer at that very moment $t$. Given the periodic nature of pulsar signals, the emission as a function of $\\{\\varphi\\}$ is of great physical importance, because it conveys information on what part of the pulsar magnetosphere is responsible for what emission. Studying the instantaneous emission of a pulsar as a function of $\\varphi$ is impossible, as very few $\\gamma$-rays can be measured in the short time span of a single pulsar rotation (typically less than a second). Instead, data is collected for a much longer time interval, and a value $\\varphi_i$ is then attributed to each event, based on a model of the pulsar rotation that is commonly called a *pulsar ephemeris*. The data can later be grouped using the values of $\\varphi_i$ to get a measurement of the emission from different *phase regions* defined by sub-intervals $(\\varphi_i,\\varphi_f) \\subseteq (0,1)$ corresponding to different parts of the magnetosphere. Generating and applying *ephemerides* for pulsars is beyond the scope of this notebook.\n",
    "\n",
    "All the $\\gamma$-ray pulsars detected by IACTs so far present a quiescent state during a phase interval $(\\varphi_{i}^0, \\varphi_{f}^0)$ that we call the \"off region\". That is to say, at every cycle of the pulsar, for a certain time the $\\gamma$-ray source effectively turns off. This fact can be exploited to define the background estimator for the computation of spectra *as a region of phase*, rather than a function of space as in the various ways employed for the construction of background maps. This procedure has the advantage to guarantee an estimate from a background that is both quasi-simultaneous (down to the sub-second time span of a pulsar period) and from the very same region of the sky the source we want to measure is at. As a result, the background estimate uncertainty, among the largest contributors to the systematic uncertainties for regular IACTs analyses, is effectively removed. Thanks to this strategy the dim, low-energy pulsar emission can be soundly detected even in the presence of a background that is much larger than the signal itself ($SNR\\sim1\\%$), which would otherwise \"drown\" the signal.\n",
    "\n",
    "In the following, we will see how to do a simple pulsed analysis using MAGIC DL3 files of the Geminga pulsar and gammapy. These DL3 files were further processed with a simple script to add an extra column to their FITS event table \"PULSE_PHASE\", which contains the value of $\\varphi$ for every event. Much of this notebook is based upon the master thesis work of Yunhe Wang, which I refer to for further details."
   ]
  },
  {
   "cell_type": "markdown",
   "id": "74a3e19b-74e7-45b6-bd2b-23f8e5e5d3d4",
   "metadata": {},
   "source": [
    "# Phaseogram"
   ]
  },
  {
   "cell_type": "markdown",
   "id": "07f21120-517e-41ed-a5d7-77903db60a14",
   "metadata": {},
   "source": [
    "A diagram of the number of recorded excess events versus the rotational phase $\\varphi$ (variously called \"lightcurve\", \"phasogram\", \"phaseogram\", etc. by different people) bears information on the relative intensities of the emission from different parts of the magnetosphere even when not fully accounting for the instrument exposure. This is because the IRFs are independent on phase, which is the same as says that they don't vary on the sub-second scale of a single pulsar rotation. Unfortunately, `gammapy` does not have a method to build phaseograms, so we use astropy's fits module to read the fits files directly.\n",
    "\n",
    "To produce a meaningful phaseogram, energy-dependent $\\theta^2$ cuts should be applied to reduce the effect of the large cosmic ray background. Gammaness/Hadronness cuts are already applied when creating pointlike DL3 files, whereas the $\\theta^2$ ones are incorporated into the definition of the IRFs. In order to plot a phaseogram and calculate the significance of the emission from a certain phase region, we have to collect events that satisfy both the gammaness and $\\theta^2$ cut."
   ]
  },
  {
   "cell_type": "code",
   "execution_count": null,
   "id": "0803a4ea-2c47-4f60-a093-ecc59316d76f",
   "metadata": {},
   "outputs": [],
   "source": [
    "import glob\n",
    "\n",
    "from   astropy.io    import fits\n",
    "from   astropy.table import Table\n",
    "from   astropy.coordinates import angular_separation\n",
    "import astropy.units as u"
   ]
  },
  {
   "cell_type": "markdown",
   "id": "8fed0209-4725-47f3-8a25-c187698936b4",
   "metadata": {},
   "source": [
    "We can set some global energy limits for the phaseogram but (REMEMBER!) since we are cutting event by event, these are necessarily **reconstructed** energies. There is no way to give a true energy to a single event, only to a statistical enseble of them. The limits here were determined by looking at the expected excess count rates versus reconstructed energy, folding a spectrum similar to the one of Geminga with the IRFs. No excess is expected below a reconstructed energy of 25 GeV (but the true energy could easily be half of it!) or beyond 100 GeV, so we limit the search to these energies. It is important not to play with these values to get the highest possible significance, as that would induce a systematic bias (trial factor)."
   ]
  },
  {
   "cell_type": "code",
   "execution_count": null,
   "id": "46751f8a-4415-4f65-bb48-ccbc18c30691",
   "metadata": {},
   "outputs": [],
   "source": [
    "emin = 25.0*u.GeV\n",
    "emax = 100.0*u.GeV"
   ]
  },
  {
   "cell_type": "markdown",
   "id": "159a2a84-23ed-4053-ac19-5aca49b589f6",
   "metadata": {},
   "source": [
    "We now read though the files one by one, retrieve the event lists, the energy-dependent radial cuts, and fill an array with the phases of the events that pass the cuts."
   ]
  },
  {
   "cell_type": "code",
   "execution_count": null,
   "id": "e49ae580-7ec3-415b-98e6-59111c6756ee",
   "metadata": {},
   "outputs": [],
   "source": [
    "ifiles = glob.glob(\"data/Geminga/20*Geminga*.fits\")\n",
    "phases = []\n",
    "\n",
    "for ifile in ifiles:\n",
    "    hdulist = fits.open(ifile)\n",
    "    #Reading the position of Geminga for the theta cut\n",
    "    src_ra  = hdulist['EVENTS'].header['RA_OBJ']*u.deg\n",
    "    src_dec = hdulist['EVENTS'].header['DEC_OBJ']*u.deg\n",
    "    #Reading the energy-dependent theta cuts\n",
    "    cuts_emin = hdulist['RAD_MAX'].data['ENERG_LO'][0]*u.TeV\n",
    "    cuts_emax = hdulist['RAD_MAX'].data['ENERG_HI'][0]*u.TeV\n",
    "    cuts_rmax = hdulist['RAD_MAX'].data['RAD_MAX'][0,0]*u.deg\n",
    "    #Event positions, energy and phase\n",
    "    evt_ra     = hdulist['EVENTS'].data['RA']*u.deg\n",
    "    evt_dec    = hdulist['EVENTS'].data['DEC']*u.deg\n",
    "    evt_energy = hdulist['EVENTS'].data['ENERGY']*u.TeV\n",
    "    evt_phase  = hdulist['EVENTS'].data['PULSE_PHASE']\n",
    "    \n",
    "    #Radial distance from the source position theta\n",
    "    evt_theta  = angular_separation(evt_ra,evt_dec,src_ra,src_dec).to(u.deg)\n",
    "\n",
    "    #Cutting the events\n",
    "    mask_elims = ( evt_energy >= emin ) & ( evt_energy < emax)\n",
    "\n",
    "    #List comprehension over the energy-dependent theta cut bins\n",
    "    masks_bins = [ ( evt_energy >= emin_i ) & ( evt_energy < emax_i) & ( evt_theta <= rmax_i )\n",
    "                      for emin_i,emax_i,rmax_i in zip(cuts_emin,cuts_emax,cuts_rmax) ]\n",
    "\n",
    "    #Or of all the bins\n",
    "    mask_rmax  = np.logical_or.reduce(masks_bins)\n",
    "    total_mask = mask_elims & mask_rmax\n",
    "\n",
    "    phases.append(evt_phase[total_mask])\n",
    "\n",
    "phases = np.concatenate(phases)\n",
    "print(\"Number of survived events: %d\"%(len(phases)))"
   ]
  },
  {
   "cell_type": "markdown",
   "id": "3f7aed47-a2d1-4cdf-ae84-2c1b77a75148",
   "metadata": {},
   "source": [
    "We can now plot the phaseogram using plain matplotlib functions."
   ]
  },
  {
   "cell_type": "code",
   "execution_count": null,
   "id": "80af3753-1880-4bba-a184-2566355c6e5d",
   "metadata": {},
   "outputs": [],
   "source": [
    "fig,ax = plt.subplots(figsize=(9,5))\n",
    "hist,edges,_ = ax.hist(phases,range=(0,1),bins=54,color='#0044cc',zorder=0)\n",
    "centers = (edges[1:]+edges[:-1])/2\n",
    "\n",
    "#The background is huge and we are well beyond the Poissonian->Gaussian transition.\n",
    "ax.errorbar(centers,hist,yerr=np.sqrt(hist),fmt='_',color='midnightblue',alpha=0.5,zorder=0)\n",
    "\n",
    "ax.set_xlim(0,1)\n",
    "ax.set_ylim(hist.min()-(hist.max()-hist.min())*0.125,hist.max()+(hist.max()-hist.min())*0.125)\n",
    "\n",
    "OFF = [0.700,0.950]\n",
    "P2  = [0.550,0.642]\n",
    "cen = lambda x: np.mean(x)\n",
    "\n",
    "#Off region\n",
    "ax.fill_between(OFF,ax.get_ylim()[0],ax.get_ylim()[1],color='k',alpha=0.1,zorder=-1)\n",
    "ax.fill_between(OFF,ax.get_ylim()[0],ax.get_ylim()[1],color='k',alpha=0.1,zorder=+1)\n",
    "ax.text(cen(OFF),ax.get_ylim()[1],'OFF',va='bottom',ha='center')\n",
    "\n",
    "\n",
    "#P2 region\n",
    "ax.fill_between(P2 ,ax.get_ylim()[0],ax.get_ylim()[1],color='springgreen',alpha=0.1,zorder=-1)\n",
    "ax.fill_between(P2 ,ax.get_ylim()[0],ax.get_ylim()[1],color='springgreen',alpha=0.1,zorder=+1)\n",
    "ax.text(cen(P2),ax.get_ylim()[1],'P2',va='bottom',ha='center')\n",
    "\n",
    "ax.set_xlabel(r\"Pulsar phase $\\varphi$\")\n",
    "ax.set_ylabel(r\"Events\")\n",
    "fig.tight_layout()\n",
    "plt.show()"
   ]
  },
  {
   "cell_type": "markdown",
   "id": "c387f892-0392-4a2f-b046-02fde8a68442",
   "metadata": {},
   "source": [
    "There seems to be a large accumulation of events at around phase $\\varphi\\sim0.6$. This is roughly where the second pulse of Geminga is located at Fermi-LAT energies. But is it significant?\n",
    "\n",
    "The region of the P2 emission, determined from Fermi-LAT data, is defined by $\\varphi \\in \\text{P2}:=(0.550, 0.642)$. The off region, where no pulsed emission is present, is instead $\\text{OFF}:=(0.70,0.95)$. It is important not to play with the region definitions based on the data itself that we are applying them to, otherwise this would, again, introduce a large trial factor."
   ]
  },
  {
   "cell_type": "code",
   "execution_count": null,
   "id": "32aaae56-5242-4f8f-a839-416625d4236a",
   "metadata": {},
   "outputs": [],
   "source": [
    "n_on  = phases[ (phases>=P2[0] ) & (phases<P2[1] ) ].size\n",
    "n_off = phases[ (phases>=OFF[0]) & (phases<OFF[1]) ].size\n",
    "alpha = (P2[1]-P2[0])/(OFF[1]-OFF[0])\n",
    "\n",
    "#Gammapy LiMa\n",
    "from gammapy.stats import WStatCountsStatistic\n",
    "wstat = WStatCountsStatistic(n_on,n_off,alpha)\n",
    "print('P2 significance (gammapy):\\t',wstat.sqrt_ts)\n",
    "\n",
    "#We can also avoid gammapy completely and use the\n",
    "#actual Li&Ma formula 17. It should be the same.\n",
    "def CalcLima17(Non,Noff,alfa):\n",
    "  \"\"\"\n",
    "     Calculated LiMa17. If the excess is lower than zero,\n",
    "     returns a negative significance.\n",
    "  \"\"\"\n",
    "  significance = np.sqrt( 2*Non* np.log( (1+alfa)/alfa * ( Non / (Non+Noff) ) ) + \\\n",
    "                          2*Noff*np.log( (1+alfa)      * ( Noff/ (Non+Noff) ) )   )\n",
    "  if(Non>alfa*Noff):\n",
    "    return significance\n",
    "  else:\n",
    "    return -significance\n",
    "print('P2 significance (formula):\\t',CalcLima17(n_on,n_off,alpha))"
   ]
  },
  {
   "cell_type": "markdown",
   "id": "c7198227-46ea-416f-b4d0-9cdc38bf9594",
   "metadata": {},
   "source": [
    "So we have found a $6.4\\,\\sigma$ significant signal from Geminga's P2 pulse. We proceed to make its spectrum using gammapy."
   ]
  },
  {
   "cell_type": "markdown",
   "id": "ba73615c-2cf8-4ce3-a61e-6a575d9e7e94",
   "metadata": {},
   "source": [
    "# Spectra\n",
    "As you will see, this is all very standard, and minimally different from any other point-like analysis, for instance that of an AGN. The main difference is importing and using gammapy's class `PhaseBackgroundMaker` to specify the signal and background regions in phase."
   ]
  },
  {
   "cell_type": "code",
   "execution_count": null,
   "id": "3709939a-6e17-4d97-bf3b-86951ef4e1e7",
   "metadata": {},
   "outputs": [],
   "source": [
    "import numpy as np\n",
    "import matplotlib.pyplot as plt\n",
    "\n",
    "from astropy             import units as u\n",
    "from astropy.coordinates import SkyCoord\n",
    "\n",
    "from IPython.display import display\n",
    "\n",
    "from regions import PointSkyRegion\n",
    "\n",
    "from gammapy.data            import DataStore\n",
    "from gammapy.maps            import MapAxis, RegionGeom\n",
    "from gammapy.datasets        import Datasets, SpectrumDataset\n",
    "from gammapy.makers          import SpectrumDatasetMaker, PhaseBackgroundMaker\n",
    "from gammapy.modeling        import Fit\n",
    "from gammapy.modeling.models import PowerLawSpectralModel, LogParabolaSpectralModel\n",
    "from gammapy.modeling.models import SkyModel"
   ]
  },
  {
   "cell_type": "code",
   "execution_count": null,
   "id": "1f9e9c45-9f13-4f76-8063-e4547d859f59",
   "metadata": {},
   "outputs": [],
   "source": [
    "import warnings\n",
    "warnings.filterwarnings('ignore')"
   ]
  },
  {
   "cell_type": "markdown",
   "id": "4b8b8543-6a40-4430-a781-096d489eada4",
   "metadata": {},
   "source": [
    "Here we specify the position of the source and the sizes and binning of the energy axes. This binning is a slight variation of the standard MARS one, with the extremes shifted so that it has a bin beginning at the reconstructed energy of $25\\,\\text{GeV}$, the minimum meaningful one that was found by folding a spectrum similar to the one of Geminga with the IRFs.\n",
    "\n",
    "These data also employed Geminga-tailored Monte-Carlo simulations to determine the IRFs and train the RF for the gamma-hadron separation, direction and energy classification. These are MCs with a larger statistics at the lowest energies, that track the path of Geminga in the sky as seen from La Palma. This is similar to the declination bands of LST-1 MCs. Since the target of these observations was the pulsar, the maximum simulated energy of these MCs is $5\\,\\text{TeV}$. As a result, nothing with an energy greater than few $\\text{TeV}$ can be reconstructed meaningfully from this data."
   ]
  },
  {
   "cell_type": "code",
   "execution_count": null,
   "id": "38b803f8-ff43-460b-8732-3b8ab6491943",
   "metadata": {},
   "outputs": [],
   "source": [
    "# Geminga\n",
    "target_position = SkyCoord(ra=98.475638, dec=17.770253, unit=\"deg\", frame=\"icrs\")\n",
    "on_region       = PointSkyRegion(target_position)\n",
    "\n",
    "ereco = np.geomspace(5.928434264136119*u.GeV,2.5*u.TeV,21+1)\n",
    "etrue = np.geomspace(5.928434264136119*u.GeV,2.5*u.TeV,int(21/1.4 + 1))\n",
    "\n",
    "energy_axis      = MapAxis.from_energy_edges(ereco,name=\"energy\",unit='GeV')\n",
    "energy_axis_true = MapAxis.from_energy_edges(etrue,name='energy_true',unit='GeV')"
   ]
  },
  {
   "cell_type": "markdown",
   "id": "0f24426b-4232-4a8d-b784-6374689ef004",
   "metadata": {},
   "source": [
    "## Data Reduction"
   ]
  },
  {
   "cell_type": "markdown",
   "id": "09ded28d-fdd3-4b64-a393-07d2da6608ae",
   "metadata": {},
   "source": [
    "Loading the data from the indices in the directory."
   ]
  },
  {
   "cell_type": "code",
   "execution_count": null,
   "id": "7db2598b-62c8-4700-ac4c-91c51f3ca417",
   "metadata": {},
   "outputs": [],
   "source": [
    "data_store   = DataStore.from_dir(\"data/Geminga\")\n",
    "observations = data_store.get_observations(required_irf=\"point-like\")\n",
    "print(data_store)"
   ]
  },
  {
   "cell_type": "markdown",
   "id": "13f99973-e6a7-47cb-a058-896bd0083188",
   "metadata": {},
   "source": [
    "### Effective time, figure of merit\n",
    "We can compute the total effective time, to have an idea of how much it is."
   ]
  },
  {
   "cell_type": "code",
   "execution_count": null,
   "id": "58d20dc4-4bfa-4244-a6df-19da95e7de6b",
   "metadata": {},
   "outputs": [],
   "source": [
    "t_eff = 0\n",
    "for i in range(len(observations)):\n",
    "    t_eff += observations[i].observation_live_time_duration\n",
    "print('Effective time :', t_eff, ' or ', t_eff.to(u.h))"
   ]
  },
  {
   "cell_type": "markdown",
   "id": "44bcb344-14b3-4134-80a4-4f35143f8631",
   "metadata": {},
   "source": [
    "So the figure of merit (how much significance we accumulate in time is):"
   ]
  },
  {
   "cell_type": "code",
   "execution_count": null,
   "id": "a5d49f1e-f335-46e1-83cd-84a5a53b941c",
   "metadata": {},
   "outputs": [],
   "source": [
    "print('Figure of merit:', wstat.sqrt_ts / np.sqrt(t_eff.to(u.h)))\n",
    "print('TS time:       :', t_eff.to(u.h) / wstat.ts )"
   ]
  },
  {
   "cell_type": "markdown",
   "id": "b8257422-56ae-4218-b100-aa8d2ea86d51",
   "metadata": {},
   "source": [
    "It takes 2 hours to accumulate one unit of TS (variance). Therefore we expect that for a proposal aiming to get $10\\,\\sigma$ we would need $200\\,\\text{h}$ of observation time."
   ]
  },
  {
   "cell_type": "markdown",
   "id": "c429321a-80e6-4920-97cd-daa689bfc9eb",
   "metadata": {},
   "source": [
    "### Phased data\n",
    "Here we create the phase intervals corresponding to the signal and the background, use the `PhaseBackgroundMaker` class to generate the background model, and load the actual observations. From here on everything that follows is a normal, point-like gammapy analysis."
   ]
  },
  {
   "cell_type": "code",
   "execution_count": null,
   "id": "ee592420-777c-40a9-a124-5e971a1ffa6b",
   "metadata": {
    "scrolled": true
   },
   "outputs": [],
   "source": [
    "geom = RegionGeom.create(region=on_region, axes=[energy_axis])\n",
    "\n",
    "dataset_empty = SpectrumDataset.create(geom=geom, energy_axis_true = energy_axis_true)\n",
    "dataset_maker = SpectrumDatasetMaker(containment_correction=False, selection=[\"counts\", \"exposure\", \"edisp\"])\n",
    "\n",
    "# P2 pulse of Geminga\n",
    "on_phase  = (0.550, 0.642)\n",
    "off_phase = (0.700, 0.950)\n",
    "\n",
    "#I gave the phase column the name \"PULSE_PHASE\" for consistency with Fermi-LAT fits files.\n",
    "bkg_maker_phase = PhaseBackgroundMaker(on_phase, off_phase, phase_column_name='PULSE_PHASE')\n",
    "\n",
    "datasets00 = Datasets()\n",
    "for observation in observations:\n",
    "    dataset = dataset_maker.run( dataset_empty.copy(name=str(observation.obs_id)), observation )\n",
    "    dataset_on_off = bkg_maker_phase.run(dataset, observation)\n",
    "    datasets00.append(dataset_on_off)"
   ]
  },
  {
   "cell_type": "markdown",
   "id": "c151db2b-0fbc-41fa-9713-99cf34adfc2f",
   "metadata": {},
   "source": [
    "## Sanity checks\n",
    "We can have a quick look into the IRFs of the data to see if everything looks sane."
   ]
  },
  {
   "cell_type": "markdown",
   "id": "fd780896-a775-46d4-97d2-65fec02a5396",
   "metadata": {},
   "source": [
    "### IRFs"
   ]
  },
  {
   "cell_type": "code",
   "execution_count": null,
   "id": "3128bee8-939f-4b46-ae56-ef198a715ee8",
   "metadata": {},
   "outputs": [],
   "source": [
    "dataset_stacked = datasets00.stack_reduce()\n",
    "dataset_stacked.peek()"
   ]
  },
  {
   "cell_type": "markdown",
   "id": "c9183cf4-65df-447d-a1b9-a3ff58638d86",
   "metadata": {},
   "source": [
    "### Energy Dispersion\n",
    "A closer look to the energy dispersion matrix, here rotated to match the MAGIC/MARS convention (estimated energy on the x axis)."
   ]
  },
  {
   "cell_type": "code",
   "execution_count": null,
   "id": "8214297a-16cd-47db-8ab6-aea88c30366b",
   "metadata": {},
   "outputs": [],
   "source": [
    "fig, ax = plt.subplots()\n",
    "\n",
    "kernel = dataset_stacked.edisp.get_edisp_kernel()\n",
    "\n",
    "data = kernel.data\n",
    "\n",
    "energy_axis_true = kernel.axes['energy_true']\n",
    "energy_axis      = kernel.axes['energy']\n",
    "\n",
    "caxes = ax.pcolormesh(energy_axis.edges, energy_axis_true.edges, data, \n",
    "                      cmap='viridis', \n",
    "                     )\n",
    "\n",
    "cbar = plt.colorbar(caxes, ax=ax)\n",
    "cbar.set_label(\"Probability density (A.U.)\")\n",
    "\n",
    "ax.set_xlabel(\"$E_{rec}$ [GeV]\", fontsize=14)\n",
    "ax.set_ylabel(\"$E_{true}$ [GeV]\", fontsize=14)\n",
    "\n",
    "# Plot the line (y = x)\n",
    "emin = 5.92\n",
    "emax = 2.5e3\n",
    "ax.plot([emin, emax], [emin, emax], color='white', linestyle='--')\n",
    "\n",
    "ax.set_xlim([emin, emax])\n",
    "ax.set_ylim([emin, emax])\n",
    "ax.set_aspect('equal', adjustable='box')\n",
    "\n",
    "ax.loglog()\n",
    "fig.tight_layout()\n",
    "plt.show()"
   ]
  },
  {
   "cell_type": "markdown",
   "id": "5061fd6f-ee00-4ee0-a659-b5ab40b7efc6",
   "metadata": {},
   "source": [
    "Multiplying this migration matrix with an assumed spectrum similar to the one of Geminga (index -5.2 from the joint fit of MAGIC and Fermi) and the exposure gives us a plot that shows where the excess counts in each reconstructed energy bin really come from and where they're concentracted. It is from such a plot that we can determine the optimal energy interval from the phaseogram, that earlier was set to $25\\,\\text{GeV}$ to $100\\,\\text{GeV}$."
   ]
  },
  {
   "cell_type": "code",
   "execution_count": null,
   "id": "46a921fe-176c-4dc0-9361-e5c07369b496",
   "metadata": {},
   "outputs": [],
   "source": [
    "#Assumed spectrum\n",
    "etrue_center = (energy_axis_true.edges[1:] * energy_axis_true.edges[:-1])**0.5\n",
    "ereco_center = (energy_axis.edges[1:]*energy_axis.edges[:-1])**0.5\n",
    "assumed_spec = lambda x : (x/(1.*u.GeV))**(-5.2 +1)  #+1 for the logarithmic binning\n",
    "weights = assumed_spec(etrue_center)\n",
    "#Pulling the exposure vector out of its shell\n",
    "weights = weights * dataset_stacked.exposure._data.flatten()\n",
    "#Renormalizing\n",
    "weights = weights/weights.sum()\n",
    "\n",
    "#Matrix multiplication to form a well-shaped\n",
    "#weight matrix.\n",
    "weights = np.expand_dims(weights, axis=1)  # len(etrue)×1\n",
    "onesvec = np.ones((1,data.shape[1]))       # 1×len(ereco)\n",
    "weight_matrix = weights @ onesvec\n",
    "\n",
    "data = data*weight_matrix"
   ]
  },
  {
   "cell_type": "code",
   "execution_count": null,
   "id": "e7c6f37f-cef3-47c8-91f3-80b67fb7a517",
   "metadata": {},
   "outputs": [],
   "source": [
    "fig, ax = plt.subplots()\n",
    "\n",
    "caxes = ax.pcolormesh(energy_axis.edges, energy_axis_true.edges, data, cmap='viridis')\n",
    "conts = ax.contour(ereco_center.value, etrue_center.value, data.value, colors='w', alpha=0.4142)\n",
    "\n",
    "cbar = plt.colorbar(caxes, ax=ax)\n",
    "cbar.set_label(\"Probability density\")\n",
    "\n",
    "ax.set_xlabel(\"$E_{rec}$ [GeV]\", fontsize=14)\n",
    "ax.set_ylabel(\"$E_{true}$ [GeV]\", fontsize=14)\n",
    "\n",
    "# Plot the line (y = x)\n",
    "ermin = 10.\n",
    "ermax = 150.\n",
    "etmin = 5.92\n",
    "etmax = 150.\n",
    "ax.plot([ermin, ermax], [etmin, etmax], color='white', linestyle='--')\n",
    "\n",
    "ax.set_xlim([ermin, ermax])\n",
    "ax.set_ylim([etmin, etmax])\n",
    "ax.set_aspect('equal', adjustable='box')\n",
    "\n",
    "ax.loglog()\n",
    "fig.tight_layout()\n",
    "plt.show()"
   ]
  },
  {
   "cell_type": "markdown",
   "id": "97d30087-ed1a-45e4-b846-77967d943b40",
   "metadata": {},
   "source": [
    "Therefore, we expect most of the excess from the pulsar to be at around $E_{\\text{reco}}\\sim40\\,\\text{GeV}$, but the majority of those same events actually have real energies below $E_{\\text{true}}\\leq30\\,\\text{GeV}$. The lowest energy events at around $E_{\\text{reco}}\\sim25\\,\\text{GeV}$ map to events at $E_{\\text{true}}\\geq10\\,\\text{GeV}$, corresponding to a bias of 100%. A plot such at the one above can be used to \"unfold\" a reconstructed energy interval, for example to attribute the correct energy range to the phaseogram. We can also project the plot onto the $E_{\\text{true}}$ axis to get the analysis threshold."
   ]
  },
  {
   "cell_type": "code",
   "execution_count": null,
   "id": "7eed8b8c-2342-4ed8-9ee3-0bdcf2176941",
   "metadata": {},
   "outputs": [],
   "source": [
    "from scipy.optimize import curve_fit\n",
    "from scipy.stats import landau\n",
    "land = lambda x,A,mu,c : A*landau.pdf(x,loc=mu+2*c/np.pi*np.log(c),scale=c)\n",
    "\n",
    "popt,pcov = curve_fit(land,etrue_center,data.sum(axis=1))\n",
    "\n",
    "fig, ax = plt.subplots()\n",
    "myx=np.linspace(etmin,etmax,10000)\n",
    "ax.plot(myx,land(myx,*popt),'r-')\n",
    "\n",
    "etrue_low  = energy_axis_true.edges[:-1]\n",
    "etrue_span = energy_axis_true.edges[1:]-energy_axis_true.edges[:-1]\n",
    "ax.bar(etrue_low,data.sum(axis=1),align='edge',width=etrue_span,color='C0')\n",
    "\n",
    "threshold = myx[np.argmax(land(myx,*popt))]\n",
    "\n",
    "ax.text(0.99,0.99,r'Threshold = %0.2f GeV'%threshold,va='top',ha='right',transform=ax.transAxes)\n",
    "\n",
    "ax.set_ylabel(\"Probability density\", fontsize=14)\n",
    "ax.set_xlabel(\"$E_{true}$ [GeV]\", fontsize=14)\n",
    "\n",
    "ax.set_xlim([etmin, etmax])\n",
    "\n",
    "fig.tight_layout()\n",
    "plt.show()"
   ]
  },
  {
   "cell_type": "markdown",
   "id": "ca40f0f4-902c-4505-9299-956054b05562",
   "metadata": {},
   "source": [
    "Therefore, the energy threshold for this analysis is around $\\sim20\\,\\text{GeV}$."
   ]
  },
  {
   "cell_type": "markdown",
   "id": "2884e253-0f9d-46a0-8435-1ca6b8aef09a",
   "metadata": {},
   "source": [
    "### Exposure\n",
    "And we can also have a look directly at the effective area curve. The Sum-Trigger here helps a lot at the lowest energies, allowing to detect the faint signal of Geminga below $\\sim80\\,\\text{GeV}$, which would be impossible to see otherwise."
   ]
  },
  {
   "cell_type": "code",
   "execution_count": null,
   "id": "17eb040e-f3fb-4431-a3f6-eb087555098d",
   "metadata": {},
   "outputs": [],
   "source": [
    "fig, ax = plt.subplots()\n",
    "dataset_stacked.exposure.plot()\n",
    "ax.set_xlabel(\"True Energy [GeV]\", fontsize=14)\n",
    "ax.set_ylabel(\"Exposure [$\\mathrm{m^2\\ s}$]\", fontsize=14)\n",
    "fig.tight_layout()\n",
    "plt.show()"
   ]
  },
  {
   "cell_type": "markdown",
   "id": "9cdab1c9-04bc-4c67-b2ff-a481d444401b",
   "metadata": {},
   "source": [
    "### Counts\n",
    "Finally, we can peek into the count histograms as well."
   ]
  },
  {
   "cell_type": "code",
   "execution_count": null,
   "id": "d8feebb7-00b7-41d0-8f84-a9d288e98a45",
   "metadata": {},
   "outputs": [],
   "source": [
    "mask = dataset_stacked.mask\n",
    "print(\"Total signal     counts:\", dataset_stacked.counts.data[mask].sum(), \" without mask: \", dataset_stacked.counts.data.sum())\n",
    "print(\"Total background counts:\", dataset_stacked.background.data[mask].sum())\n",
    "\n",
    "summed_stat = dataset_stacked._counts_statistic[mask].sum()\n",
    "print(\"Total excess     counts:\", summed_stat.n_sig)\n",
    "\n",
    "print(\"Signal to noise ratio  :\", summed_stat.n_sig/dataset_stacked.background.data[mask].sum() )\n"
   ]
  },
  {
   "cell_type": "code",
   "execution_count": null,
   "id": "43c9d262-171e-40b0-bb85-89aab4ee8783",
   "metadata": {},
   "outputs": [],
   "source": [
    "fig, ax = plt.subplots()\n",
    "bin_edges = dataset_stacked.counts.geom.axes['energy'].edges\n",
    "ax.stairs(dataset_stacked.counts.data[:,0,0], bin_edges.value, label='Total counts')\n",
    "ax.stairs(dataset_stacked.background.data[:,0,0], bin_edges.value, label='Background counts')\n",
    "\n",
    "ax.set_yscale(\"log\")\n",
    "ax.set_xscale(\"log\")\n",
    "ax.legend()\n",
    "fig.tight_layout()\n",
    "plt.show()"
   ]
  },
  {
   "cell_type": "markdown",
   "id": "30308e0d-1a59-451f-92bd-e65adfd02c3f",
   "metadata": {},
   "source": [
    "The excesses are very little compared to the background, at the level of 2%. Normally this would be an issue, as the background uncertainty constitutes a systematic that can easily create a fake $\\geq5\\,\\sigma$ significance if the signal to noise ratio is very low. It is generally required that the signal is at least $5\\%$ of the background for it to be trustworthy. However, pulsars constitute an exception to this rule, because the background is determined in phase and is thus simultaneous (down to the pulsar period of $0.237\\,\\text{s}$) and also from the same area in the camera as the signal. It is, in a certain sense, the best possible background, collected by \"turning off\" the source while keeping all other variables the same. This allows a reliable estimate of the fluxes even if the signal to noise ratio is small.\n",
    "\n",
    "We have now a closer look to the previous plot in the excess area."
   ]
  },
  {
   "cell_type": "code",
   "execution_count": null,
   "id": "bfe975a5-c460-4caa-bd05-176d2ca9ceeb",
   "metadata": {},
   "outputs": [],
   "source": [
    "fig, ax = plt.subplots()\n",
    "bin_edges = dataset_stacked.counts.geom.axes['energy'].edges\n",
    "ax.stairs(dataset_stacked.counts.data[:,0,0], bin_edges.value, label='Total counts')\n",
    "ax.stairs(dataset_stacked.background.data[:,0,0], bin_edges.value, label=r'Background counts')\n",
    "\n",
    "ax.set_yscale(\"log\")\n",
    "ax.set_xscale(\"log\")\n",
    "ax.legend( fontsize=13)\n",
    "ax.set_xlabel(\"Reconstructed Energy [GeV]\", fontsize=12)\n",
    "ax.set_ylabel(\"Counts\", fontsize=12)\n",
    "ax.set_xlim(20,120)\n",
    "ax.set_ylim(1500,45000)\n",
    "fig.tight_layout()\n",
    "plt.show()"
   ]
  },
  {
   "cell_type": "code",
   "execution_count": null,
   "id": "e9735a87-9987-4c40-acf6-31ac8c20a197",
   "metadata": {},
   "outputs": [],
   "source": [
    "fig, ax = plt.subplots()\n",
    "bin_edges = dataset_stacked.counts.geom.axes['energy'].edges\n",
    "ax.stairs(dataset_stacked.excess.data[:,0,0], bin_edges.value, color='C3', label='$N_{\\mathrm{excess}}$ from observations')\n",
    "\n",
    "ax.set_yscale(\"log\")\n",
    "ax.set_xscale(\"log\")\n",
    "ax.legend( fontsize=12)\n",
    "ax.set_xlabel(\"Reconstructed Energy [GeV]\", fontsize=12)\n",
    "ax.set_ylabel(\"Counts\", fontsize=12)\n",
    "fig.tight_layout()\n",
    "plt.show()"
   ]
  },
  {
   "cell_type": "markdown",
   "id": "a8c535d6-f854-44f6-ad77-13b896d9b183",
   "metadata": {},
   "source": [
    "As expected, there is no excess whatsoever below $25\\,\\text{GeV}$ or above $100\\,\\text{GeV}$ in reconstructed energy."
   ]
  },
  {
   "cell_type": "markdown",
   "id": "9a8ba279-d6fd-4c1d-a1c7-d61709c6f19f",
   "metadata": {},
   "source": [
    "## Spectrum Fitting\n",
    "We will fit a power-law and a log-parabola to the data, starting with the stacked likelihood method, and then using the joint one. In both cases, the results are compatible with the MARS ones, and do not show any strong preference for the log-parabola over the power-law.\n",
    "\n",
    "Strictly speaking, the log-parabola will *always* be favoured over the power-law, because all possible power-laws are also log-parabolas."
   ]
  },
  {
   "cell_type": "markdown",
   "id": "206b92d8-6989-4a04-aa57-d03df68d502f",
   "metadata": {},
   "source": [
    "### Power-Law (stacked)"
   ]
  },
  {
   "cell_type": "code",
   "execution_count": null,
   "id": "3b9a7512-6e79-49db-a7f6-a0f28f37a538",
   "metadata": {},
   "outputs": [],
   "source": [
    "dataset_stacked = datasets00.stack_reduce()\n",
    "\n",
    "spectral_model = PowerLawSpectralModel(\n",
    "    amplitude=1e-9 * u.Unit(\"cm-2 s-1 TeV-1\"),\n",
    "    index=5,\n",
    "    reference=32.15 * u.GeV,\n",
    ")\n",
    "model = SkyModel(spectral_model=spectral_model, name=\"gemingaP2_pwl\")\n",
    "dataset_stacked.models = [model]\n",
    "\n",
    "fit_pwl=Fit()\n",
    "result_pwl = fit_pwl.run(datasets=dataset_stacked)\n",
    "model_pwl_stacked = model.copy()\n",
    "\n",
    "print(result_pwl)\n",
    "display(result_pwl.models.to_parameters_table())"
   ]
  },
  {
   "cell_type": "code",
   "execution_count": null,
   "id": "aa212467-b884-4b6a-9bbf-a2581929e409",
   "metadata": {},
   "outputs": [],
   "source": [
    "# detailed info\n",
    "print(result_pwl.minuit)\n",
    "print()\n",
    "print('Covariance matrix:\\n', result_pwl.models.covariance, '\\n')\n",
    "result_pwl.models.covariance.plot_correlation()\n",
    "plt.show()"
   ]
  },
  {
   "cell_type": "code",
   "execution_count": null,
   "id": "7a14b9f2-3b84-4f8d-be14-8a9a8b9357b9",
   "metadata": {},
   "outputs": [],
   "source": [
    "fig, ax = plt.subplots()\n",
    "plot_kwargs = {\n",
    "    \"energy_bounds\": [15, 100] * u.GeV,\n",
    "    \"sed_type\": \"e2dnde\",\n",
    "    \"ax\": ax,\n",
    "}\n",
    "\n",
    "magic2020_paper=PowerLawSpectralModel(\n",
    "    amplitude= 2.3e-9*u.Unit(\"TeV-1 cm-2 s-1\"),\n",
    "    reference= 32.15*u.GeV,\n",
    "    index = 5.62,\n",
    ")\n",
    "\n",
    "#This neglects the correlation between the parameters, but for a simple plot as this one it is OK.\n",
    "magic2020_paper.parameters['index'].error = 0.54\n",
    "magic2020_paper.parameters['amplitude'].error = 0.7e-9 * u.Unit(\"TeV-1 cm-2 s-1\")\n",
    "\n",
    "model_pwl_stacked.spectral_model.plot(**plot_kwargs, label=\"Power-Law (stacked)\")\n",
    "model_pwl_stacked.spectral_model.plot_error(**plot_kwargs, facecolor=\"blue\", alpha=0.3)\n",
    "magic2020_paper.plot(**plot_kwargs, ls='--', label=\"MARS/fold\")\n",
    "magic2020_paper.plot_error(**plot_kwargs, facecolor=\"C1\", ls='--')\n",
    "ax.legend()\n",
    "fig.tight_layout()\n",
    "plt.show()"
   ]
  },
  {
   "cell_type": "markdown",
   "id": "3721f428-f041-4fc1-8127-f43bd8db8b07",
   "metadata": {},
   "source": [
    "### Power-Law (joined)"
   ]
  },
  {
   "cell_type": "code",
   "execution_count": null,
   "id": "c0e0fe6b-3f30-458c-84c7-183aef35e18a",
   "metadata": {},
   "outputs": [],
   "source": [
    "spectral_model = PowerLawSpectralModel(\n",
    "    amplitude=1e-9 * u.Unit(\"cm-2 s-1 TeV-1\"),\n",
    "    index=5,\n",
    "    reference=32.15 * u.GeV,\n",
    ")\n",
    "model = SkyModel(spectral_model=spectral_model, name=\"gemingaP2_pwl\")\n",
    "datasets00.models = [model]\n",
    "\n",
    "fit_pwl=Fit()\n",
    "result_pwl = fit_pwl.run(datasets=datasets00)\n",
    "model_pwl = model.copy()\n",
    "\n",
    "print(result_pwl)\n",
    "display(result_pwl.models.to_parameters_table())"
   ]
  },
  {
   "cell_type": "code",
   "execution_count": null,
   "id": "c8279cfa-1253-4ee7-a79c-c634df44e828",
   "metadata": {},
   "outputs": [],
   "source": [
    "# detailed info\n",
    "print(result_pwl.minuit)\n",
    "print()\n",
    "print('Covariance matrix:\\n', result_pwl.models.covariance, '\\n')\n",
    "result_pwl.models.covariance.plot_correlation()\n",
    "plt.show()"
   ]
  },
  {
   "cell_type": "code",
   "execution_count": null,
   "id": "06a61566-aa5e-4687-b094-ef015fbc49b3",
   "metadata": {},
   "outputs": [],
   "source": [
    "fig, ax = plt.subplots()\n",
    "plot_kwargs = {\n",
    "    \"energy_bounds\": [15, 100] * u.GeV,\n",
    "    \"sed_type\": \"e2dnde\",\n",
    "    \"ax\": ax,\n",
    "}\n",
    "\n",
    "model_pwl.spectral_model.plot(**plot_kwargs, label=\"Power-Law (joined)\")\n",
    "model_pwl.spectral_model.plot_error(**plot_kwargs, facecolor=\"blue\", alpha=0.3)\n",
    "magic2020_paper.plot(**plot_kwargs, ls='--', label=\"MARS/fold\")\n",
    "magic2020_paper.plot_error(**plot_kwargs, ls='--', facecolor=\"C1\")\n",
    "plt.legend()\n",
    "fig.tight_layout()\n",
    "plt.show()"
   ]
  },
  {
   "cell_type": "markdown",
   "id": "ae37b823-7104-4605-ba63-0ff3aa54553a",
   "metadata": {},
   "source": [
    "### Log-Parabola (stacked)"
   ]
  },
  {
   "cell_type": "code",
   "execution_count": null,
   "id": "727f99ad-cf05-4733-96d9-290096480365",
   "metadata": {},
   "outputs": [],
   "source": [
    "spectral_model = LogParabolaSpectralModel(\n",
    "    amplitude = 1e-9 * u.Unit(\"cm-2 s-1 TeV-1\"),\n",
    "    reference = 32.15 * u.Unit(\"GeV\"),\n",
    "    alpha = 5,\n",
    "    beta = 1,\n",
    ")\n",
    "\n",
    "model = SkyModel(spectral_model = spectral_model, name=\"logp_joint\")\n",
    "dataset_stacked.models = [model]\n",
    "\n",
    "fit_parab = Fit()\n",
    "result_parab = fit_parab.run(datasets=dataset_stacked)\n",
    "\n",
    "model_parab_stacked = model.copy()\n",
    "print(result_parab)\n",
    "display(result_parab.models.to_parameters_table())"
   ]
  },
  {
   "cell_type": "code",
   "execution_count": null,
   "id": "591f9173-5560-499f-a9da-14701832ada6",
   "metadata": {},
   "outputs": [],
   "source": [
    "# detailed info\n",
    "print(result_parab.minuit)\n",
    "print()\n",
    "print('Covariance matrix:\\n', result_pwl.models.covariance, '\\n')\n",
    "result_parab.models.covariance.plot_correlation()\n",
    "plt.show()"
   ]
  },
  {
   "cell_type": "code",
   "execution_count": null,
   "id": "704a38b7-2c8e-41fe-a424-a3e9ac2dab7a",
   "metadata": {},
   "outputs": [],
   "source": [
    "fig, ax = plt.subplots()\n",
    "\n",
    "plot_kwargs = {\n",
    "    \"energy_bounds\": [15, 100] * u.GeV,\n",
    "    \"sed_type\": \"e2dnde\",\n",
    "    \"ax\": ax,\n",
    "}\n",
    "\n",
    "# plot models\n",
    "model_pwl_stacked.spectral_model.plot(**plot_kwargs, label=\"Power law (stacked)\")\n",
    "model_pwl_stacked.spectral_model.plot_error(facecolor=\"blue\", alpha=0.3, **plot_kwargs)\n",
    "\n",
    "model_parab_stacked.spectral_model.plot(**plot_kwargs, color=\"green\", label=\"Log parabola (stacked)\")\n",
    "model_parab_stacked.spectral_model.plot_error(facecolor=\"green\", alpha=0.3, **plot_kwargs)\n",
    "\n",
    "magic2020_paper.plot(**plot_kwargs, ls='--', color=\"C1\", label=\"MARS/fold\")\n",
    "magic2020_paper.plot_error(**plot_kwargs, ls='--', facecolor=\"C1\")\n",
    "\n",
    "ax.legend()\n",
    "plt.show()"
   ]
  },
  {
   "cell_type": "markdown",
   "id": "850ff91a-6d75-435d-96bb-9e6f23c309b5",
   "metadata": {},
   "source": [
    "### Log-Parabola (joined)"
   ]
  },
  {
   "cell_type": "code",
   "execution_count": null,
   "id": "9061e3dd-4f54-4212-b28e-23b4df278cb5",
   "metadata": {},
   "outputs": [],
   "source": [
    "spectral_model = LogParabolaSpectralModel(\n",
    "    amplitude = 1e-9 * u.Unit(\"cm-2 s-1 TeV-1\"),\n",
    "    reference = 32.15 * u.Unit(\"GeV\"),\n",
    "    alpha = 5,\n",
    "    beta = 0.2,\n",
    ")\n",
    "\n",
    "model = SkyModel(spectral_model = spectral_model, name=\"logp\")\n",
    "datasets00.models = [model]\n",
    "\n",
    "fit_parab = Fit()\n",
    "result_parab = fit_parab.run(datasets=datasets00)\n",
    "\n",
    "model_parab = model.copy()\n",
    "print(result_parab)\n",
    "display(result_parab.models.to_parameters_table())"
   ]
  },
  {
   "cell_type": "code",
   "execution_count": null,
   "id": "ab8080f0-c205-4d53-8f3b-ac0ab6d70fa9",
   "metadata": {},
   "outputs": [],
   "source": [
    "# detailed info\n",
    "print(result_parab.minuit)\n",
    "print()\n",
    "print('Covariance matrix:\\n', result_pwl.models.covariance, '\\n')\n",
    "result_parab.models.covariance.plot_correlation()\n",
    "plt.show()"
   ]
  },
  {
   "cell_type": "code",
   "execution_count": null,
   "id": "862fc805-a8ea-4074-930e-041283297295",
   "metadata": {},
   "outputs": [],
   "source": [
    "fig, ax = plt.subplots()\n",
    "\n",
    "plot_kwargs = {\n",
    "    \"energy_bounds\": [15, 100] * u.GeV,\n",
    "    \"sed_type\": \"e2dnde\",\n",
    "    \"ax\": ax,\n",
    "}\n",
    "\n",
    "model_pwl.spectral_model.plot(**plot_kwargs, label=\"Power law (joined)\")\n",
    "model_pwl.spectral_model.plot_error(**plot_kwargs, facecolor=\"blue\", alpha=0.2)\n",
    "\n",
    "model_parab.spectral_model.plot(**plot_kwargs, color=\"green\",label=\"Log parabola (joined)\" )\n",
    "model_parab.spectral_model.plot_error(facecolor=\"green\", alpha=0.1, **plot_kwargs)\n",
    "\n",
    "magic2020_paper.plot(**plot_kwargs, ls='--', color=\"C1\", label=\"MARS/fold\")\n",
    "magic2020_paper.plot_error(facecolor=\"C1\", alpha=0.2, **plot_kwargs)\n",
    "\n",
    "ax.legend()\n",
    "plt.show()"
   ]
  },
  {
   "cell_type": "markdown",
   "id": "886c1c3a-91c3-40d3-ba44-f1003b0dc12b",
   "metadata": {},
   "source": [
    "## Spectral points\n",
    "Unfortunately, the gammapy spectral points algorithm is unsuitable for very steep spectra with large energy resolution and bias, which is precisely the case for pulsars. This does not stem from a technical limitation (that means: you can run the flux point maker on these data, and you will obtain results), but from an intrinsic inadeguacy of the rationale the procedure is based on.\n",
    "\n",
    "In gammapy, spectral points are determied by fitting a power-law locally tangent to the global fitted model (optionally the index can be fixed to 2 instead, i.e. a flat constant in SED) on each single bin of the counts vs. **reconstructed** energy histogram. The normalization factor of each of those power-laws is then used to make spectral points, that are attributed a range equal to the estimated energy bin they were created from. These points will be aligned to the reconstructed energy edges.\n",
    "\n",
    "When the energy bias is very large events in the reconstructed energy bin $20\\,\\text{GeV}$ to $40\\,\\text{GeV}$ in reality map to events between $10\\,\\text{GeV}$ and $30\\,\\text{GeV}$. The spectral fitting procedure of gammapy obviously accounts for this migration in the IRF, but the spectral point calculator will assign the flux computed from those events to a point (roughly) between $20\\,\\text{GeV}$ and $40\\,\\text{GeV}$. This means that altough the data effectively contains events down to $10\\,\\text{GeV}$, as can be seen by plotting the energy threshold, no spectral point can be produced down there. See for instance the LST-1 Geminga paper here: https://www.aanda.org/articles/aa/full_html/2025/06/aa54350-25/aa54350-25.html .\n",
    "\n",
    "Different groups have come up with different approaches to this issue. H.E.S.S., for instance, does not publish data-points for its pulsars, but only the spectral fits with the associated uncertainty butterflies.\n",
    "\n",
    "An alternative approach to produce spectral points within a Bayesian framework and using Markov-chain monte-carlo sampling has been put forward in the master thesis of Yunhe Wang, under my supervision. In such a Bayesian approach, setting a prior on the model \"parameters\" (the flux of each spectral point is a parameter) is mathematically equivalent to imposing a regularization procedure, as is done in MARS by the infamous CombUnfold program. The interested reader might find information in the thesis of Yunhe Wang: https://www.mpp.mpg.de/~ceribell/YunheWang_thesis_20250214.pdf"
   ]
  }
 ],
 "metadata": {
  "kernelspec": {
   "display_name": "Python 3 (ipykernel)",
   "language": "python",
   "name": "python3"
  },
  "language_info": {
   "codemirror_mode": {
    "name": "ipython",
    "version": 3
   },
   "file_extension": ".py",
   "mimetype": "text/x-python",
   "name": "python",
   "nbconvert_exporter": "python",
   "pygments_lexer": "ipython3",
   "version": "3.11.12"
  }
 },
 "nbformat": 4,
 "nbformat_minor": 5
}
